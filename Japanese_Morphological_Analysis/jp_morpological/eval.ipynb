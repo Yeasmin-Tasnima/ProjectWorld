{
 "cells": [
  {
   "cell_type": "code",
   "execution_count": 19,
   "metadata": {},
   "outputs": [
    {
     "name": "stdout",
     "output_type": "stream",
     "text": [
      "Requirement already satisfied: mecab-python3 in /home/tasnima/anaconda3/lib/python3.7/site-packages (1.0.1)\n",
      "Requirement already satisfied: unidic-lite in /home/tasnima/anaconda3/lib/python3.7/site-packages (1.0.7)\n"
     ]
    }
   ],
   "source": [
    "!pip install mecab-python3\n",
    "!pip install unidic-lite"
   ]
  },
  {
   "cell_type": "code",
   "execution_count": 20,
   "metadata": {},
   "outputs": [],
   "source": [
    "import matplotlib.pyplot as plt\n",
    "import MeCab"
   ]
  },
  {
   "cell_type": "code",
   "execution_count": 24,
   "metadata": {},
   "outputs": [],
   "source": [
    "def find_tokens(text, keywords=None):\n",
    "    if keywords is None: keywords = []\n",
    "    mt = MeCab.Tagger('-r /dev/null /usr/local/lib/mecab/dic/mydic')\n",
    "    mt.parse('')\n",
    "    parsed = mt.parseToNode(text)\n",
    "    components = []\n",
    "    while parsed:\n",
    "        if parsed.surface != '' and parsed.feature.split(',')[0] != \"記号\":\n",
    "            components.append((parsed.surface, parsed.feature.split(',')[0]))\n",
    "        parsed = parsed.next\n",
    "    for a_keyword in keywords:\n",
    "        cindex = 0\n",
    "        while True:\n",
    "            if cindex >= len(components):\n",
    "                break\n",
    "            temp_key = a_keyword\n",
    "            if components[cindex][0] == temp_key:\n",
    "                cindex += 1\n",
    "                continue\n",
    "            elif components[cindex][0] == temp_key[:len(components[cindex][0])]:\n",
    "                match = False\n",
    "                temp_index = cindex\n",
    "                temp_key = temp_key.replace(components[temp_index][0], '', 1)\n",
    "                while True:\n",
    "                    temp_index += 1\n",
    "                    if temp_index >= len(components):\n",
    "                        break\n",
    "                    else:\n",
    "                        if components[temp_index][0] == temp_key[:len(components[temp_index][0])]:\n",
    "                            temp_key = temp_key.replace(components[temp_index][0], '', 1)\n",
    "                            if temp_key == '':\n",
    "                                match = True\n",
    "                                break\n",
    "                            else:\n",
    "                                continue\n",
    "                        else:\n",
    "                            break\n",
    "                if match:\n",
    "                    components[cindex] = (a_keyword, 'PROJECT_KEYWORD')\n",
    "                    del components[cindex+1:temp_index+1]\n",
    "                cindex += 1\n",
    "                continue\n",
    "            else:\n",
    "                cindex += 1\n",
    "                continue\n",
    "\n",
    "    return components"
   ]
  },
  {
   "cell_type": "code",
   "execution_count": 25,
   "metadata": {},
   "outputs": [],
   "source": [
    "def analyze(text):\n",
    "    res = find_tokens(text)\n",
    "    return res"
   ]
  },
  {
   "cell_type": "code",
   "execution_count": 26,
   "metadata": {},
   "outputs": [],
   "source": [
    "import time\n",
    "\n",
    "lens = [25, 50, 100, 200, 300, 400, 500, 600, 700, 800, 900, 1000]\n",
    "times = []\n",
    "\n",
    "\n",
    "for x in lens:\n",
    "    t = 0\n",
    "    for k in range(5):\n",
    "        fname = 'texts/' + str(x) + '_' + str(k%5)\n",
    "        with open(fname, 'r', encoding='utf-8') as f:\n",
    "            text = f.read()\n",
    "            ts = time.time_ns()\n",
    "            res = analyze(text)\n",
    "            dt = time.time_ns() - ts\n",
    "            t += dt / 1000000\n",
    "    t /= 5\n",
    "    times.append(t)"
   ]
  },
  {
   "cell_type": "code",
   "execution_count": 27,
   "metadata": {},
   "outputs": [
    {
     "data": {
      "text/plain": [
       "[<matplotlib.lines.Line2D at 0x7ff8f461eb38>]"
      ]
     },
     "execution_count": 27,
     "metadata": {},
     "output_type": "execute_result"
    },
    {
     "data": {
      "image/png": "[encoded data removed]",
      "text/plain": [
       "<Figure size 432x288 with 1 Axes>"
      ]
     },
     "metadata": {
      "needs_background": "light"
     },
     "output_type": "display_data"
    }
   ],
   "source": [
    "plt.plot(lens, times)"
   ]
  },
  {
   "cell_type": "code",
   "execution_count": null,
   "metadata": {},
   "outputs": [],
   "source": []
  }
 ],
 "metadata": {
  "kernelspec": {
   "display_name": "Python 3",
   "language": "python",
   "name": "python3"
  },
  "language_info": {
   "codemirror_mode": {
    "name": "ipython",
    "version": 3
   },
   "file_extension": ".py",
   "mimetype": "text/x-python",
   "name": "python",
   "nbconvert_exporter": "python",
   "pygments_lexer": "ipython3",
   "version": "3.7.3"
  }
 },
 "nbformat": 4,
 "nbformat_minor": 4
}
