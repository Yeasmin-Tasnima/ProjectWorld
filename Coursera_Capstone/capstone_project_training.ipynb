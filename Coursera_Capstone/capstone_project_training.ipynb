{
 "cells": [
  {
   "cell_type": "code",
   "execution_count": 1,
   "metadata": {
    "colab": {},
    "colab_type": "code",
    "id": "F8spRCPAyIpz"
   },
   "outputs": [],
   "source": [
    "import pandas as pd\n",
    "import sklearn.utils as skutils"
   ]
  },
  {
   "cell_type": "code",
   "execution_count": 2,
   "metadata": {
    "colab": {
     "base_uri": "https://localhost:8080/",
     "height": 50
    },
    "colab_type": "code",
    "id": "mCf4vuGtyhAG",
    "outputId": "3771b19c-30a3-435e-ff73-8d868adbd38d"
   },
   "outputs": [
    {
     "name": "stderr",
     "output_type": "stream",
     "text": [
      "/home/tasnima/anaconda3/lib/python3.7/site-packages/IPython/core/interactiveshell.py:3049: DtypeWarning: Columns (33) have mixed types.Specify dtype option on import or set low_memory=False.\n",
      "  interactivity=interactivity, compiler=compiler, result=result)\n"
     ]
    }
   ],
   "source": [
    "df = pd.read_csv('Data-Collisions.csv')"
   ]
  },
  {
   "cell_type": "markdown",
   "metadata": {
    "colab_type": "text",
    "id": "f2hBVqHQzbEO"
   },
   "source": [
    "##Data Preprocessing"
   ]
  },
  {
   "cell_type": "markdown",
   "metadata": {
    "colab_type": "text",
    "id": "9pnf8Bt1zQbu"
   },
   "source": [
    "###Replace UNDERINFL column with proper values"
   ]
  },
  {
   "cell_type": "code",
   "execution_count": 3,
   "metadata": {
    "colab": {},
    "colab_type": "code",
    "id": "jrZeiqRozLR3"
   },
   "outputs": [],
   "source": [
    "df.replace({'UNDERINFL': {'0':'N', '1':'Y'}}, inplace=True)"
   ]
  },
  {
   "cell_type": "code",
   "execution_count": 4,
   "metadata": {},
   "outputs": [],
   "source": [
    "###convert the type of this feature from object to numeric."
   ]
  },
  {
   "cell_type": "code",
   "execution_count": 5,
   "metadata": {},
   "outputs": [],
   "source": [
    "df['ST_COLCODE'] = pd.to_numeric(df['ST_COLCODE'], errors='coerce')"
   ]
  },
  {
   "cell_type": "code",
   "execution_count": 6,
   "metadata": {},
   "outputs": [],
   "source": [
    "###Split INCDATE feature into three of types: 'YEAR', 'MONTH' and 'DAY'."
   ]
  },
  {
   "cell_type": "code",
   "execution_count": 7,
   "metadata": {},
   "outputs": [],
   "source": [
    "df['INCDATE'] = df['INCDATE'].str[:10]\n",
    "df[['YEAR', 'MONTH', 'DAY']] = df['INCDATE'].str.split('/', expand=True)"
   ]
  },
  {
   "cell_type": "markdown",
   "metadata": {
    "colab_type": "text",
    "id": "CIUHeBZD0Dft"
   },
   "source": [
    "###Downsample"
   ]
  },
  {
   "cell_type": "code",
   "execution_count": 8,
   "metadata": {
    "colab": {
     "base_uri": "https://localhost:8080/",
     "height": 67
    },
    "colab_type": "code",
    "id": "JaD1okjtz1T0",
    "outputId": "1bc12ddb-2aec-41af-d63c-3259be8199db"
   },
   "outputs": [
    {
     "data": {
      "text/plain": [
       "2    58188\n",
       "1    58188\n",
       "Name: SEVERITYCODE, dtype: int64"
      ]
     },
     "execution_count": 8,
     "metadata": {},
     "output_type": "execute_result"
    }
   ],
   "source": [
    "df_prop_dam = df[df.SEVERITYCODE==1]\n",
    "df_injury = df[df.SEVERITYCODE==2]\n",
    "\n",
    "df_prop_dam_downsample = skutils.resample(df_prop_dam, \n",
    "                                         replace = False, \n",
    "                                         n_samples=df_injury['SEVERITYCODE'].count(), \n",
    "                                         random_state = 42)\n",
    "\n",
    "df_downsample = pd.concat([df_prop_dam_downsample, df_injury])\n",
    "df_downsample['SEVERITYCODE'].value_counts()"
   ]
  },
  {
   "cell_type": "markdown",
   "metadata": {
    "colab_type": "text",
    "id": "lNpBUww7zgDm"
   },
   "source": [
    "###Upsample"
   ]
  },
  {
   "cell_type": "code",
   "execution_count": 9,
   "metadata": {
    "colab": {
     "base_uri": "https://localhost:8080/",
     "height": 67
    },
    "colab_type": "code",
    "id": "rIoZ9fO2y1sr",
    "outputId": "e91ec0cd-407b-45ef-d89b-74dbcff56141"
   },
   "outputs": [
    {
     "data": {
      "text/plain": [
       "2    136485\n",
       "1    136485\n",
       "Name: SEVERITYCODE, dtype: int64"
      ]
     },
     "execution_count": 9,
     "metadata": {},
     "output_type": "execute_result"
    }
   ],
   "source": [
    "df_prop_dam = df[df.SEVERITYCODE==1]\n",
    "df_injury = df[df.SEVERITYCODE==2]\n",
    "\n",
    "df_injury_upsampled = skutils.resample(df_injury,\n",
    "                                       replace=True,\n",
    "                                       n_samples=df_prop_dam['SEVERITYCODE'].count(),\n",
    "                                       random_state=321)\n",
    "\n",
    "df_upsample = pd.concat([df_prop_dam, df_injury_upsampled])\n",
    "df_upsample['SEVERITYCODE'].value_counts()"
   ]
  },
  {
   "cell_type": "markdown",
   "metadata": {
    "colab_type": "text",
    "id": "Ee3HMFIh1SuX"
   },
   "source": [
    "###Null Replace"
   ]
  },
  {
   "cell_type": "markdown",
   "metadata": {
    "colab_type": "text",
    "id": "mvhBNcoAbt1O"
   },
   "source": [
    ">In default data"
   ]
  },
  {
   "cell_type": "code",
   "execution_count": 10,
   "metadata": {
    "colab": {},
    "colab_type": "code",
    "id": "5z5UXNBrbvlQ"
   },
   "outputs": [
    {
     "data": {
      "text/plain": [
       "SEVERITYCODE      0\n",
       "X                 0\n",
       "Y                 0\n",
       "OBJECTID          0\n",
       "INCKEY            0\n",
       "COLDETKEY         0\n",
       "REPORTNO          0\n",
       "STATUS            0\n",
       "ADDRTYPE          0\n",
       "INTKEY            0\n",
       "LOCATION          0\n",
       "EXCEPTRSNCODE     0\n",
       "EXCEPTRSNDESC     0\n",
       "SEVERITYCODE.1    0\n",
       "SEVERITYDESC      0\n",
       "COLLISIONTYPE     0\n",
       "PERSONCOUNT       0\n",
       "PEDCOUNT          0\n",
       "PEDCYLCOUNT       0\n",
       "VEHCOUNT          0\n",
       "INCDATE           0\n",
       "INCDTTM           0\n",
       "JUNCTIONTYPE      0\n",
       "SDOT_COLCODE      0\n",
       "SDOT_COLDESC      0\n",
       "INATTENTIONIND    0\n",
       "UNDERINFL         0\n",
       "WEATHER           0\n",
       "ROADCOND          0\n",
       "LIGHTCOND         0\n",
       "PEDROWNOTGRNT     0\n",
       "SDOTCOLNUM        0\n",
       "SPEEDING          0\n",
       "ST_COLCODE        0\n",
       "ST_COLDESC        0\n",
       "SEGLANEKEY        0\n",
       "CROSSWALKKEY      0\n",
       "HITPARKEDCAR      0\n",
       "YEAR              0\n",
       "MONTH             0\n",
       "DAY               0\n",
       "dtype: int64"
      ]
     },
     "execution_count": 10,
     "metadata": {},
     "output_type": "execute_result"
    }
   ],
   "source": [
    "for column in df:\n",
    "    if df[column].isnull().sum() > 0:\n",
    "        df[column].fillna(df[column].mode()[0], inplace=True)\n",
    "df.isnull().sum()"
   ]
  },
  {
   "cell_type": "markdown",
   "metadata": {
    "colab_type": "text",
    "id": "zxw9TsFH1e6q"
   },
   "source": [
    ">In downsampled data"
   ]
  },
  {
   "cell_type": "code",
   "execution_count": 11,
   "metadata": {
    "colab": {
     "base_uri": "https://localhost:8080/",
     "height": 672
    },
    "colab_type": "code",
    "id": "vIbehTSN1Qky",
    "outputId": "3a08f1b7-ee28-4a1a-bae8-93bd63868d1d"
   },
   "outputs": [
    {
     "data": {
      "text/plain": [
       "SEVERITYCODE      0\n",
       "X                 0\n",
       "Y                 0\n",
       "OBJECTID          0\n",
       "INCKEY            0\n",
       "COLDETKEY         0\n",
       "REPORTNO          0\n",
       "STATUS            0\n",
       "ADDRTYPE          0\n",
       "INTKEY            0\n",
       "LOCATION          0\n",
       "EXCEPTRSNCODE     0\n",
       "EXCEPTRSNDESC     0\n",
       "SEVERITYCODE.1    0\n",
       "SEVERITYDESC      0\n",
       "COLLISIONTYPE     0\n",
       "PERSONCOUNT       0\n",
       "PEDCOUNT          0\n",
       "PEDCYLCOUNT       0\n",
       "VEHCOUNT          0\n",
       "INCDATE           0\n",
       "INCDTTM           0\n",
       "JUNCTIONTYPE      0\n",
       "SDOT_COLCODE      0\n",
       "SDOT_COLDESC      0\n",
       "INATTENTIONIND    0\n",
       "UNDERINFL         0\n",
       "WEATHER           0\n",
       "ROADCOND          0\n",
       "LIGHTCOND         0\n",
       "PEDROWNOTGRNT     0\n",
       "SDOTCOLNUM        0\n",
       "SPEEDING          0\n",
       "ST_COLCODE        0\n",
       "ST_COLDESC        0\n",
       "SEGLANEKEY        0\n",
       "CROSSWALKKEY      0\n",
       "HITPARKEDCAR      0\n",
       "YEAR              0\n",
       "MONTH             0\n",
       "DAY               0\n",
       "dtype: int64"
      ]
     },
     "execution_count": 11,
     "metadata": {},
     "output_type": "execute_result"
    }
   ],
   "source": [
    "for column in df_downsample:\n",
    "    if df_downsample[column].isnull().sum() > 0:\n",
    "        df_downsample[column].fillna(df_downsample[column].mode()[0], inplace=True)\n",
    "df_downsample.isnull().sum()"
   ]
  },
  {
   "cell_type": "markdown",
   "metadata": {
    "colab_type": "text",
    "id": "aOw_BEll1olu"
   },
   "source": [
    ">In upsampled data"
   ]
  },
  {
   "cell_type": "code",
   "execution_count": 12,
   "metadata": {
    "colab": {},
    "colab_type": "code",
    "id": "FqEfGouE1pLy"
   },
   "outputs": [
    {
     "data": {
      "text/plain": [
       "SEVERITYCODE      0\n",
       "X                 0\n",
       "Y                 0\n",
       "OBJECTID          0\n",
       "INCKEY            0\n",
       "COLDETKEY         0\n",
       "REPORTNO          0\n",
       "STATUS            0\n",
       "ADDRTYPE          0\n",
       "INTKEY            0\n",
       "LOCATION          0\n",
       "EXCEPTRSNCODE     0\n",
       "EXCEPTRSNDESC     0\n",
       "SEVERITYCODE.1    0\n",
       "SEVERITYDESC      0\n",
       "COLLISIONTYPE     0\n",
       "PERSONCOUNT       0\n",
       "PEDCOUNT          0\n",
       "PEDCYLCOUNT       0\n",
       "VEHCOUNT          0\n",
       "INCDATE           0\n",
       "INCDTTM           0\n",
       "JUNCTIONTYPE      0\n",
       "SDOT_COLCODE      0\n",
       "SDOT_COLDESC      0\n",
       "INATTENTIONIND    0\n",
       "UNDERINFL         0\n",
       "WEATHER           0\n",
       "ROADCOND          0\n",
       "LIGHTCOND         0\n",
       "PEDROWNOTGRNT     0\n",
       "SDOTCOLNUM        0\n",
       "SPEEDING          0\n",
       "ST_COLCODE        0\n",
       "ST_COLDESC        0\n",
       "SEGLANEKEY        0\n",
       "CROSSWALKKEY      0\n",
       "HITPARKEDCAR      0\n",
       "YEAR              0\n",
       "MONTH             0\n",
       "DAY               0\n",
       "dtype: int64"
      ]
     },
     "execution_count": 12,
     "metadata": {},
     "output_type": "execute_result"
    }
   ],
   "source": [
    "for column in df_upsample:\n",
    "    if df_upsample[column].isnull().sum() > 0:\n",
    "        df_upsample[column].fillna(df_upsample[column].mode()[0], inplace=True)\n",
    "df_upsample.isnull().sum()"
   ]
  },
  {
   "cell_type": "markdown",
   "metadata": {
    "colab_type": "text",
    "id": "hee606nu2ZYO"
   },
   "source": [
    "##Feature Set"
   ]
  },
  {
   "cell_type": "code",
   "execution_count": 13,
   "metadata": {
    "colab": {},
    "colab_type": "code",
    "id": "jI7h_0ZB2b-b"
   },
   "outputs": [],
   "source": [
    "set_1 = ['COLLISIONTYPE', 'PERSONCOUNT', 'VEHCOUNT', 'SEVERITYCODE']\n",
    "set_2 = ['COLLISIONTYPE', 'PERSONCOUNT', 'JUNCTIONTYPE', 'SEVERITYCODE']\n",
    "set_3 = ['PERSONCOUNT', 'PEDCOUNT', 'PEDCYLCOUNT', 'VEHCOUNT', 'SDOT_COLCODE', \n",
    "         'UNDERINFL', 'ST_COLCODE', 'SEGLANEKEY', 'CROSSWALKKEY', 'HITPARKEDCAR', \n",
    "         'INCDATE', 'ADDRTYPE', 'COLLISIONTYPE', 'JUNCTIONTYPE', 'WEATHER', \n",
    "         'ROADCOND', 'LIGHTCOND', 'SEVERITYCODE']\n",
    "set_4 = ['COLLISIONTYPE', 'SEVERITYCODE']"
   ]
  },
  {
   "cell_type": "code",
   "execution_count": 14,
   "metadata": {},
   "outputs": [],
   "source": [
    "###Encoding features of set_3"
   ]
  },
  {
   "cell_type": "code",
   "execution_count": 15,
   "metadata": {},
   "outputs": [],
   "source": [
    "encoding_set_3 = ['UNDERINFL', 'HITPARKEDCAR', 'ADDRTYPE', 'COLLISIONTYPE', 'JUNCTIONTYPE', 'WEATHER', 'ROADCOND', 'LIGHTCOND']"
   ]
  },
  {
   "cell_type": "code",
   "execution_count": 16,
   "metadata": {},
   "outputs": [],
   "source": [
    "###Extend some splitted features of 'INCDATE'"
   ]
  },
  {
   "cell_type": "code",
   "execution_count": 17,
   "metadata": {},
   "outputs": [],
   "source": [
    "set_3[:0] = ['YEAR', 'MONTH', 'DAY']\n",
    "set_3.remove('INCDATE')"
   ]
  },
  {
   "cell_type": "markdown",
   "metadata": {
    "colab_type": "text",
    "id": "iYWru-2q3jO_"
   },
   "source": [
    "##Training"
   ]
  },
  {
   "cell_type": "code",
   "execution_count": 18,
   "metadata": {
    "colab": {},
    "colab_type": "code",
    "id": "-qx8X5yhG99v"
   },
   "outputs": [],
   "source": [
    "from sklearn.model_selection import train_test_split\n",
    "from sklearn.metrics import roc_auc_score, confusion_matrix, classification_report"
   ]
  },
  {
   "cell_type": "markdown",
   "metadata": {
    "colab_type": "text",
    "id": "ZsQO9HQ3RAIA"
   },
   "source": [
    ">Train test split along with One Hot Encoding"
   ]
  },
  {
   "cell_type": "code",
   "execution_count": 19,
   "metadata": {
    "colab": {},
    "colab_type": "code",
    "id": "vh4TsbodOzAd"
   },
   "outputs": [],
   "source": [
    "def split_data(dataset, columns_for_one_hot):\n",
    "    X = dataset.iloc[:, :-1]\n",
    "    Y = dataset.iloc[:, -1:]\n",
    "    X = pd.get_dummies(X, columns=columns_for_one_hot, drop_first=True)\n",
    "    print(X.head())\n",
    "    X_train, X_test, y_train, y_test = train_test_split(X, Y, test_size=0.2, random_state=0)\n",
    "    print ('Train set:', X_train.shape,  y_train.shape)\n",
    "    print ('Test set:', X_test.shape,  y_test.shape)\n",
    "    return X_train, X_test, y_train, y_test"
   ]
  },
  {
   "cell_type": "markdown",
   "metadata": {
    "colab_type": "text",
    "id": "XJL3q5973yoj"
   },
   "source": [
    "###Logistic Regression"
   ]
  },
  {
   "cell_type": "code",
   "execution_count": 20,
   "metadata": {
    "colab": {},
    "colab_type": "code",
    "id": "0942IFco3hQH"
   },
   "outputs": [],
   "source": [
    "from sklearn.linear_model import LogisticRegression\n",
    "\n",
    "def train_logistic_regression(X_train, X_test, y_train, y_test, solver='liblinear'):\n",
    "    lr_classifier = LogisticRegression(solver=solver, random_state=42)\n",
    "    \n",
    "    lr_classifier.fit(X_train, y_train.values.ravel())\n",
    "    \n",
    "    y_pred = lr_classifier.predict(X_test)\n",
    "    score = lr_classifier.score(X_test, y_test)\n",
    "    roc_score = roc_auc_score(y_test, y_pred)\n",
    "\n",
    "    print(f'Score: {round(score, 4)}')\n",
    "    print(f'ROC AUC Score: {round(roc_score, 4)}')\n",
    "\n",
    "    print('\\nConfusion Matrix')\n",
    "    print(confusion_matrix(y_test, y_pred))\n",
    "\n",
    "    print('\\nClassification Report')\n",
    "    print(classification_report(y_test, y_pred))"
   ]
  },
  {
   "cell_type": "markdown",
   "metadata": {
    "colab_type": "text",
    "id": "AVkOjjVzc7NU"
   },
   "source": [
    "####Data: Default, Feature Set: Set 3, Solver: liblinear"
   ]
  },
  {
   "cell_type": "code",
   "execution_count": 21,
   "metadata": {
    "colab": {},
    "colab_type": "code",
    "id": "8M2LF0aVc-aW"
   },
   "outputs": [
    {
     "name": "stdout",
     "output_type": "stream",
     "text": [
      "   YEAR MONTH DAY  PERSONCOUNT  PEDCOUNT  PEDCYLCOUNT  VEHCOUNT  SDOT_COLCODE  \\\n",
      "0  2013    03  27            2         0            0         2            11   \n",
      "1  2006    12  20            2         0            0         2            16   \n",
      "2  2004    11  18            4         0            0         3            14   \n",
      "3  2013    03  29            3         0            0         3            11   \n",
      "4  2004    01  28            2         0            0         2            11   \n",
      "\n",
      "   ST_COLCODE  SEGLANEKEY  ...  ROADCOND_Unknown  ROADCOND_Wet  \\\n",
      "0        10.0           0  ...                 0             1   \n",
      "1        11.0           0  ...                 0             1   \n",
      "2        32.0           0  ...                 0             0   \n",
      "3        23.0           0  ...                 0             0   \n",
      "4        10.0           0  ...                 0             1   \n",
      "\n",
      "   LIGHTCOND_Dark - Street Lights Off  LIGHTCOND_Dark - Street Lights On  \\\n",
      "0                                   0                                  0   \n",
      "1                                   0                                  1   \n",
      "2                                   0                                  0   \n",
      "3                                   0                                  0   \n",
      "4                                   0                                  0   \n",
      "\n",
      "   LIGHTCOND_Dark - Unknown Lighting  LIGHTCOND_Dawn  LIGHTCOND_Daylight  \\\n",
      "0                                  0               0                   1   \n",
      "1                                  0               0                   0   \n",
      "2                                  0               0                   1   \n",
      "3                                  0               0                   1   \n",
      "4                                  0               0                   1   \n",
      "\n",
      "   LIGHTCOND_Dusk  LIGHTCOND_Other  LIGHTCOND_Unknown  \n",
      "0               0                0                  0  \n",
      "1               0                0                  0  \n",
      "2               0                0                  0  \n",
      "3               0                0                  0  \n",
      "4               0                0                  0  \n",
      "\n",
      "[5 rows x 56 columns]\n",
      "Train set: (155738, 56) (155738, 1)\n",
      "Test set: (38935, 56) (38935, 1)\n",
      "Score: 0.7422\n",
      "ROC AUC Score: 0.5874\n",
      "\n",
      "Confusion Matrix\n",
      "[[26536   776]\n",
      " [ 9262  2361]]\n",
      "\n",
      "Classification Report\n",
      "              precision    recall  f1-score   support\n",
      "\n",
      "           1       0.74      0.97      0.84     27312\n",
      "           2       0.75      0.20      0.32     11623\n",
      "\n",
      "    accuracy                           0.74     38935\n",
      "   macro avg       0.75      0.59      0.58     38935\n",
      "weighted avg       0.74      0.74      0.69     38935\n",
      "\n"
     ]
    }
   ],
   "source": [
    "X_train, X_test, y_train, y_test = split_data(df[set_3], encoding_set_3)\n",
    "\n",
    "train_logistic_regression(X_train, X_test, y_train, y_test)"
   ]
  },
  {
   "cell_type": "code",
   "execution_count": 22,
   "metadata": {},
   "outputs": [],
   "source": [
    "####Data: Downsampled, Feature Set: Set 3, Solver: liblinear"
   ]
  },
  {
   "cell_type": "code",
   "execution_count": 23,
   "metadata": {},
   "outputs": [
    {
     "name": "stdout",
     "output_type": "stream",
     "text": [
      "        YEAR MONTH DAY  PERSONCOUNT  PEDCOUNT  PEDCYLCOUNT  VEHCOUNT  \\\n",
      "8105    2004    07  31            2         0            0         2   \n",
      "76753   2009    12  14            2         0            0         2   \n",
      "113125  2012    06  26            2         0            0         2   \n",
      "21423   2005    05  09            2         0            0         2   \n",
      "24355   2005    03  22            2         0            0         2   \n",
      "\n",
      "        SDOT_COLCODE  ST_COLCODE  SEGLANEKEY  ...  ROADCOND_Unknown  \\\n",
      "8105              13        32.0           0  ...                 0   \n",
      "76753             11        10.0           0  ...                 0   \n",
      "113125            11        28.0           0  ...                 0   \n",
      "21423             14        32.0           0  ...                 0   \n",
      "24355             11        21.0           0  ...                 0   \n",
      "\n",
      "        ROADCOND_Wet  LIGHTCOND_Dark - Street Lights Off  \\\n",
      "8105               0                                   0   \n",
      "76753              1                                   0   \n",
      "113125             1                                   0   \n",
      "21423              1                                   0   \n",
      "24355              0                                   0   \n",
      "\n",
      "        LIGHTCOND_Dark - Street Lights On  LIGHTCOND_Dark - Unknown Lighting  \\\n",
      "8105                                    0                                  0   \n",
      "76753                                   1                                  0   \n",
      "113125                                  0                                  0   \n",
      "21423                                   1                                  0   \n",
      "24355                                   0                                  0   \n",
      "\n",
      "        LIGHTCOND_Dawn  LIGHTCOND_Daylight  LIGHTCOND_Dusk  LIGHTCOND_Other  \\\n",
      "8105                 0                   0               0                0   \n",
      "76753                0                   0               0                0   \n",
      "113125               0                   1               0                0   \n",
      "21423                0                   0               0                0   \n",
      "24355                0                   1               0                0   \n",
      "\n",
      "        LIGHTCOND_Unknown  \n",
      "8105                    1  \n",
      "76753                   0  \n",
      "113125                  0  \n",
      "21423                   0  \n",
      "24355                   0  \n",
      "\n",
      "[5 rows x 56 columns]\n",
      "Train set: (93100, 56) (93100, 1)\n",
      "Test set: (23276, 56) (23276, 1)\n",
      "Score: 0.6365\n",
      "ROC AUC Score: 0.6358\n",
      "\n",
      "Confusion Matrix\n",
      "[[6507 5005]\n",
      " [3455 8309]]\n",
      "\n",
      "Classification Report\n",
      "              precision    recall  f1-score   support\n",
      "\n",
      "           1       0.65      0.57      0.61     11512\n",
      "           2       0.62      0.71      0.66     11764\n",
      "\n",
      "    accuracy                           0.64     23276\n",
      "   macro avg       0.64      0.64      0.63     23276\n",
      "weighted avg       0.64      0.64      0.63     23276\n",
      "\n"
     ]
    }
   ],
   "source": [
    "X_train, X_test, y_train, y_test = split_data(df_downsample[set_3], encoding_set_3)\n",
    "\n",
    "train_logistic_regression(X_train, X_test, y_train, y_test)"
   ]
  },
  {
   "cell_type": "markdown",
   "metadata": {
    "colab_type": "text",
    "id": "oAB4CqCucAGN"
   },
   "source": [
    "####Data: Upsampled, Feature Set: Set 2, Solver: liblinear"
   ]
  },
  {
   "cell_type": "code",
   "execution_count": null,
   "metadata": {
    "colab": {},
    "colab_type": "code",
    "id": "C3kWkZwHb_tw"
   },
   "outputs": [],
   "source": [
    "X_train, X_test, y_train, y_test = split_data(df_upsample[set_2], ['COLLISIONTYPE', 'JUNCTIONTYPE'])\n",
    "\n",
    "train_logistic_regression(X_train, X_test, y_train, y_test)"
   ]
  },
  {
   "cell_type": "markdown",
   "metadata": {
    "colab_type": "text",
    "id": "-ElXT3lw4HVh"
   },
   "source": [
    "###Random Forest"
   ]
  },
  {
   "cell_type": "code",
   "execution_count": 24,
   "metadata": {
    "colab": {},
    "colab_type": "code",
    "id": "zMnqoKIn4Kyb"
   },
   "outputs": [],
   "source": [
    "from sklearn.ensemble import RandomForestClassifier\n",
    "\n",
    "def train_random_forest(X_train, X_test, y_train, y_test):\n",
    "    rf_classifier = RandomForestClassifier()\n",
    "    \n",
    "    rf_classifier.fit(X_train, y_train.values.ravel())\n",
    "    \n",
    "    y_pred = rf_classifier.predict(X_test)\n",
    "    score = rf_classifier.score(X_test, y_test)\n",
    "    roc_score = roc_auc_score(y_test, y_pred)\n",
    "\n",
    "    print(f'Score: {round(score, 4)}')\n",
    "    print(f'ROC AUC Score: {round(roc_score, 4)}')\n",
    "\n",
    "    print('\\nConfusion Matrix')\n",
    "    print(confusion_matrix(y_test, y_pred))\n",
    "\n",
    "    print('\\nClassification Report')\n",
    "    print(classification_report(y_test, y_pred))"
   ]
  },
  {
   "cell_type": "markdown",
   "metadata": {
    "colab_type": "text",
    "id": "2i8r9csWcmYu"
   },
   "source": [
    "#### Data: Default, Feature Set: Set 3"
   ]
  },
  {
   "cell_type": "code",
   "execution_count": 26,
   "metadata": {
    "colab": {},
    "colab_type": "code",
    "id": "XMGJXNqncnSN"
   },
   "outputs": [
    {
     "name": "stdout",
     "output_type": "stream",
     "text": [
      "   YEAR MONTH DAY  PERSONCOUNT  PEDCOUNT  PEDCYLCOUNT  VEHCOUNT  SDOT_COLCODE  \\\n",
      "0  2013    03  27            2         0            0         2            11   \n",
      "1  2006    12  20            2         0            0         2            16   \n",
      "2  2004    11  18            4         0            0         3            14   \n",
      "3  2013    03  29            3         0            0         3            11   \n",
      "4  2004    01  28            2         0            0         2            11   \n",
      "\n",
      "   ST_COLCODE  SEGLANEKEY  ...  ROADCOND_Unknown  ROADCOND_Wet  \\\n",
      "0        10.0           0  ...                 0             1   \n",
      "1        11.0           0  ...                 0             1   \n",
      "2        32.0           0  ...                 0             0   \n",
      "3        23.0           0  ...                 0             0   \n",
      "4        10.0           0  ...                 0             1   \n",
      "\n",
      "   LIGHTCOND_Dark - Street Lights Off  LIGHTCOND_Dark - Street Lights On  \\\n",
      "0                                   0                                  0   \n",
      "1                                   0                                  1   \n",
      "2                                   0                                  0   \n",
      "3                                   0                                  0   \n",
      "4                                   0                                  0   \n",
      "\n",
      "   LIGHTCOND_Dark - Unknown Lighting  LIGHTCOND_Dawn  LIGHTCOND_Daylight  \\\n",
      "0                                  0               0                   1   \n",
      "1                                  0               0                   0   \n",
      "2                                  0               0                   1   \n",
      "3                                  0               0                   1   \n",
      "4                                  0               0                   1   \n",
      "\n",
      "   LIGHTCOND_Dusk  LIGHTCOND_Other  LIGHTCOND_Unknown  \n",
      "0               0                0                  0  \n",
      "1               0                0                  0  \n",
      "2               0                0                  0  \n",
      "3               0                0                  0  \n",
      "4               0                0                  0  \n",
      "\n",
      "[5 rows x 56 columns]\n",
      "Train set: (155738, 56) (155738, 1)\n",
      "Test set: (38935, 56) (38935, 1)\n"
     ]
    },
    {
     "name": "stderr",
     "output_type": "stream",
     "text": [
      "/home/tasnima/anaconda3/lib/python3.7/site-packages/sklearn/ensemble/forest.py:245: FutureWarning: The default value of n_estimators will change from 10 in version 0.20 to 100 in 0.22.\n",
      "  \"10 in version 0.20 to 100 in 0.22.\", FutureWarning)\n"
     ]
    },
    {
     "name": "stdout",
     "output_type": "stream",
     "text": [
      "Score: 0.7322\n",
      "ROC AUC Score: 0.6437\n",
      "\n",
      "Confusion Matrix\n",
      "[[23582  3730]\n",
      " [ 6696  4927]]\n",
      "\n",
      "Classification Report\n",
      "              precision    recall  f1-score   support\n",
      "\n",
      "           1       0.78      0.86      0.82     27312\n",
      "           2       0.57      0.42      0.49     11623\n",
      "\n",
      "    accuracy                           0.73     38935\n",
      "   macro avg       0.67      0.64      0.65     38935\n",
      "weighted avg       0.72      0.73      0.72     38935\n",
      "\n"
     ]
    }
   ],
   "source": [
    "X_train, X_test, y_train, y_test = split_data(df[set_3], encoding_set_3)\n",
    "\n",
    "train_random_forest(X_train, X_test, y_train, y_test)"
   ]
  },
  {
   "cell_type": "markdown",
   "metadata": {
    "colab_type": "text",
    "id": "HPuuOKcW6JBn"
   },
   "source": [
    "#### Data: Downsampled, Feature Set: Set 3"
   ]
  },
  {
   "cell_type": "code",
   "execution_count": 25,
   "metadata": {
    "colab": {},
    "colab_type": "code",
    "id": "6_vFWm8E6E6-"
   },
   "outputs": [
    {
     "name": "stdout",
     "output_type": "stream",
     "text": [
      "        YEAR MONTH DAY  PERSONCOUNT  PEDCOUNT  PEDCYLCOUNT  VEHCOUNT  \\\n",
      "8105    2004    07  31            2         0            0         2   \n",
      "76753   2009    12  14            2         0            0         2   \n",
      "113125  2012    06  26            2         0            0         2   \n",
      "21423   2005    05  09            2         0            0         2   \n",
      "24355   2005    03  22            2         0            0         2   \n",
      "\n",
      "        SDOT_COLCODE  ST_COLCODE  SEGLANEKEY  ...  ROADCOND_Unknown  \\\n",
      "8105              13        32.0           0  ...                 0   \n",
      "76753             11        10.0           0  ...                 0   \n",
      "113125            11        28.0           0  ...                 0   \n",
      "21423             14        32.0           0  ...                 0   \n",
      "24355             11        21.0           0  ...                 0   \n",
      "\n",
      "        ROADCOND_Wet  LIGHTCOND_Dark - Street Lights Off  \\\n",
      "8105               0                                   0   \n",
      "76753              1                                   0   \n",
      "113125             1                                   0   \n",
      "21423              1                                   0   \n",
      "24355              0                                   0   \n",
      "\n",
      "        LIGHTCOND_Dark - Street Lights On  LIGHTCOND_Dark - Unknown Lighting  \\\n",
      "8105                                    0                                  0   \n",
      "76753                                   1                                  0   \n",
      "113125                                  0                                  0   \n",
      "21423                                   1                                  0   \n",
      "24355                                   0                                  0   \n",
      "\n",
      "        LIGHTCOND_Dawn  LIGHTCOND_Daylight  LIGHTCOND_Dusk  LIGHTCOND_Other  \\\n",
      "8105                 0                   0               0                0   \n",
      "76753                0                   0               0                0   \n",
      "113125               0                   1               0                0   \n",
      "21423                0                   0               0                0   \n",
      "24355                0                   1               0                0   \n",
      "\n",
      "        LIGHTCOND_Unknown  \n",
      "8105                    1  \n",
      "76753                   0  \n",
      "113125                  0  \n",
      "21423                   0  \n",
      "24355                   0  \n",
      "\n",
      "[5 rows x 56 columns]\n",
      "Train set: (93100, 56) (93100, 1)\n",
      "Test set: (23276, 56) (23276, 1)\n"
     ]
    },
    {
     "name": "stderr",
     "output_type": "stream",
     "text": [
      "/home/tasnima/anaconda3/lib/python3.7/site-packages/sklearn/ensemble/forest.py:245: FutureWarning: The default value of n_estimators will change from 10 in version 0.20 to 100 in 0.22.\n",
      "  \"10 in version 0.20 to 100 in 0.22.\", FutureWarning)\n"
     ]
    },
    {
     "name": "stdout",
     "output_type": "stream",
     "text": [
      "Score: 0.6706\n",
      "ROC AUC Score: 0.6709\n",
      "\n",
      "Confusion Matrix\n",
      "[[7984 3528]\n",
      " [4138 7626]]\n",
      "\n",
      "Classification Report\n",
      "              precision    recall  f1-score   support\n",
      "\n",
      "           1       0.66      0.69      0.68     11512\n",
      "           2       0.68      0.65      0.67     11764\n",
      "\n",
      "    accuracy                           0.67     23276\n",
      "   macro avg       0.67      0.67      0.67     23276\n",
      "weighted avg       0.67      0.67      0.67     23276\n",
      "\n"
     ]
    }
   ],
   "source": [
    "X_train, X_test, y_train, y_test = split_data(df_downsample[set_3], encoding_set_3)\n",
    "\n",
    "train_random_forest(X_train, X_test, y_train, y_test)"
   ]
  },
  {
   "cell_type": "markdown",
   "metadata": {
    "colab_type": "text",
    "id": "VcGEuZBy34sH"
   },
   "source": [
    "###SVM"
   ]
  },
  {
   "cell_type": "code",
   "execution_count": null,
   "metadata": {
    "colab": {},
    "colab_type": "code",
    "id": "Fz4-76WXKPXr"
   },
   "outputs": [],
   "source": [
    "from sklearn.svm import SVC\n",
    "\n",
    "def train_svm(X_train, X_test, y_train, y_test, kernel='rbf')\n",
    "    svc_classifier = SVC(kernel=kernel)\n",
    "\n",
    "    svc_classifier.fit(X_train, y_train)\n",
    "\n",
    "    y_pred = svc_classifier.predict(X_test)\n",
    "    score = svc_classifier.score(X_test, y_test)\n",
    "    roc_score = roc_auc_score(y_test, y_pred)\n",
    "\n",
    "    print(f'Score: {round(score, 4)}')\n",
    "    print(f'ROC AUC Score: {round(roc_score, 4)}')\n",
    "\n",
    "    print('\\nConfusion Matrix')\n",
    "    print(confusion_matrix(y_test, y_pred))\n",
    "\n",
    "    print('\\nClassification Report')\n",
    "    print(classification_report(y_test, y_pred))"
   ]
  },
  {
   "cell_type": "markdown",
   "metadata": {
    "colab_type": "text",
    "id": "TDGNjkqo4GlG"
   },
   "source": [
    "####Data: Upsampled, Feature Set: Set 1, Kernel: linear"
   ]
  },
  {
   "cell_type": "code",
   "execution_count": null,
   "metadata": {
    "colab": {},
    "colab_type": "code",
    "id": "Xchtu8bd4tOM"
   },
   "outputs": [],
   "source": [
    "X_train, X_test, y_train, y_test = split_data(df_upsample[set_1], ['COLLISIONTYPE'])\n",
    "\n",
    "train_svm(X_train, X_test, y_train, y_test, 'linear')"
   ]
  },
  {
   "cell_type": "markdown",
   "metadata": {
    "colab_type": "text",
    "id": "MWVnh-QULyzu"
   },
   "source": [
    "####Data: Upsampled, Feature Set: Set 4, Kernel: linear"
   ]
  },
  {
   "cell_type": "code",
   "execution_count": null,
   "metadata": {
    "colab": {},
    "colab_type": "code",
    "id": "uNc4lSwOL1J6"
   },
   "outputs": [],
   "source": [
    "X_train, X_test, y_train, y_test = split_data(df_upsample[set_4], ['COLLISIONTYPE'])\n",
    "\n",
    "train_svm(X_train, X_test, y_train, y_test, 'linear')"
   ]
  },
  {
   "cell_type": "markdown",
   "metadata": {
    "colab_type": "text",
    "id": "h0E65Cvm4aRj"
   },
   "source": [
    "####Data: Upsampled, Feature Set: Set 1, Kernel: rbf"
   ]
  },
  {
   "cell_type": "code",
   "execution_count": null,
   "metadata": {
    "colab": {},
    "colab_type": "code",
    "id": "ZffR-zmB38T-"
   },
   "outputs": [],
   "source": [
    "X_train, X_test, y_train, y_test = split_data(df_upsample[set_1], ['COLLISIONTYPE'])\n",
    "\n",
    "train_svm(X_train, X_test, y_train, y_test)"
   ]
  },
  {
   "cell_type": "markdown",
   "metadata": {
    "colab_type": "text",
    "id": "t2dPZ1aIuBRY"
   },
   "source": [
    "####Data: Upsampled, Feature Set: Set 2, Kernel: rbf"
   ]
  },
  {
   "cell_type": "code",
   "execution_count": null,
   "metadata": {
    "colab": {},
    "colab_type": "code",
    "id": "L2XOTqYvtz1F"
   },
   "outputs": [],
   "source": [
    "X_train, X_test, y_train, y_test = split_data(df_upsample[set_2], ['COLLISIONTYPE', 'JUNCTIONTYPE'])\n",
    "\n",
    "train_svm(X_train, X_test, y_train, y_test)"
   ]
  },
  {
   "cell_type": "markdown",
   "metadata": {
    "colab_type": "text",
    "id": "lefo91TILWJr"
   },
   "source": [
    "####Data: Upsampled, Feature Set: Set 4, Kernel: rbf"
   ]
  },
  {
   "cell_type": "code",
   "execution_count": null,
   "metadata": {
    "colab": {},
    "colab_type": "code",
    "id": "hNLVJ7rRLhVQ"
   },
   "outputs": [],
   "source": [
    "X_train, X_test, y_train, y_test = split_data(df_upsample[set_4], ['COLLISIONTYPE'])\n",
    "\n",
    "train_svm(X_train, X_test, y_train, y_test)"
   ]
  },
  {
   "cell_type": "markdown",
   "metadata": {
    "colab_type": "text",
    "id": "S1csa1xX37U7"
   },
   "source": [
    "###KNN"
   ]
  },
  {
   "cell_type": "code",
   "execution_count": 20,
   "metadata": {
    "colab": {},
    "colab_type": "code",
    "id": "hfDgKhJT4B6l"
   },
   "outputs": [],
   "source": [
    "from sklearn.neighbors import KNeighborsClassifier\n",
    "\n",
    "def train_knn(X_train, X_test, y_train, y_test, n_neighbors=1):\n",
    "    knn_classifier = KNeighborsClassifier(n_neighbors=n_neighbors)\n",
    "    \n",
    "    knn_classifier.fit(X_train, y_train.values.ravel())\n",
    "    \n",
    "    y_pred = knn_classifier.predict(X_test)\n",
    "    score = knn_classifier.score(X_test, y_test)\n",
    "    roc_score = roc_auc_score(y_test, y_pred)\n",
    "\n",
    "    print(f'Score: {round(score, 4)}')\n",
    "    print(f'ROC AUC Score: {round(roc_score, 4)}')\n",
    "\n",
    "    print('\\nConfusion Matrix')\n",
    "    print(confusion_matrix(y_test, y_pred))\n",
    "\n",
    "    print('\\nClassification Report')\n",
    "    print(classification_report(y_test, y_pred))\n",
    "    \n",
    "    return score, roc_score"
   ]
  },
  {
   "cell_type": "markdown",
   "metadata": {
    "colab_type": "text",
    "id": "BPswt51FDrtC"
   },
   "source": [
    "#### Best K selection"
   ]
  },
  {
   "cell_type": "code",
   "execution_count": 21,
   "metadata": {
    "colab": {},
    "colab_type": "code",
    "id": "SaKaIGfvDv2M"
   },
   "outputs": [],
   "source": [
    "import numpy as np\n",
    "import matplotlib.pyplot as plt\n",
    "\n",
    "def k_selection(dataset, columns_for_one_hot, k_max=50):\n",
    "    acc = []\n",
    "    roc_auc = []\n",
    "    for i in range(1, k_max+1):\n",
    "        X_train, X_test, y_train, y_test = split_data(dataset, columns_for_one_hot)\n",
    "        accuracy_score, roc_auc_score = train_knn(X_train, X_test, y_train, y_test, n_neighbors=i)\n",
    "\n",
    "        acc.append(accuracy_score)\n",
    "        roc_auc.append(roc_auc_score)\n",
    "\n",
    "    acc = np.array(acc)\n",
    "    roc_auc = np.array(roc_auc)\n",
    "    print('Best k: {} for best accuracy: {}'.format(acc.argmax()+1, acc.max()))\n",
    "    print('Best k: {} for best roc auc score: {}'.format(roc_auc.argmax()+1, roc_auc.max()))\n",
    "    \n",
    "    # Plotting 'Accuracy and Roc Auc Score Vs Number of Neighbors'\n",
    "    \n",
    "    plt.figure(figsize=(10, 5))  \n",
    "    plt.plot(range(1, k_max+1), acc)\n",
    "    plt.plot(range(1, k_max+1), roc_auc, 'o')\n",
    "    plt.xlabel('Number of Neighbors')\n",
    "    plt.legend([\"accuracy\", \"roc auc score\"], loc =\"lower right\")\n",
    "    plt.show()\n",
    "    \n",
    "    return roc_auc.argmax()+1"
   ]
  },
  {
   "cell_type": "markdown",
   "metadata": {
    "colab_type": "text",
    "id": "NSZYND1BD7SY"
   },
   "source": [
    "#### Data: Downsampled, Feature Set: Set 3, n_neighbors: best_k"
   ]
  },
  {
   "cell_type": "code",
   "execution_count": 22,
   "metadata": {
    "colab": {
     "base_uri": "https://localhost:8080/",
     "height": 185
    },
    "colab_type": "code",
    "id": "lPPPbCr5EAS_",
    "outputId": "85302d57-8912-4da4-e554-1a1f25dd07f4"
   },
   "outputs": [
    {
     "name": "stdout",
     "output_type": "stream",
     "text": [
      "        YEAR MONTH DAY  PERSONCOUNT  PEDCOUNT  PEDCYLCOUNT  VEHCOUNT  \\\n",
      "8105    2004    07  31            2         0            0         2   \n",
      "76753   2009    12  14            2         0            0         2   \n",
      "113125  2012    06  26            2         0            0         2   \n",
      "21423   2005    05  09            2         0            0         2   \n",
      "24355   2005    03  22            2         0            0         2   \n",
      "\n",
      "        SDOT_COLCODE  ST_COLCODE  SEGLANEKEY  ...  ROADCOND_Unknown  \\\n",
      "8105              13        32.0           0  ...                 0   \n",
      "76753             11        10.0           0  ...                 0   \n",
      "113125            11        28.0           0  ...                 0   \n",
      "21423             14        32.0           0  ...                 0   \n",
      "24355             11        21.0           0  ...                 0   \n",
      "\n",
      "        ROADCOND_Wet  LIGHTCOND_Dark - Street Lights Off  \\\n",
      "8105               0                                   0   \n",
      "76753              1                                   0   \n",
      "113125             1                                   0   \n",
      "21423              1                                   0   \n",
      "24355              0                                   0   \n",
      "\n",
      "        LIGHTCOND_Dark - Street Lights On  LIGHTCOND_Dark - Unknown Lighting  \\\n",
      "8105                                    0                                  0   \n",
      "76753                                   1                                  0   \n",
      "113125                                  0                                  0   \n",
      "21423                                   1                                  0   \n",
      "24355                                   0                                  0   \n",
      "\n",
      "        LIGHTCOND_Dawn  LIGHTCOND_Daylight  LIGHTCOND_Dusk  LIGHTCOND_Other  \\\n",
      "8105                 0                   0               0                0   \n",
      "76753                0                   0               0                0   \n",
      "113125               0                   1               0                0   \n",
      "21423                0                   0               0                0   \n",
      "24355                0                   1               0                0   \n",
      "\n",
      "        LIGHTCOND_Unknown  \n",
      "8105                    1  \n",
      "76753                   0  \n",
      "113125                  0  \n",
      "21423                   0  \n",
      "24355                   0  \n",
      "\n",
      "[5 rows x 56 columns]\n",
      "Train set: (93100, 56) (93100, 1)\n",
      "Test set: (23276, 56) (23276, 1)\n",
      "Score: 0.6398\n",
      "ROC AUC Score: 0.6399\n",
      "\n",
      "Confusion Matrix\n",
      "[[7411 4101]\n",
      " [4282 7482]]\n",
      "\n",
      "Classification Report\n",
      "              precision    recall  f1-score   support\n",
      "\n",
      "           1       0.63      0.64      0.64     11512\n",
      "           2       0.65      0.64      0.64     11764\n",
      "\n",
      "    accuracy                           0.64     23276\n",
      "   macro avg       0.64      0.64      0.64     23276\n",
      "weighted avg       0.64      0.64      0.64     23276\n",
      "\n",
      "Best k: 1 for best accuracy: 0.6398436157415364\n",
      "Best k: 1 for best roc auc score: 0.6398855951857458\n"
     ]
    },
    {
     "data": {
      "image/png": "[encoded data removed]",
      "text/plain": [
       "<Figure size 720x360 with 1 Axes>"
      ]
     },
     "metadata": {
      "needs_background": "light"
     },
     "output_type": "display_data"
    },
    {
     "name": "stdout",
     "output_type": "stream",
     "text": [
      "        YEAR MONTH DAY  PERSONCOUNT  PEDCOUNT  PEDCYLCOUNT  VEHCOUNT  \\\n",
      "8105    2004    07  31            2         0            0         2   \n",
      "76753   2009    12  14            2         0            0         2   \n",
      "113125  2012    06  26            2         0            0         2   \n",
      "21423   2005    05  09            2         0            0         2   \n",
      "24355   2005    03  22            2         0            0         2   \n",
      "\n",
      "        SDOT_COLCODE  ST_COLCODE  SEGLANEKEY  ...  ROADCOND_Unknown  \\\n",
      "8105              13        32.0           0  ...                 0   \n",
      "76753             11        10.0           0  ...                 0   \n",
      "113125            11        28.0           0  ...                 0   \n",
      "21423             14        32.0           0  ...                 0   \n",
      "24355             11        21.0           0  ...                 0   \n",
      "\n",
      "        ROADCOND_Wet  LIGHTCOND_Dark - Street Lights Off  \\\n",
      "8105               0                                   0   \n",
      "76753              1                                   0   \n",
      "113125             1                                   0   \n",
      "21423              1                                   0   \n",
      "24355              0                                   0   \n",
      "\n",
      "        LIGHTCOND_Dark - Street Lights On  LIGHTCOND_Dark - Unknown Lighting  \\\n",
      "8105                                    0                                  0   \n",
      "76753                                   1                                  0   \n",
      "113125                                  0                                  0   \n",
      "21423                                   1                                  0   \n",
      "24355                                   0                                  0   \n",
      "\n",
      "        LIGHTCOND_Dawn  LIGHTCOND_Daylight  LIGHTCOND_Dusk  LIGHTCOND_Other  \\\n",
      "8105                 0                   0               0                0   \n",
      "76753                0                   0               0                0   \n",
      "113125               0                   1               0                0   \n",
      "21423                0                   0               0                0   \n",
      "24355                0                   1               0                0   \n",
      "\n",
      "        LIGHTCOND_Unknown  \n",
      "8105                    1  \n",
      "76753                   0  \n",
      "113125                  0  \n",
      "21423                   0  \n",
      "24355                   0  \n",
      "\n",
      "[5 rows x 56 columns]\n",
      "Train set: (93100, 56) (93100, 1)\n",
      "Test set: (23276, 56) (23276, 1)\n",
      "Score: 0.6398\n",
      "ROC AUC Score: 0.6399\n",
      "\n",
      "Confusion Matrix\n",
      "[[7411 4101]\n",
      " [4282 7482]]\n",
      "\n",
      "Classification Report\n",
      "              precision    recall  f1-score   support\n",
      "\n",
      "           1       0.63      0.64      0.64     11512\n",
      "           2       0.65      0.64      0.64     11764\n",
      "\n",
      "    accuracy                           0.64     23276\n",
      "   macro avg       0.64      0.64      0.64     23276\n",
      "weighted avg       0.64      0.64      0.64     23276\n",
      "\n"
     ]
    },
    {
     "data": {
      "text/plain": [
       "(0.6398436157415364, 0.6398855951857458)"
      ]
     },
     "execution_count": 22,
     "metadata": {},
     "output_type": "execute_result"
    }
   ],
   "source": [
    "best_k = k_selection(df_downsample[set_3], encoding_set_3, k_max=1)\n",
    "\n",
    "X_train, X_test, y_train, y_test = split_data(df_downsample[set_3], encoding_set_3)\n",
    "\n",
    "train_knn(X_train, X_test, y_train, y_test, n_neighbors=best_k)"
   ]
  },
  {
   "cell_type": "markdown",
   "metadata": {
    "colab_type": "text",
    "id": "kcgPSJmadg-l"
   },
   "source": [
    "#### Data: Upsampled, Feature Set: Set 2, n_neighbors: best_k"
   ]
  },
  {
   "cell_type": "code",
   "execution_count": null,
   "metadata": {
    "colab": {
     "base_uri": "https://localhost:8080/",
     "height": 185
    },
    "colab_type": "code",
    "id": "SiVsvCW2dosq",
    "outputId": "85302d57-8912-4da4-e554-1a1f25dd07f4"
   },
   "outputs": [
    {
     "name": "stdout",
     "output_type": "stream",
     "text": [
      "        PERSONCOUNT_1  PERSONCOUNT_2  ...  LIGHTCOND_Other  LIGHTCOND_Unknown\n",
      "8105                0              1  ...                0                  1\n",
      "76753               0              1  ...                0                  0\n",
      "113125              0              1  ...                0                  0\n",
      "21423               0              1  ...                0                  0\n",
      "24355               0              1  ...                0                  0\n",
      "\n",
      "[5 rows x 10182 columns]\n",
      "Train set: (93100, 10182) (93100, 1)\n",
      "Test set: (23276, 10182) (23276, 1)\n"
     ]
    }
   ],
   "source": [
    "best_k = k_selection(df_upsample[set_2], ['COLLISIONTYPE', 'JUNCTIONTYPE'], k_max=2)\n",
    "\n",
    "X_train, X_test, y_train, y_test = split_data(df_upsample[set_2], ['COLLISIONTYPE', 'JUNCTIONTYPE'])\n",
    "\n",
    "train_knn(X_train, X_test, y_train, n_neighbors=best_k)"
   ]
  },
  {
   "cell_type": "markdown",
   "metadata": {
    "colab_type": "text",
    "id": "LxT6Zqe94NY0"
   },
   "source": [
    "###ADABoost"
   ]
  },
  {
   "cell_type": "code",
   "execution_count": null,
   "metadata": {
    "colab": {},
    "colab_type": "code",
    "id": "d_tYvYw-4RCw"
   },
   "outputs": [],
   "source": [
    "from sklearn.ensemble import AdaBoostClassifier\n",
    "\n",
    "def train_ada_boost(X_train, X_test, y_train, y_test)\n",
    "    ada_boost_classifier = AdaBoostClassifier()\n",
    "\n",
    "    ada_boost_classifier.fit(X_train, y_train)\n",
    "\n",
    "    y_pred = ada_boost_classifier.predict(X_test)\n",
    "    score = ada_boost_classifier.score(X_test, y_test)\n",
    "    roc_score = roc_auc_score(y_test, y_pred)\n",
    "\n",
    "    print(f'Score: {round(score, 4)}')\n",
    "    print(f'ROC AUC Score: {round(roc_score, 4)}')\n",
    "\n",
    "    print('\\nConfusion Matrix')\n",
    "    print(confusion_matrix(y_test, y_pred))\n",
    "\n",
    "    print('\\nClassification Report')\n",
    "    print(classification_report(y_test, y_pred))"
   ]
  },
  {
   "cell_type": "markdown",
   "metadata": {
    "colab_type": "text",
    "id": "WGUaC4REu5Aa"
   },
   "source": [
    "####Data: Upsampled, Feature Set: Set 1"
   ]
  },
  {
   "cell_type": "code",
   "execution_count": null,
   "metadata": {
    "colab": {},
    "colab_type": "code",
    "id": "umIgF93vu5am"
   },
   "outputs": [],
   "source": [
    "X_train, X_test, y_train, y_test = split_data(df_upsample[set_1], ['COLLISIONTYPE'])\n",
    "\n",
    "train_ada_boost(X_train, X_test, y_train, y_test)"
   ]
  },
  {
   "cell_type": "markdown",
   "metadata": {
    "colab_type": "text",
    "id": "xoSgYW3qvRcE"
   },
   "source": [
    "####Data: Upsampled, Feature Set: Set 4"
   ]
  },
  {
   "cell_type": "code",
   "execution_count": null,
   "metadata": {
    "colab": {},
    "colab_type": "code",
    "id": "dDjFDdfrvWFi"
   },
   "outputs": [],
   "source": [
    "X_train, X_test, y_train, y_test = split_data(df_upsample[set_4], ['COLLISIONTYPE'])\n",
    "\n",
    "train_ada_boost(X_train, X_test, y_train, y_test)"
   ]
  }
 ],
 "metadata": {
  "colab": {
   "collapsed_sections": [
    "WGUaC4REu5Aa"
   ],
   "name": "capstone_project_training.ipynb",
   "provenance": []
  },
  "kernelspec": {
   "display_name": "Python 3",
   "language": "python",
   "name": "python3"
  },
  "language_info": {
   "codemirror_mode": {
    "name": "ipython",
    "version": 3
   },
   "file_extension": ".py",
   "mimetype": "text/x-python",
   "name": "python",
   "nbconvert_exporter": "python",
   "pygments_lexer": "ipython3",
   "version": "3.7.3"
  }
 },
 "nbformat": 4,
 "nbformat_minor": 1
}
