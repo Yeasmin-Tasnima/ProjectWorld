{
 "cells": [
  {
   "cell_type": "markdown",
   "metadata": {
    "colab_type": "text",
    "id": "2hC-mwysSM-w"
   },
   "source": [
    "### Import Necessary Libraries"
   ]
  },
  {
   "cell_type": "code",
   "execution_count": 1,
   "metadata": {
    "colab": {},
    "colab_type": "code",
    "id": "coqW7SOwRr1K"
   },
   "outputs": [],
   "source": [
    "import pandas as pd\n",
    "import numpy as np\n",
    "import seaborn as sns\n",
    "sns.set(rc={'figure.figsize':(12,8)})\n"
   ]
  },
  {
   "cell_type": "markdown",
   "metadata": {
    "colab_type": "text",
    "id": "GU8fStFbIxK0"
   },
   "source": [
    "# **Problem Statement**"
   ]
  },
  {
   "cell_type": "markdown",
   "metadata": {
    "colab_type": "text",
    "id": "_IFN38I0I46j"
   },
   "source": [
    "According to the annual United States road crash statistics by ASIRT, more than 38,000 people die every year in crashes on U.S. roadways. The U.S. traffic fatality rate is 12.4 deaths per 100,000 inhabitants. It is apparent that with the increasing number of vehicles on urban and suburban roads, the cases of vehicle accidents are also increasing. Our objective is to analyse vehicle collision data and derive some useful insights.\n",
    "Vehicle collisions along with its severity might be useful to derive insights and may show some pattern with the environmental factors like weather, road conditions etc.\n",
    "The dataset consists of 40 columns having different kinds of data like, collision severity, road conditions, number of people involved, location of collision, weather etc."
   ]
  },
  {
   "cell_type": "markdown",
   "metadata": {
    "colab_type": "text",
    "id": "t6ep5mbOUMF8"
   },
   "source": [
    "# **Exploratory Data Analysis**"
   ]
  },
  {
   "cell_type": "markdown",
   "metadata": {
    "colab_type": "text",
    "id": "1ZAw5GNSUgKx"
   },
   "source": [
    "<h2>Characteristics of the dataset:</h2>\n",
    "<p>There are 194673 entries and 38 features in this dataset.<br><b>The objective of this project is to distinguish the reason for street mishaps and the degree of severity.</b> That's why we can categorize this attributes into some points.</p>\n",
    "<ul>\n",
    "    <li><b>Severity</b></li>\n",
    "    <p>A detailed description of the severity of the collision. A code that corresponds to the severity of the collision:</p>\n",
    "        <ul>\n",
    "            <li>1: Property damage</li>\n",
    "            <li>2: Injury</li>\n",
    "        </ul>\n",
    "    <p>This includes features like SEVERITYCODE, SEVERITYCODE.1, SEVERITYDESC.</p>\n",
    "    <li><b>Date and Time</b></li>\n",
    "    <p>This includes the features of the date and time of the incident, like INCDATE, INCDTTM.</p>\n",
    "    <li><b>Area Description</b></li>\n",
    "    <p>This is mainly the description of the general location of the collision. X, Y, INCKEY, COLDETKEY, ADDRTYPE, INTKEY, LOCATION, JUNCTIONTYPE, SEGLANEKEY, CROSSWALKKEY are included here.</p>\n",
    "    <li><b>Individuals</b></li>\n",
    "    <p>This includes if pedestrians, cyclists or vehicles are involved. This is entered by the state. The features are PERSONCOUNT, PEDCOUNT, PEDCYLCOUNT and VEHCOUNT.</p>\n",
    "    <li><b>Environment and Weather</b></li>\n",
    "    <p>This includes the environmental conditions like WEATHER, ROADCOND and LIGHTCOND</p>\n",
    "    <li><b>Information of the incident</b></li>\n",
    "    <p>This includes the type of the incident like COLLISIONTYPE, SPEEDING and HITPARKEDCAR.</p>\n",
    "    <li><b>Other features</b></li>\n",
    "    <p>This includes some other relevant informations like OBJECTID, COLDETKEY, REPORTNO, STATUS, EXCEPTRSNCODE, EXCEPTRSNDES, SDOT_COLCODE, SDOT_COLDESC, INATTENTIONIND, UNDERINFL, PEDROWNOTGRNT, SDOTCOLNUM, ST_COLCODE and ST_COLDESC</p>\n",
    "</ul>"
   ]
  },
  {
   "cell_type": "code",
   "execution_count": 2,
   "metadata": {
    "colab": {
     "base_uri": "https://localhost:8080/",
     "height": 74
    },
    "colab_type": "code",
    "id": "s4G5AVWpQhqy",
    "outputId": "f65bfda1-49d3-4bbd-e8d6-9c17928c6335"
   },
   "outputs": [
    {
     "name": "stderr",
     "output_type": "stream",
     "text": [
      "/home/tasnima/anaconda3/lib/python3.7/site-packages/IPython/core/interactiveshell.py:3049: DtypeWarning: Columns (33) have mixed types.Specify dtype option on import or set low_memory=False.\n",
      "  interactivity=interactivity, compiler=compiler, result=result)\n"
     ]
    }
   ],
   "source": [
    "df = pd.read_csv('Data-Collisions.csv')"
   ]
  },
  {
   "cell_type": "code",
   "execution_count": 4,
   "metadata": {
    "colab": {},
    "colab_type": "code",
    "id": "ZTlYt73GTwjc"
   },
   "outputs": [],
   "source": [
    "df_g = df.groupby('SEVERITYCODE')\n",
    "df_balanced = df_g.apply(lambda x: x.sample(df_g.size().min()))"
   ]
  },
  {
   "cell_type": "code",
   "execution_count": 5,
   "metadata": {
    "colab": {
     "base_uri": "https://localhost:8080/",
     "height": 72
    },
    "colab_type": "code",
    "id": "6e9AtAHmVhXV",
    "outputId": "e07fda56-e07e-44a9-e813-ffa783f3bf79"
   },
   "outputs": [
    {
     "data": {
      "text/plain": [
       "2    58188\n",
       "1    58188\n",
       "Name: SEVERITYCODE, dtype: int64"
      ]
     },
     "execution_count": 5,
     "metadata": {},
     "output_type": "execute_result"
    }
   ],
   "source": [
    "df_balanced['SEVERITYCODE'].value_counts()"
   ]
  },
  {
   "cell_type": "code",
   "execution_count": 6,
   "metadata": {
    "colab": {
     "base_uri": "https://localhost:8080/",
     "height": 702
    },
    "colab_type": "code",
    "id": "GPURAOOnSE7K",
    "outputId": "871c0f9e-1a18-49eb-83c8-bdf37e026c1b"
   },
   "outputs": [
    {
     "data": {
      "text/html": [
       "<div>\n",
       "<style scoped>\n",
       "    .dataframe tbody tr th:only-of-type {\n",
       "        vertical-align: middle;\n",
       "    }\n",
       "\n",
       "    .dataframe tbody tr th {\n",
       "        vertical-align: top;\n",
       "    }\n",
       "\n",
       "    .dataframe thead th {\n",
       "        text-align: right;\n",
       "    }\n",
       "</style>\n",
       "<table border=\"1\" class=\"dataframe\">\n",
       "  <thead>\n",
       "    <tr style=\"text-align: right;\">\n",
       "      <th></th>\n",
       "      <th>SEVERITYCODE</th>\n",
       "      <th>X</th>\n",
       "      <th>Y</th>\n",
       "      <th>OBJECTID</th>\n",
       "      <th>INCKEY</th>\n",
       "      <th>COLDETKEY</th>\n",
       "      <th>REPORTNO</th>\n",
       "      <th>STATUS</th>\n",
       "      <th>ADDRTYPE</th>\n",
       "      <th>INTKEY</th>\n",
       "      <th>...</th>\n",
       "      <th>ROADCOND</th>\n",
       "      <th>LIGHTCOND</th>\n",
       "      <th>PEDROWNOTGRNT</th>\n",
       "      <th>SDOTCOLNUM</th>\n",
       "      <th>SPEEDING</th>\n",
       "      <th>ST_COLCODE</th>\n",
       "      <th>ST_COLDESC</th>\n",
       "      <th>SEGLANEKEY</th>\n",
       "      <th>CROSSWALKKEY</th>\n",
       "      <th>HITPARKEDCAR</th>\n",
       "    </tr>\n",
       "  </thead>\n",
       "  <tbody>\n",
       "    <tr>\n",
       "      <th>0</th>\n",
       "      <td>2</td>\n",
       "      <td>-122.323148</td>\n",
       "      <td>47.703140</td>\n",
       "      <td>1</td>\n",
       "      <td>1307</td>\n",
       "      <td>1307</td>\n",
       "      <td>3502005</td>\n",
       "      <td>Matched</td>\n",
       "      <td>Intersection</td>\n",
       "      <td>37475.0</td>\n",
       "      <td>...</td>\n",
       "      <td>Wet</td>\n",
       "      <td>Daylight</td>\n",
       "      <td>NaN</td>\n",
       "      <td>NaN</td>\n",
       "      <td>NaN</td>\n",
       "      <td>10</td>\n",
       "      <td>Entering at angle</td>\n",
       "      <td>0</td>\n",
       "      <td>0</td>\n",
       "      <td>N</td>\n",
       "    </tr>\n",
       "    <tr>\n",
       "      <th>1</th>\n",
       "      <td>1</td>\n",
       "      <td>-122.347294</td>\n",
       "      <td>47.647172</td>\n",
       "      <td>2</td>\n",
       "      <td>52200</td>\n",
       "      <td>52200</td>\n",
       "      <td>2607959</td>\n",
       "      <td>Matched</td>\n",
       "      <td>Block</td>\n",
       "      <td>NaN</td>\n",
       "      <td>...</td>\n",
       "      <td>Wet</td>\n",
       "      <td>Dark - Street Lights On</td>\n",
       "      <td>NaN</td>\n",
       "      <td>6354039.0</td>\n",
       "      <td>NaN</td>\n",
       "      <td>11</td>\n",
       "      <td>From same direction - both going straight - bo...</td>\n",
       "      <td>0</td>\n",
       "      <td>0</td>\n",
       "      <td>N</td>\n",
       "    </tr>\n",
       "    <tr>\n",
       "      <th>2</th>\n",
       "      <td>1</td>\n",
       "      <td>-122.334540</td>\n",
       "      <td>47.607871</td>\n",
       "      <td>3</td>\n",
       "      <td>26700</td>\n",
       "      <td>26700</td>\n",
       "      <td>1482393</td>\n",
       "      <td>Matched</td>\n",
       "      <td>Block</td>\n",
       "      <td>NaN</td>\n",
       "      <td>...</td>\n",
       "      <td>Dry</td>\n",
       "      <td>Daylight</td>\n",
       "      <td>NaN</td>\n",
       "      <td>4323031.0</td>\n",
       "      <td>NaN</td>\n",
       "      <td>32</td>\n",
       "      <td>One parked--one moving</td>\n",
       "      <td>0</td>\n",
       "      <td>0</td>\n",
       "      <td>N</td>\n",
       "    </tr>\n",
       "    <tr>\n",
       "      <th>3</th>\n",
       "      <td>1</td>\n",
       "      <td>-122.334803</td>\n",
       "      <td>47.604803</td>\n",
       "      <td>4</td>\n",
       "      <td>1144</td>\n",
       "      <td>1144</td>\n",
       "      <td>3503937</td>\n",
       "      <td>Matched</td>\n",
       "      <td>Block</td>\n",
       "      <td>NaN</td>\n",
       "      <td>...</td>\n",
       "      <td>Dry</td>\n",
       "      <td>Daylight</td>\n",
       "      <td>NaN</td>\n",
       "      <td>NaN</td>\n",
       "      <td>NaN</td>\n",
       "      <td>23</td>\n",
       "      <td>From same direction - all others</td>\n",
       "      <td>0</td>\n",
       "      <td>0</td>\n",
       "      <td>N</td>\n",
       "    </tr>\n",
       "    <tr>\n",
       "      <th>4</th>\n",
       "      <td>2</td>\n",
       "      <td>-122.306426</td>\n",
       "      <td>47.545739</td>\n",
       "      <td>5</td>\n",
       "      <td>17700</td>\n",
       "      <td>17700</td>\n",
       "      <td>1807429</td>\n",
       "      <td>Matched</td>\n",
       "      <td>Intersection</td>\n",
       "      <td>34387.0</td>\n",
       "      <td>...</td>\n",
       "      <td>Wet</td>\n",
       "      <td>Daylight</td>\n",
       "      <td>NaN</td>\n",
       "      <td>4028032.0</td>\n",
       "      <td>NaN</td>\n",
       "      <td>10</td>\n",
       "      <td>Entering at angle</td>\n",
       "      <td>0</td>\n",
       "      <td>0</td>\n",
       "      <td>N</td>\n",
       "    </tr>\n",
       "  </tbody>\n",
       "</table>\n",
       "<p>5 rows × 38 columns</p>\n",
       "</div>"
      ],
      "text/plain": [
       "   SEVERITYCODE           X          Y  OBJECTID  INCKEY  COLDETKEY REPORTNO  \\\n",
       "0             2 -122.323148  47.703140         1    1307       1307  3502005   \n",
       "1             1 -122.347294  47.647172         2   52200      52200  2607959   \n",
       "2             1 -122.334540  47.607871         3   26700      26700  1482393   \n",
       "3             1 -122.334803  47.604803         4    1144       1144  3503937   \n",
       "4             2 -122.306426  47.545739         5   17700      17700  1807429   \n",
       "\n",
       "    STATUS      ADDRTYPE   INTKEY  ... ROADCOND                LIGHTCOND  \\\n",
       "0  Matched  Intersection  37475.0  ...      Wet                 Daylight   \n",
       "1  Matched         Block      NaN  ...      Wet  Dark - Street Lights On   \n",
       "2  Matched         Block      NaN  ...      Dry                 Daylight   \n",
       "3  Matched         Block      NaN  ...      Dry                 Daylight   \n",
       "4  Matched  Intersection  34387.0  ...      Wet                 Daylight   \n",
       "\n",
       "  PEDROWNOTGRNT  SDOTCOLNUM SPEEDING ST_COLCODE  \\\n",
       "0           NaN         NaN      NaN         10   \n",
       "1           NaN   6354039.0      NaN         11   \n",
       "2           NaN   4323031.0      NaN         32   \n",
       "3           NaN         NaN      NaN         23   \n",
       "4           NaN   4028032.0      NaN         10   \n",
       "\n",
       "                                          ST_COLDESC  SEGLANEKEY  \\\n",
       "0                                  Entering at angle           0   \n",
       "1  From same direction - both going straight - bo...           0   \n",
       "2                             One parked--one moving           0   \n",
       "3                   From same direction - all others           0   \n",
       "4                                  Entering at angle           0   \n",
       "\n",
       "   CROSSWALKKEY  HITPARKEDCAR  \n",
       "0             0             N  \n",
       "1             0             N  \n",
       "2             0             N  \n",
       "3             0             N  \n",
       "4             0             N  \n",
       "\n",
       "[5 rows x 38 columns]"
      ]
     },
     "execution_count": 6,
     "metadata": {},
     "output_type": "execute_result"
    }
   ],
   "source": [
    "df.head()"
   ]
  },
  {
   "cell_type": "code",
   "execution_count": 87,
   "metadata": {
    "colab": {
     "base_uri": "https://localhost:8080/",
     "height": 835
    },
    "colab_type": "code",
    "id": "hL4FQBx_Rqdy",
    "outputId": "fcc4fd6f-4481-410d-95b1-5c80519faaee"
   },
   "outputs": [
    {
     "name": "stdout",
     "output_type": "stream",
     "text": [
      "<class 'pandas.core.frame.DataFrame'>\n",
      "RangeIndex: 194673 entries, 0 to 194672\n",
      "Data columns (total 38 columns):\n",
      " #   Column          Non-Null Count   Dtype  \n",
      "---  ------          --------------   -----  \n",
      " 0   SEVERITYCODE    194673 non-null  int64  \n",
      " 1   X               189339 non-null  float64\n",
      " 2   Y               189339 non-null  float64\n",
      " 3   OBJECTID        194673 non-null  int64  \n",
      " 4   INCKEY          194673 non-null  int64  \n",
      " 5   COLDETKEY       194673 non-null  int64  \n",
      " 6   REPORTNO        194673 non-null  object \n",
      " 7   STATUS          194673 non-null  object \n",
      " 8   ADDRTYPE        192747 non-null  object \n",
      " 9   INTKEY          65070 non-null   float64\n",
      " 10  LOCATION        191996 non-null  object \n",
      " 11  EXCEPTRSNCODE   84811 non-null   object \n",
      " 12  EXCEPTRSNDESC   5638 non-null    object \n",
      " 13  SEVERITYCODE.1  194673 non-null  int64  \n",
      " 14  SEVERITYDESC    194673 non-null  object \n",
      " 15  COLLISIONTYPE   189769 non-null  object \n",
      " 16  PERSONCOUNT     194673 non-null  int64  \n",
      " 17  PEDCOUNT        194673 non-null  int64  \n",
      " 18  PEDCYLCOUNT     194673 non-null  int64  \n",
      " 19  VEHCOUNT        194673 non-null  int64  \n",
      " 20  INCDATE         194673 non-null  object \n",
      " 21  INCDTTM         194673 non-null  object \n",
      " 22  JUNCTIONTYPE    188344 non-null  object \n",
      " 23  SDOT_COLCODE    194673 non-null  int64  \n",
      " 24  SDOT_COLDESC    194673 non-null  object \n",
      " 25  INATTENTIONIND  29805 non-null   object \n",
      " 26  UNDERINFL       189789 non-null  object \n",
      " 27  WEATHER         189592 non-null  object \n",
      " 28  ROADCOND        189661 non-null  object \n",
      " 29  LIGHTCOND       189503 non-null  object \n",
      " 30  PEDROWNOTGRNT   4667 non-null    object \n",
      " 31  SDOTCOLNUM      114936 non-null  float64\n",
      " 32  SPEEDING        9333 non-null    object \n",
      " 33  ST_COLCODE      194655 non-null  object \n",
      " 34  ST_COLDESC      189769 non-null  object \n",
      " 35  SEGLANEKEY      194673 non-null  int64  \n",
      " 36  CROSSWALKKEY    194673 non-null  int64  \n",
      " 37  HITPARKEDCAR    194673 non-null  object \n",
      "dtypes: float64(4), int64(12), object(22)\n",
      "memory usage: 56.4+ MB\n"
     ]
    }
   ],
   "source": [
    "df.info()"
   ]
  },
  {
   "cell_type": "code",
   "execution_count": 88,
   "metadata": {
    "colab": {
     "base_uri": "https://localhost:8080/",
     "height": 363
    },
    "colab_type": "code",
    "id": "_bGG6P1oRyi1",
    "outputId": "736b1f9c-1e0c-416e-de35-41bfe2c1e1a3"
   },
   "outputs": [
    {
     "name": "stdout",
     "output_type": "stream",
     "text": [
      "          Variable  Missing Values\n",
      "0                X            5334\n",
      "1                Y            5334\n",
      "2         ADDRTYPE            1926\n",
      "3           INTKEY          129603\n",
      "4         Location            2677\n",
      "5    EXCEPTRSNCODE          109862\n",
      "6    COLLISIONTYPE            4904\n",
      "7     JUNCTIONTYPE            6329\n",
      "8   INATTENTIONIND          164868\n",
      "9        UNDERINFL            4884\n",
      "10         WEATHER            5081\n",
      "11        ROADCOND            5012\n",
      "12       LIGHTCOND            5170\n",
      "13   PEDROWNOTGRNT          190006\n",
      "14      SDOTCOLNUM           79737\n",
      "15        SPEEDING          185340\n",
      "16      ST_COLCODE              18\n",
      "17      ST_COLDESC            4904\n"
     ]
    }
   ],
   "source": [
    "  \n",
    "data_missing = {'Variable':[\"X\", \"Y\", \"ADDRTYPE\", \"INTKEY\", \"Location\", \"EXCEPTRSNCODE\", \"COLLISIONTYPE\", \"JUNCTIONTYPE\", \"INATTENTIONIND\", \"UNDERINFL\", \n",
    "                    \"WEATHER\", \"ROADCOND\", \"LIGHTCOND\", \"PEDROWNOTGRNT\", \"SDOTCOLNUM\", \"SPEEDING\", \"ST_COLCODE\" ,\"ST_COLDESC\"], \n",
    "        'Missing Values': [5334, 5334, 1926, 129603, 2677, 109862, 4904, 6329, 164868, 4884, 5081, 5012, 5170, 190006, 79737, 185340, 18, 4904]} \n",
    "  \n",
    "# Create DataFrame \n",
    "df_missing_values = pd.DataFrame(data_missing) \n",
    "  \n",
    "# Print the output. \n",
    "print(df_missing_values) "
   ]
  },
  {
   "cell_type": "markdown",
   "metadata": {
    "colab_type": "text",
    "id": "wpLn_bOug0Eo"
   },
   "source": [
    "### **Relation of severity with different categorical varibales**"
   ]
  },
  {
   "cell_type": "markdown",
   "metadata": {
    "colab_type": "text",
    "id": "fA5o2h1kWTqT"
   },
   "source": [
    "#### **Relation Between Severity and Address type**\n",
    "\n",
    "> <p> In the following section we present a plot that desrcirbes the number of accident cases with respect to different types of addreses.</p>\n",
    "\n"
   ]
  },
  {
   "cell_type": "code",
   "execution_count": 89,
   "metadata": {
    "colab": {
     "base_uri": "https://localhost:8080/",
     "height": 536
    },
    "colab_type": "code",
    "id": "JrZOdIH1YjoI",
    "outputId": "30a4c814-16ee-416b-ccbc-f5b502d2c378"
   },
   "outputs": [
    {
     "data": {
      "text/plain": [
       "Text(0.5, 1.0, 'Accidents vs Address type')"
      ]
     },
     "execution_count": 89,
     "metadata": {
      "tags": []
     },
     "output_type": "execute_result"
    },
    {
     "data": {
      "image/png": "[encoded data removed]",
      "text/plain": [
       "<Figure size 864x576 with 1 Axes>"
      ]
     },
     "metadata": {
      "tags": []
     },
     "output_type": "display_data"
    }
   ],
   "source": [
    "sns.countplot(data=df_balanced,x='SEVERITYCODE',hue='ADDRTYPE').set_title(\"Accidents vs Address type\")"
   ]
  },
  {
   "cell_type": "markdown",
   "metadata": {
    "colab_type": "text",
    "id": "C1pOvKiEXMbJ"
   },
   "source": [
    "\n",
    "> As we can see from the above plot, number of accidents both property damage and injury cases, is higher in blocks and intersection than alley. This is because of the fact that, traffic congestion is much higher at Blocks. However more injuries occur when the accidents happen at Intersections. Some of the major causes of accidents at intersections are inadequate surveillance, false assumption of other driver’s action, turning with obstructed view, illegal maneuver and disregarded traffic signs which is responsible for more severe injuries. Alleys have very little number of property damage cases and no injury cases as they are often reserved for walks only.\n",
    "\n",
    "\n",
    "\n",
    "\n"
   ]
  },
  {
   "cell_type": "markdown",
   "metadata": {
    "colab_type": "text",
    "id": "YE9z7tvhaxl3"
   },
   "source": [
    "####**Relation Between Severity and Collision Type**\n",
    "\n",
    "> Following section depicts the relation between severirty of accidents and the type of collision occured by presenting a plot of the number of accidents in collision cases.\n",
    "\n"
   ]
  },
  {
   "cell_type": "code",
   "execution_count": 90,
   "metadata": {
    "colab": {
     "base_uri": "https://localhost:8080/",
     "height": 536
    },
    "colab_type": "code",
    "id": "3PbmDSn7pwe4",
    "outputId": "36f8b136-2c16-402a-b060-c143dc202276"
   },
   "outputs": [
    {
     "data": {
      "text/plain": [
       "Text(0.5, 1.0, 'Accidents vs collision type')"
      ]
     },
     "execution_count": 90,
     "metadata": {
      "tags": []
     },
     "output_type": "execute_result"
    },
    {
     "data": {
      "image/png": "[encoded data removed]",
      "text/plain": [
       "<Figure size 864x576 with 1 Axes>"
      ]
     },
     "metadata": {
      "tags": []
     },
     "output_type": "display_data"
    }
   ],
   "source": [
    "sns.countplot(data=df_balanced,x='SEVERITYCODE',hue='COLLISIONTYPE').set_title(\"Accidents vs collision type\")"
   ]
  },
  {
   "cell_type": "markdown",
   "metadata": {
    "colab_type": "text",
    "id": "FuGgwVXFcAJ3"
   },
   "source": [
    "\n",
    "\n",
    "> From the above plot we observe that in case of property damage, the most occuring collision type is parked car, that is the collision occured with a parked car and hence the property damage. Drivers entering a parking lot keep an eye on a vacant spot and often neglect to watch for other drivers and pedestrians who are on the move, that's how accidents occur. Many drivers pull ‘head in’ to a parking spot after which they must back out. While backing out, blind zones created by vehicles parked alongside the spot obstruct the driver’s vision.Also traffic laws aren’t enforceable in parking lots, which can create reckless driving and confusion thus leading to collisions.\n",
    "\n",
    "\n",
    "> Other higher collision type in property damage are angles and rear ended collisions. On the other hand, in case of serious injuries, the most occuring collision is rear ended and cycles, which is self explanatory- if car hits a cycle, in most cases there is bound to be a serious injury.\n",
    "\n",
    "\n",
    "\n",
    "\n",
    "\n"
   ]
  },
  {
   "cell_type": "markdown",
   "metadata": {
    "colab_type": "text",
    "id": "S1PnPVO-egl6"
   },
   "source": [
    "#### **Relation between Severity and Juntion type**\n",
    "\n",
    "\n",
    "> Following section shows a plot that depicts a relationship between severirty and junction type by plotting the number of accidents in each case of junction type.\n",
    "\n"
   ]
  },
  {
   "cell_type": "code",
   "execution_count": 113,
   "metadata": {
    "colab": {
     "base_uri": "https://localhost:8080/",
     "height": 475
    },
    "colab_type": "code",
    "id": "_NMAGF9-qeKW",
    "outputId": "b539e0c1-2229-40ed-a1d9-e305c64fa74c"
   },
   "outputs": [
    {
     "data": {
      "text/plain": [
       "Text(0.5, 1.0, 'Accidents vs Junction type')"
      ]
     },
     "execution_count": 113,
     "metadata": {
      "tags": []
     },
     "output_type": "execute_result"
    },
    {
     "data": {
      "image/png": "[encoded data removed]",
      "text/plain": [
       "<Figure size 1152x576 with 1 Axes>"
      ]
     },
     "metadata": {
      "tags": []
     },
     "output_type": "display_data"
    }
   ],
   "source": [
    "sns.set(rc={'figure.figsize':(16,8)})\n",
    "\n",
    "sns.countplot(data=df_balanced,x='SEVERITYCODE',hue='JUNCTIONTYPE').set_title(\"Accidents vs Junction type\")"
   ]
  },
  {
   "cell_type": "markdown",
   "metadata": {
    "colab_type": "text",
    "id": "IWaLpF_7e8TB"
   },
   "source": [
    "\n",
    "\n",
    "> \n",
    "\n"
   ]
  },
  {
   "cell_type": "markdown",
   "metadata": {
    "colab_type": "text",
    "id": "v7eyrKQ3fS69"
   },
   "source": [
    "\n",
    "\n",
    "> We see from the plot mid-block(not related to an intersection) has the highest number of property damage cases and injuries occur at intersections(related to other intersections) mostly. This result is understandable as these junctions ought to be the busiest type of junctions.\n",
    "\n"
   ]
  },
  {
   "cell_type": "markdown",
   "metadata": {
    "colab_type": "text",
    "id": "JfmSTwk2pENm"
   },
   "source": [
    "####**Relation Between Severity and Light Condition**\n",
    "\n",
    "> The following section shows a plot of accidents counts for each type of light condition. "
   ]
  },
  {
   "cell_type": "code",
   "execution_count": 92,
   "metadata": {
    "colab": {
     "base_uri": "https://localhost:8080/",
     "height": 536
    },
    "colab_type": "code",
    "id": "Mt3SiS5ppWgw",
    "outputId": "91b28c25-1769-41e0-f9aa-1dcd9464d355"
   },
   "outputs": [
    {
     "data": {
      "text/plain": [
       "Text(0.5, 1.0, 'Accidents vs Light condition')"
      ]
     },
     "execution_count": 92,
     "metadata": {
      "tags": []
     },
     "output_type": "execute_result"
    },
    {
     "data": {
      "image/png": "[encoded data removed]",
      "text/plain": [
       "<Figure size 864x576 with 1 Axes>"
      ]
     },
     "metadata": {
      "tags": []
     },
     "output_type": "display_data"
    }
   ],
   "source": [
    "sns.countplot(data=df_balanced,x='SEVERITYCODE',hue='LIGHTCOND').set_title(\"Accidents vs Light condition\")"
   ]
  },
  {
   "cell_type": "markdown",
   "metadata": {
    "colab_type": "text",
    "id": "6LwDYWWzrf_l"
   },
   "source": [
    "> As surprising as it may seem, but the plot denotes higher number of accidents during the day - which points to the fact that there are more vehicles and the roads are busier during the day. We would like to add the fact that sun glare can be factor in a sunlit day. Sun glare can temporarily blind a driver, making it impossible for him or her to see what is happening in front of them. Many drivers have reported that a single moment of sun glare can cause serious accidents. We therefore conclude that the sun glare could be a possible reason for daytime accidents. We can deduce from the above plot that,  for both severity cases,  the light conditions are pretty much same. Accident severity cannot be linked to a specific light condition situation, therefore we are assuming it won't be a good predictor.\n",
    "\n"
   ]
  },
  {
   "cell_type": "markdown",
   "metadata": {
    "colab_type": "text",
    "id": "E2lGBYwLsG_b"
   },
   "source": [
    "####**Relation Between Severity and Weather Condition**\n",
    "\n",
    "> The following section shows a plot of accidents counts for each type of weather condition. "
   ]
  },
  {
   "cell_type": "code",
   "execution_count": 93,
   "metadata": {
    "colab": {
     "base_uri": "https://localhost:8080/",
     "height": 536
    },
    "colab_type": "code",
    "id": "50cdvRr-sgWD",
    "outputId": "ec110cfa-abac-4fee-a926-6620f1385209"
   },
   "outputs": [
    {
     "data": {
      "text/plain": [
       "Text(0.5, 1.0, 'Accidents vs Weather condition')"
      ]
     },
     "execution_count": 93,
     "metadata": {
      "tags": []
     },
     "output_type": "execute_result"
    },
    {
     "data": {
      "image/png": "[encoded data removed]",
      "text/plain": [
       "<Figure size 864x576 with 1 Axes>"
      ]
     },
     "metadata": {
      "tags": []
     },
     "output_type": "display_data"
    }
   ],
   "source": [
    "sns.countplot(data=df_balanced,x='SEVERITYCODE',hue='WEATHER').set_title(\"Accidents vs Weather condition\")"
   ]
  },
  {
   "cell_type": "markdown",
   "metadata": {
    "colab_type": "text",
    "id": "7og-1Wiu8fs1"
   },
   "source": [
    "\n",
    "\n",
    "> The above plot shows that accidents in both cases higher in clear weather which is not normally what someone would expect. Our intution in this case is that people drive rather recklessly in better weather condition and rather cautiously in bad weather condition. \n",
    "Pleasant weather conditions make the environment attractive for vacationers and travelers, which can lead to road congestion. From motorcycle riders to bicyclists and pedestrians, there is simply far more traffic on the roads during that type of weather. Sitting through traffic jams and driving on heavily congested roadways can cause drivers to become frustrated resulting in an increased risk for erratic driving and even road rage.\n",
    "Cyclists and pedestrians can be difficult for drivers to notice, especially during rush hour and on heavily trafficked roadways. \n",
    "Also there tends to be more roadway construction in the clear weather. This, in turn, can increase the risk of collisions. \n",
    "Considering weather data, severe accidents are slightly more frequent during rainy weather as well as with wet roads.\n"
   ]
  },
  {
   "cell_type": "markdown",
   "metadata": {
    "colab_type": "text",
    "id": "Wk3p7RuWwrC0"
   },
   "source": [
    "###**Inspection of all count variables against SEVERITYCODE** ###"
   ]
  },
  {
   "cell_type": "code",
   "execution_count": 94,
   "metadata": {
    "colab": {
     "base_uri": "https://localhost:8080/",
     "height": 340
    },
    "colab_type": "code",
    "id": "uayJwOeXvHfR",
    "outputId": "ef45d159-86bd-4bca-ae92-50f19302cb83"
   },
   "outputs": [
    {
     "data": {
      "text/plain": [
       "<matplotlib.axes._subplots.AxesSubplot at 0x7f95c4894400>"
      ]
     },
     "execution_count": 94,
     "metadata": {
      "tags": []
     },
     "output_type": "execute_result"
    },
    {
     "data": {
      "image/png": "[encoded data removed]",
      "text/plain": [
       "<Figure size 720x360 with 1 Axes>"
      ]
     },
     "metadata": {
      "tags": []
     },
     "output_type": "display_data"
    }
   ],
   "source": [
    "df_balanced[['PERSONCOUNT', 'PEDCOUNT', 'PEDCYLCOUNT', 'VEHCOUNT']].groupby('SEVERITYCODE').sum().plot(kind='barh', figsize=(10, 5))"
   ]
  },
  {
   "cell_type": "markdown",
   "metadata": {
    "colab_type": "text",
    "id": "OZ4VXves0QwM"
   },
   "source": [
    "> It can be clearly seen that injury is more likely to happen when there is pedestrian and pedestrian cycle count. "
   ]
  },
  {
   "cell_type": "markdown",
   "metadata": {
    "colab_type": "text",
    "id": "eUhYqcAwhf5T"
   },
   "source": [
    "### **Accidents visualization time line**. "
   ]
  },
  {
   "cell_type": "code",
   "execution_count": 95,
   "metadata": {
    "colab": {},
    "colab_type": "code",
    "id": "0Hg2uvOyhpUp"
   },
   "outputs": [],
   "source": [
    "df_time = pd.DataFrame()\n",
    "df_time['SEVERITYCODE']  = df['SEVERITYCODE']\n",
    "df_time['INCDATE'] = df['INCDATE'].str[:10]\n",
    "df_time[['YEAR', 'MONTH', 'DAY']] = df['INCDATE'].str.split('/', expand=True)\n",
    "df_time['DayOfWeek'] = pd.to_datetime(df['INCDATE']).dt.dayofweek"
   ]
  },
  {
   "cell_type": "markdown",
   "metadata": {
    "colab_type": "text",
    "id": "ZFtaGu6dgcmg"
   },
   "source": [
    "#### **Accidents over the years**\n",
    "\n",
    "\n",
    "> Following section shows a plot that depicts the number of accidents over years from 2004 to 2020.\n"
   ]
  },
  {
   "cell_type": "code",
   "execution_count": 96,
   "metadata": {
    "colab": {
     "base_uri": "https://localhost:8080/",
     "height": 536
    },
    "colab_type": "code",
    "id": "zIPGRJGwiwpS",
    "outputId": "d7b8e235-df90-41df-cea3-9e50373b0424"
   },
   "outputs": [
    {
     "data": {
      "text/plain": [
       "Text(0.5, 1.0, 'Accidents Per Year')"
      ]
     },
     "execution_count": 96,
     "metadata": {
      "tags": []
     },
     "output_type": "execute_result"
    },
    {
     "data": {
      "image/png": "[encoded data removed]",
      "text/plain": [
       "<Figure size 864x576 with 1 Axes>"
      ]
     },
     "metadata": {
      "tags": []
     },
     "output_type": "display_data"
    }
   ],
   "source": [
    "sns.countplot(data=df_time,x='SEVERITYCODE',hue='YEAR',  palette=\"Set3\").set_title(\"Accidents Per Year\")"
   ]
  },
  {
   "cell_type": "markdown",
   "metadata": {
    "colab_type": "text",
    "id": "Z88YK1skgzuf"
   },
   "source": [
    "\n",
    "\n",
    "> Interestingly, from the plot we observe that the number of accidents are decreasing over the years. The improved traffic control systems and increased strictness in traffic rules may have contributed in that.\n",
    "\n"
   ]
  },
  {
   "cell_type": "markdown",
   "metadata": {
    "colab_type": "text",
    "id": "_HsxuDaMhxnw"
   },
   "source": [
    "#### **Accidents over the days of week**\n",
    "\n",
    "\n",
    "> Following section shows a plot that depicts whether some days of the week are more prone to accidents. "
   ]
  },
  {
   "cell_type": "code",
   "execution_count": 97,
   "metadata": {
    "colab": {
     "base_uri": "https://localhost:8080/",
     "height": 536
    },
    "colab_type": "code",
    "id": "rrbghI02iyJu",
    "outputId": "2b7d07a6-258d-4827-99c2-f097ab787f9a"
   },
   "outputs": [
    {
     "data": {
      "text/plain": [
       "Text(0.5, 1.0, 'Accidents Per Day of Week')"
      ]
     },
     "execution_count": 97,
     "metadata": {
      "tags": []
     },
     "output_type": "execute_result"
    },
    {
     "data": {
      "image/png": "[encoded data removed]",
      "text/plain": [
       "<Figure size 864x576 with 1 Axes>"
      ]
     },
     "metadata": {
      "tags": []
     },
     "output_type": "display_data"
    }
   ],
   "source": [
    "sns.countplot(data=df_time,x='SEVERITYCODE',hue='DayOfWeek').set_title(\"Accidents Per Day of Week\")"
   ]
  },
  {
   "cell_type": "markdown",
   "metadata": {
    "colab_type": "text",
    "id": "cxmWqXJ7iIw4"
   },
   "source": [
    "\n",
    "\n",
    "> As we see, Fridays (day 4 in the plot) are more prone to both type of accidents. Friday marks the end of the weekdays, so drivers are more in a rush to go home and more reckless in their driving. Also weekends have much lesser accidents( property damage or injury) as people drive more during the weekdays than in the weekends. \n"
   ]
  },
  {
   "cell_type": "markdown",
   "metadata": {
    "colab_type": "text",
    "id": "Nj_2p8VZjY1j"
   },
   "source": [
    "####  **Accidents over months**\n",
    "\n",
    "\n",
    "> Following section shows a plot of number of accidents over different months.\n",
    "\n",
    "\n",
    "\n"
   ]
  },
  {
   "cell_type": "code",
   "execution_count": 98,
   "metadata": {
    "colab": {
     "base_uri": "https://localhost:8080/",
     "height": 536
    },
    "colab_type": "code",
    "id": "Dw6DBY72mLMw",
    "outputId": "afe51575-1893-4b2d-9f4a-35d8578cfcf7"
   },
   "outputs": [
    {
     "data": {
      "text/plain": [
       "Text(0.5, 1.0, 'Accidents Per Month')"
      ]
     },
     "execution_count": 98,
     "metadata": {
      "tags": []
     },
     "output_type": "execute_result"
    },
    {
     "data": {
      "image/png": "[encoded data removed]",
      "text/plain": [
       "<Figure size 864x576 with 1 Axes>"
      ]
     },
     "metadata": {
      "tags": []
     },
     "output_type": "display_data"
    }
   ],
   "source": [
    "sns.countplot(data=df_time,x='SEVERITYCODE',hue='MONTH',  palette=\"Set3\").set_title(\"Accidents Per Month\")"
   ]
  },
  {
   "cell_type": "markdown",
   "metadata": {
    "colab_type": "text",
    "id": "ymUF6Hmsj9z-"
   },
   "source": [
    "\n",
    "\n",
    "> As evident from the plot, October has higher number of accidents than the others. As the start of the Fall season, drivers have to adjust to new weather and road condition and hence the increase in accidents. \n",
    "\n"
   ]
  },
  {
   "cell_type": "markdown",
   "metadata": {
    "colab_type": "text",
    "id": "qaKaGp22r7vy"
   },
   "source": [
    "# **Statistical analysis**"
   ]
  },
  {
   "cell_type": "markdown",
   "metadata": {
    "colab_type": "text",
    "id": "iNxxyhkG6NKg"
   },
   "source": [
    "### **Chi square analysis**\n",
    "\n",
    "Chi square test is done to evaluate the relation between two categorical variables. Here, if the our calculated chi square value is higher than the critical chi square value then the variables in discussion indeed have a relation. If the variables have chi square value lower than the critical chi square value, then the variables in question are independent of each other. "
   ]
  },
  {
   "cell_type": "markdown",
   "metadata": {
    "colab_type": "text",
    "id": "kFvbYUGMsFHo"
   },
   "source": [
    "### **Chi Square** Value among different variables"
   ]
  },
  {
   "cell_type": "code",
   "execution_count": 99,
   "metadata": {
    "colab": {},
    "colab_type": "code",
    "id": "HBw8haxxsAU8"
   },
   "outputs": [],
   "source": [
    "import scipy.stats as scs\n",
    "\n",
    "columns_list_for_matrix = {'SEVERITYCODE':df.SEVERITYCODE ,'COLLISIONTYPE': df.COLLISIONTYPE, 'JUNCTIONTYPE': df.JUNCTIONTYPE, 'WEATHER': df.WEATHER, \n",
    "                'ROADCOND': df.ROADCOND, 'LIGHTCOND': df.LIGHTCOND, 'UNDERINFL': df.UNDERINFL, 'STATUS': df.STATUS, \n",
    "                'PERSONCOUNT': df.PERSONCOUNT, 'PEDCOUNT': df.PEDCOUNT, 'PEDCYLCOUNT': df.PEDCYLCOUNT, 'VEHCOUNT': df.VEHCOUNT, \n",
    "                'HITPARKEDCAR': df.HITPARKEDCAR}\n",
    "chi2_df = pd.DataFrame(columns=columns_list_for_matrix.keys())\n",
    "for row, row_variable in columns_list_for_matrix.items():\n",
    "    data = {'column': row}\n",
    "    for column, column_variable in columns_list_for_matrix.items():\n",
    "        chi2 = scs.chi2_contingency(pd.crosstab(row_variable, column_variable))\n",
    "        data[column] = chi2[0]\n",
    "    chi2_df = chi2_df.append(data, ignore_index=True)\n",
    "chi2_df.set_index('column', inplace=True)"
   ]
  },
  {
   "cell_type": "code",
   "execution_count": 100,
   "metadata": {
    "colab": {
     "base_uri": "https://localhost:8080/",
     "height": 488
    },
    "colab_type": "code",
    "id": "W3PG2V-ysYiJ",
    "outputId": "0a48da69-6e99-4ef4-a484-6d2a075c5bf9"
   },
   "outputs": [
    {
     "data": {
      "text/html": [
       "<div>\n",
       "<style scoped>\n",
       "    .dataframe tbody tr th:only-of-type {\n",
       "        vertical-align: middle;\n",
       "    }\n",
       "\n",
       "    .dataframe tbody tr th {\n",
       "        vertical-align: top;\n",
       "    }\n",
       "\n",
       "    .dataframe thead th {\n",
       "        text-align: right;\n",
       "    }\n",
       "</style>\n",
       "<table border=\"1\" class=\"dataframe\">\n",
       "  <thead>\n",
       "    <tr style=\"text-align: right;\">\n",
       "      <th></th>\n",
       "      <th>SEVERITYCODE</th>\n",
       "      <th>COLLISIONTYPE</th>\n",
       "      <th>JUNCTIONTYPE</th>\n",
       "      <th>WEATHER</th>\n",
       "      <th>ROADCOND</th>\n",
       "      <th>LIGHTCOND</th>\n",
       "      <th>UNDERINFL</th>\n",
       "      <th>STATUS</th>\n",
       "      <th>PERSONCOUNT</th>\n",
       "      <th>PEDCOUNT</th>\n",
       "      <th>PEDCYLCOUNT</th>\n",
       "      <th>VEHCOUNT</th>\n",
       "      <th>HITPARKEDCAR</th>\n",
       "    </tr>\n",
       "    <tr>\n",
       "      <th>column</th>\n",
       "      <th></th>\n",
       "      <th></th>\n",
       "      <th></th>\n",
       "      <th></th>\n",
       "      <th></th>\n",
       "      <th></th>\n",
       "      <th></th>\n",
       "      <th></th>\n",
       "      <th></th>\n",
       "      <th></th>\n",
       "      <th></th>\n",
       "      <th></th>\n",
       "      <th></th>\n",
       "    </tr>\n",
       "  </thead>\n",
       "  <tbody>\n",
       "    <tr>\n",
       "      <th>SEVERITYCODE</th>\n",
       "      <td>194668.228110</td>\n",
       "      <td>4.107856e+04</td>\n",
       "      <td>8.172897e+03</td>\n",
       "      <td>5.013393e+03</td>\n",
       "      <td>5.116816e+03</td>\n",
       "      <td>4.823546e+03</td>\n",
       "      <td>512.356991</td>\n",
       "      <td>186.256270</td>\n",
       "      <td>6.105591e+03</td>\n",
       "      <td>1.238291e+04</td>\n",
       "      <td>8977.034087</td>\n",
       "      <td>1.114288e+04</td>\n",
       "      <td>2004.311235</td>\n",
       "    </tr>\n",
       "    <tr>\n",
       "      <th>COLLISIONTYPE</th>\n",
       "      <td>41078.556865</td>\n",
       "      <td>1.707921e+06</td>\n",
       "      <td>1.280086e+05</td>\n",
       "      <td>2.519112e+04</td>\n",
       "      <td>2.678622e+04</td>\n",
       "      <td>2.862211e+04</td>\n",
       "      <td>4608.660288</td>\n",
       "      <td>8.109438</td>\n",
       "      <td>9.438088e+04</td>\n",
       "      <td>1.803008e+05</td>\n",
       "      <td>187162.546596</td>\n",
       "      <td>1.499235e+05</td>\n",
       "      <td>19063.970940</td>\n",
       "    </tr>\n",
       "    <tr>\n",
       "      <th>JUNCTIONTYPE</th>\n",
       "      <td>8172.896833</td>\n",
       "      <td>1.280086e+05</td>\n",
       "      <td>1.130064e+06</td>\n",
       "      <td>5.206551e+03</td>\n",
       "      <td>5.604407e+03</td>\n",
       "      <td>6.391852e+03</td>\n",
       "      <td>3942.487920</td>\n",
       "      <td>229.095216</td>\n",
       "      <td>3.621641e+03</td>\n",
       "      <td>4.481650e+03</td>\n",
       "      <td>1943.888488</td>\n",
       "      <td>2.900010e+03</td>\n",
       "      <td>4825.010870</td>\n",
       "    </tr>\n",
       "    <tr>\n",
       "      <th>WEATHER</th>\n",
       "      <td>5013.393455</td>\n",
       "      <td>2.519112e+04</td>\n",
       "      <td>5.206551e+03</td>\n",
       "      <td>1.895920e+06</td>\n",
       "      <td>3.539509e+05</td>\n",
       "      <td>1.099408e+05</td>\n",
       "      <td>998.063016</td>\n",
       "      <td>1.755714</td>\n",
       "      <td>8.110407e+03</td>\n",
       "      <td>4.466655e+02</td>\n",
       "      <td>609.983046</td>\n",
       "      <td>2.883085e+03</td>\n",
       "      <td>2656.558243</td>\n",
       "    </tr>\n",
       "    <tr>\n",
       "      <th>ROADCOND</th>\n",
       "      <td>5116.816090</td>\n",
       "      <td>2.678622e+04</td>\n",
       "      <td>5.604407e+03</td>\n",
       "      <td>3.539509e+05</td>\n",
       "      <td>1.517288e+06</td>\n",
       "      <td>1.069218e+05</td>\n",
       "      <td>1152.497533</td>\n",
       "      <td>0.362701</td>\n",
       "      <td>9.166871e+03</td>\n",
       "      <td>3.813719e+02</td>\n",
       "      <td>610.912178</td>\n",
       "      <td>3.555454e+03</td>\n",
       "      <td>2718.435185</td>\n",
       "    </tr>\n",
       "    <tr>\n",
       "      <th>LIGHTCOND</th>\n",
       "      <td>4823.546033</td>\n",
       "      <td>2.862211e+04</td>\n",
       "      <td>6.391852e+03</td>\n",
       "      <td>1.099408e+05</td>\n",
       "      <td>1.069218e+05</td>\n",
       "      <td>1.516024e+06</td>\n",
       "      <td>11363.382060</td>\n",
       "      <td>0.477872</td>\n",
       "      <td>9.502331e+03</td>\n",
       "      <td>4.964605e+02</td>\n",
       "      <td>616.829139</td>\n",
       "      <td>4.801157e+03</td>\n",
       "      <td>2466.519405</td>\n",
       "    </tr>\n",
       "    <tr>\n",
       "      <th>UNDERINFL</th>\n",
       "      <td>512.356991</td>\n",
       "      <td>4.608660e+03</td>\n",
       "      <td>3.942488e+03</td>\n",
       "      <td>9.980630e+02</td>\n",
       "      <td>1.152498e+03</td>\n",
       "      <td>1.136338e+04</td>\n",
       "      <td>569367.000000</td>\n",
       "      <td>4.082272</td>\n",
       "      <td>8.129420e+03</td>\n",
       "      <td>2.489416e+02</td>\n",
       "      <td>338.714269</td>\n",
       "      <td>4.351426e+03</td>\n",
       "      <td>5786.348685</td>\n",
       "    </tr>\n",
       "    <tr>\n",
       "      <th>STATUS</th>\n",
       "      <td>186.256270</td>\n",
       "      <td>8.109438e+00</td>\n",
       "      <td>2.290952e+02</td>\n",
       "      <td>1.755714e+00</td>\n",
       "      <td>3.627013e-01</td>\n",
       "      <td>4.778716e-01</td>\n",
       "      <td>4.082272</td>\n",
       "      <td>194632.141526</td>\n",
       "      <td>4.489816e+03</td>\n",
       "      <td>1.852840e+02</td>\n",
       "      <td>145.306637</td>\n",
       "      <td>1.866621e+05</td>\n",
       "      <td>79.608863</td>\n",
       "    </tr>\n",
       "    <tr>\n",
       "      <th>PERSONCOUNT</th>\n",
       "      <td>6105.591277</td>\n",
       "      <td>9.438088e+04</td>\n",
       "      <td>3.621641e+03</td>\n",
       "      <td>8.110407e+03</td>\n",
       "      <td>9.166871e+03</td>\n",
       "      <td>9.502331e+03</td>\n",
       "      <td>8129.420401</td>\n",
       "      <td>4489.815609</td>\n",
       "      <td>8.954958e+06</td>\n",
       "      <td>3.041226e+03</td>\n",
       "      <td>826.861759</td>\n",
       "      <td>1.659871e+05</td>\n",
       "      <td>1679.104519</td>\n",
       "    </tr>\n",
       "    <tr>\n",
       "      <th>PEDCOUNT</th>\n",
       "      <td>12382.908589</td>\n",
       "      <td>1.803008e+05</td>\n",
       "      <td>4.481650e+03</td>\n",
       "      <td>4.466655e+02</td>\n",
       "      <td>3.813719e+02</td>\n",
       "      <td>4.964605e+02</td>\n",
       "      <td>248.941605</td>\n",
       "      <td>185.283968</td>\n",
       "      <td>3.041226e+03</td>\n",
       "      <td>1.168038e+06</td>\n",
       "      <td>57.748872</td>\n",
       "      <td>4.211344e+04</td>\n",
       "      <td>253.817734</td>\n",
       "    </tr>\n",
       "    <tr>\n",
       "      <th>PEDCYLCOUNT</th>\n",
       "      <td>8977.034087</td>\n",
       "      <td>1.871625e+05</td>\n",
       "      <td>1.943888e+03</td>\n",
       "      <td>6.099830e+02</td>\n",
       "      <td>6.109122e+02</td>\n",
       "      <td>6.168291e+02</td>\n",
       "      <td>338.714269</td>\n",
       "      <td>145.306637</td>\n",
       "      <td>8.268618e+02</td>\n",
       "      <td>5.774887e+01</td>\n",
       "      <td>389346.000000</td>\n",
       "      <td>3.320603e+04</td>\n",
       "      <td>178.526787</td>\n",
       "    </tr>\n",
       "    <tr>\n",
       "      <th>VEHCOUNT</th>\n",
       "      <td>11142.877772</td>\n",
       "      <td>1.499235e+05</td>\n",
       "      <td>2.900010e+03</td>\n",
       "      <td>2.883085e+03</td>\n",
       "      <td>3.555454e+03</td>\n",
       "      <td>4.801157e+03</td>\n",
       "      <td>4351.426295</td>\n",
       "      <td>186662.079438</td>\n",
       "      <td>1.659871e+05</td>\n",
       "      <td>4.211344e+04</td>\n",
       "      <td>33206.034535</td>\n",
       "      <td>2.336076e+06</td>\n",
       "      <td>1190.160295</td>\n",
       "    </tr>\n",
       "    <tr>\n",
       "      <th>HITPARKEDCAR</th>\n",
       "      <td>2004.311235</td>\n",
       "      <td>1.906397e+04</td>\n",
       "      <td>4.825011e+03</td>\n",
       "      <td>2.656558e+03</td>\n",
       "      <td>2.718435e+03</td>\n",
       "      <td>2.466519e+03</td>\n",
       "      <td>5786.348685</td>\n",
       "      <td>79.608863</td>\n",
       "      <td>1.679105e+03</td>\n",
       "      <td>2.538177e+02</td>\n",
       "      <td>178.526787</td>\n",
       "      <td>1.190160e+03</td>\n",
       "      <td>194644.984548</td>\n",
       "    </tr>\n",
       "  </tbody>\n",
       "</table>\n",
       "</div>"
      ],
      "text/plain": [
       "                SEVERITYCODE  COLLISIONTYPE  ...      VEHCOUNT   HITPARKEDCAR\n",
       "column                                       ...                             \n",
       "SEVERITYCODE   194668.228110   4.107856e+04  ...  1.114288e+04    2004.311235\n",
       "COLLISIONTYPE   41078.556865   1.707921e+06  ...  1.499235e+05   19063.970940\n",
       "JUNCTIONTYPE     8172.896833   1.280086e+05  ...  2.900010e+03    4825.010870\n",
       "WEATHER          5013.393455   2.519112e+04  ...  2.883085e+03    2656.558243\n",
       "ROADCOND         5116.816090   2.678622e+04  ...  3.555454e+03    2718.435185\n",
       "LIGHTCOND        4823.546033   2.862211e+04  ...  4.801157e+03    2466.519405\n",
       "UNDERINFL         512.356991   4.608660e+03  ...  4.351426e+03    5786.348685\n",
       "STATUS            186.256270   8.109438e+00  ...  1.866621e+05      79.608863\n",
       "PERSONCOUNT      6105.591277   9.438088e+04  ...  1.659871e+05    1679.104519\n",
       "PEDCOUNT        12382.908589   1.803008e+05  ...  4.211344e+04     253.817734\n",
       "PEDCYLCOUNT      8977.034087   1.871625e+05  ...  3.320603e+04     178.526787\n",
       "VEHCOUNT        11142.877772   1.499235e+05  ...  2.336076e+06    1190.160295\n",
       "HITPARKEDCAR     2004.311235   1.906397e+04  ...  1.190160e+03  194644.984548\n",
       "\n",
       "[13 rows x 13 columns]"
      ]
     },
     "execution_count": 100,
     "metadata": {
      "tags": []
     },
     "output_type": "execute_result"
    }
   ],
   "source": [
    "chi2_df"
   ]
  },
  {
   "cell_type": "markdown",
   "metadata": {
    "colab_type": "text",
    "id": "-CgzBAsKtD4l"
   },
   "source": [
    "### **P Value** Value among different variables"
   ]
  },
  {
   "cell_type": "markdown",
   "metadata": {
    "colab_type": "text",
    "id": "Xv6RNqQMM02n"
   },
   "source": [
    "The level of statistical significance is often expressed as a p-value between 0 and 1. The smaller the p-value, the stronger the evidence that you should reject the null hypothesis which is there is no relationship between two variables .\n",
    "Basically a small p-value indicates that the variables are highly dependent and correlated. From the table below it is clearly visible that many attributues are highly correlated with each others. "
   ]
  },
  {
   "cell_type": "code",
   "execution_count": 101,
   "metadata": {
    "colab": {},
    "colab_type": "code",
    "id": "I0tp1h0ktDG9"
   },
   "outputs": [],
   "source": [
    "import scipy.stats as scs\n",
    "\n",
    "columns_list_for_matrix = {'SEVERITYCODE':df.SEVERITYCODE ,'COLLISIONTYPE': df.COLLISIONTYPE, 'JUNCTIONTYPE': df.JUNCTIONTYPE, 'WEATHER': df.WEATHER, \n",
    "                'ROADCOND': df.ROADCOND, 'LIGHTCOND': df.LIGHTCOND, 'UNDERINFL': df.UNDERINFL, 'STATUS': df.STATUS, \n",
    "                'PERSONCOUNT': df.PERSONCOUNT, 'PEDCOUNT': df.PEDCOUNT, 'PEDCYLCOUNT': df.PEDCYLCOUNT, 'VEHCOUNT': df.VEHCOUNT, \n",
    "                'HITPARKEDCAR': df.HITPARKEDCAR}\n",
    "pval_df = pd.DataFrame(columns=columns_list_for_matrix.keys())\n",
    "for row, row_variable in columns_list_for_matrix.items():\n",
    "    data = {'column': row}\n",
    "    for column, column_variable in columns_list_for_matrix.items():\n",
    "        chi2 = scs.chi2_contingency(pd.crosstab(row_variable, column_variable))\n",
    "        data[column] = chi2[1]\n",
    "    pval_df = pval_df.append(data, ignore_index=True)\n",
    "pval_df.set_index('column', inplace=True)"
   ]
  },
  {
   "cell_type": "code",
   "execution_count": 102,
   "metadata": {
    "colab": {
     "base_uri": "https://localhost:8080/",
     "height": 644
    },
    "colab_type": "code",
    "id": "Qbq7deUMsdQV",
    "outputId": "20466ac6-0f72-45ab-b2b6-1ba7f68650f9"
   },
   "outputs": [
    {
     "data": {
      "text/html": [
       "<div>\n",
       "<style scoped>\n",
       "    .dataframe tbody tr th:only-of-type {\n",
       "        vertical-align: middle;\n",
       "    }\n",
       "\n",
       "    .dataframe tbody tr th {\n",
       "        vertical-align: top;\n",
       "    }\n",
       "\n",
       "    .dataframe thead th {\n",
       "        text-align: right;\n",
       "    }\n",
       "</style>\n",
       "<table border=\"1\" class=\"dataframe\">\n",
       "  <thead>\n",
       "    <tr style=\"text-align: right;\">\n",
       "      <th></th>\n",
       "      <th>SEVERITYCODE</th>\n",
       "      <th>COLLISIONTYPE</th>\n",
       "      <th>JUNCTIONTYPE</th>\n",
       "      <th>WEATHER</th>\n",
       "      <th>ROADCOND</th>\n",
       "      <th>LIGHTCOND</th>\n",
       "      <th>UNDERINFL</th>\n",
       "      <th>STATUS</th>\n",
       "      <th>PERSONCOUNT</th>\n",
       "      <th>PEDCOUNT</th>\n",
       "      <th>PEDCYLCOUNT</th>\n",
       "      <th>VEHCOUNT</th>\n",
       "      <th>HITPARKEDCAR</th>\n",
       "    </tr>\n",
       "    <tr>\n",
       "      <th>column</th>\n",
       "      <th></th>\n",
       "      <th></th>\n",
       "      <th></th>\n",
       "      <th></th>\n",
       "      <th></th>\n",
       "      <th></th>\n",
       "      <th></th>\n",
       "      <th></th>\n",
       "      <th></th>\n",
       "      <th></th>\n",
       "      <th></th>\n",
       "      <th></th>\n",
       "      <th></th>\n",
       "    </tr>\n",
       "  </thead>\n",
       "  <tbody>\n",
       "    <tr>\n",
       "      <th>SEVERITYCODE</th>\n",
       "      <td>0.000000e+00</td>\n",
       "      <td>0.000000</td>\n",
       "      <td>0.000000e+00</td>\n",
       "      <td>0.000000e+00</td>\n",
       "      <td>0.000000e+00</td>\n",
       "      <td>0.000000e+00</td>\n",
       "      <td>1.001532e-110</td>\n",
       "      <td>2.087124e-42</td>\n",
       "      <td>0.000000e+00</td>\n",
       "      <td>0.000000e+00</td>\n",
       "      <td>0.000000e+00</td>\n",
       "      <td>0.000000e+00</td>\n",
       "      <td>0.000000e+00</td>\n",
       "    </tr>\n",
       "    <tr>\n",
       "      <th>COLLISIONTYPE</th>\n",
       "      <td>0.000000e+00</td>\n",
       "      <td>0.000000</td>\n",
       "      <td>0.000000e+00</td>\n",
       "      <td>0.000000e+00</td>\n",
       "      <td>0.000000e+00</td>\n",
       "      <td>0.000000e+00</td>\n",
       "      <td>0.000000e+00</td>\n",
       "      <td>5.231563e-01</td>\n",
       "      <td>0.000000e+00</td>\n",
       "      <td>0.000000e+00</td>\n",
       "      <td>0.000000e+00</td>\n",
       "      <td>0.000000e+00</td>\n",
       "      <td>0.000000e+00</td>\n",
       "    </tr>\n",
       "    <tr>\n",
       "      <th>JUNCTIONTYPE</th>\n",
       "      <td>0.000000e+00</td>\n",
       "      <td>0.000000</td>\n",
       "      <td>0.000000e+00</td>\n",
       "      <td>0.000000e+00</td>\n",
       "      <td>0.000000e+00</td>\n",
       "      <td>0.000000e+00</td>\n",
       "      <td>0.000000e+00</td>\n",
       "      <td>1.194346e-46</td>\n",
       "      <td>0.000000e+00</td>\n",
       "      <td>0.000000e+00</td>\n",
       "      <td>0.000000e+00</td>\n",
       "      <td>0.000000e+00</td>\n",
       "      <td>0.000000e+00</td>\n",
       "    </tr>\n",
       "    <tr>\n",
       "      <th>WEATHER</th>\n",
       "      <td>0.000000e+00</td>\n",
       "      <td>0.000000</td>\n",
       "      <td>0.000000e+00</td>\n",
       "      <td>0.000000e+00</td>\n",
       "      <td>0.000000e+00</td>\n",
       "      <td>0.000000e+00</td>\n",
       "      <td>1.315483e-190</td>\n",
       "      <td>9.978927e-01</td>\n",
       "      <td>0.000000e+00</td>\n",
       "      <td>1.741679e-60</td>\n",
       "      <td>2.268066e-116</td>\n",
       "      <td>0.000000e+00</td>\n",
       "      <td>0.000000e+00</td>\n",
       "    </tr>\n",
       "    <tr>\n",
       "      <th>ROADCOND</th>\n",
       "      <td>0.000000e+00</td>\n",
       "      <td>0.000000</td>\n",
       "      <td>0.000000e+00</td>\n",
       "      <td>0.000000e+00</td>\n",
       "      <td>0.000000e+00</td>\n",
       "      <td>0.000000e+00</td>\n",
       "      <td>3.252748e-228</td>\n",
       "      <td>9.999610e-01</td>\n",
       "      <td>0.000000e+00</td>\n",
       "      <td>1.889932e-53</td>\n",
       "      <td>1.107520e-119</td>\n",
       "      <td>0.000000e+00</td>\n",
       "      <td>0.000000e+00</td>\n",
       "    </tr>\n",
       "    <tr>\n",
       "      <th>LIGHTCOND</th>\n",
       "      <td>0.000000e+00</td>\n",
       "      <td>0.000000</td>\n",
       "      <td>0.000000e+00</td>\n",
       "      <td>0.000000e+00</td>\n",
       "      <td>0.000000e+00</td>\n",
       "      <td>0.000000e+00</td>\n",
       "      <td>0.000000e+00</td>\n",
       "      <td>9.998877e-01</td>\n",
       "      <td>0.000000e+00</td>\n",
       "      <td>8.056961e-76</td>\n",
       "      <td>6.147597e-121</td>\n",
       "      <td>0.000000e+00</td>\n",
       "      <td>0.000000e+00</td>\n",
       "    </tr>\n",
       "    <tr>\n",
       "      <th>UNDERINFL</th>\n",
       "      <td>1.001532e-110</td>\n",
       "      <td>0.000000</td>\n",
       "      <td>0.000000e+00</td>\n",
       "      <td>1.315483e-190</td>\n",
       "      <td>3.252748e-228</td>\n",
       "      <td>0.000000e+00</td>\n",
       "      <td>0.000000e+00</td>\n",
       "      <td>2.527162e-01</td>\n",
       "      <td>0.000000e+00</td>\n",
       "      <td>1.338553e-42</td>\n",
       "      <td>4.081658e-70</td>\n",
       "      <td>0.000000e+00</td>\n",
       "      <td>0.000000e+00</td>\n",
       "    </tr>\n",
       "    <tr>\n",
       "      <th>STATUS</th>\n",
       "      <td>2.087124e-42</td>\n",
       "      <td>0.523156</td>\n",
       "      <td>1.194346e-46</td>\n",
       "      <td>9.978927e-01</td>\n",
       "      <td>9.999610e-01</td>\n",
       "      <td>9.998877e-01</td>\n",
       "      <td>2.527162e-01</td>\n",
       "      <td>0.000000e+00</td>\n",
       "      <td>0.000000e+00</td>\n",
       "      <td>2.558930e-37</td>\n",
       "      <td>2.799398e-32</td>\n",
       "      <td>0.000000e+00</td>\n",
       "      <td>4.563736e-19</td>\n",
       "    </tr>\n",
       "    <tr>\n",
       "      <th>PERSONCOUNT</th>\n",
       "      <td>0.000000e+00</td>\n",
       "      <td>0.000000</td>\n",
       "      <td>0.000000e+00</td>\n",
       "      <td>0.000000e+00</td>\n",
       "      <td>0.000000e+00</td>\n",
       "      <td>0.000000e+00</td>\n",
       "      <td>0.000000e+00</td>\n",
       "      <td>0.000000e+00</td>\n",
       "      <td>0.000000e+00</td>\n",
       "      <td>0.000000e+00</td>\n",
       "      <td>1.443688e-118</td>\n",
       "      <td>0.000000e+00</td>\n",
       "      <td>0.000000e+00</td>\n",
       "    </tr>\n",
       "    <tr>\n",
       "      <th>PEDCOUNT</th>\n",
       "      <td>0.000000e+00</td>\n",
       "      <td>0.000000</td>\n",
       "      <td>0.000000e+00</td>\n",
       "      <td>1.741679e-60</td>\n",
       "      <td>1.889932e-53</td>\n",
       "      <td>8.056961e-76</td>\n",
       "      <td>1.338553e-42</td>\n",
       "      <td>2.558930e-37</td>\n",
       "      <td>0.000000e+00</td>\n",
       "      <td>0.000000e+00</td>\n",
       "      <td>5.787558e-08</td>\n",
       "      <td>0.000000e+00</td>\n",
       "      <td>6.265809e-52</td>\n",
       "    </tr>\n",
       "    <tr>\n",
       "      <th>PEDCYLCOUNT</th>\n",
       "      <td>0.000000e+00</td>\n",
       "      <td>0.000000</td>\n",
       "      <td>0.000000e+00</td>\n",
       "      <td>2.268066e-116</td>\n",
       "      <td>1.107520e-119</td>\n",
       "      <td>6.147597e-121</td>\n",
       "      <td>4.081658e-70</td>\n",
       "      <td>2.799398e-32</td>\n",
       "      <td>1.443688e-118</td>\n",
       "      <td>5.787558e-08</td>\n",
       "      <td>0.000000e+00</td>\n",
       "      <td>0.000000e+00</td>\n",
       "      <td>1.711594e-39</td>\n",
       "    </tr>\n",
       "    <tr>\n",
       "      <th>VEHCOUNT</th>\n",
       "      <td>0.000000e+00</td>\n",
       "      <td>0.000000</td>\n",
       "      <td>0.000000e+00</td>\n",
       "      <td>0.000000e+00</td>\n",
       "      <td>0.000000e+00</td>\n",
       "      <td>0.000000e+00</td>\n",
       "      <td>0.000000e+00</td>\n",
       "      <td>0.000000e+00</td>\n",
       "      <td>0.000000e+00</td>\n",
       "      <td>0.000000e+00</td>\n",
       "      <td>0.000000e+00</td>\n",
       "      <td>0.000000e+00</td>\n",
       "      <td>2.276827e-247</td>\n",
       "    </tr>\n",
       "    <tr>\n",
       "      <th>HITPARKEDCAR</th>\n",
       "      <td>0.000000e+00</td>\n",
       "      <td>0.000000</td>\n",
       "      <td>0.000000e+00</td>\n",
       "      <td>0.000000e+00</td>\n",
       "      <td>0.000000e+00</td>\n",
       "      <td>0.000000e+00</td>\n",
       "      <td>0.000000e+00</td>\n",
       "      <td>4.563736e-19</td>\n",
       "      <td>0.000000e+00</td>\n",
       "      <td>6.265809e-52</td>\n",
       "      <td>1.711594e-39</td>\n",
       "      <td>2.276827e-247</td>\n",
       "      <td>0.000000e+00</td>\n",
       "    </tr>\n",
       "  </tbody>\n",
       "</table>\n",
       "</div>"
      ],
      "text/plain": [
       "                SEVERITYCODE  COLLISIONTYPE  ...       VEHCOUNT   HITPARKEDCAR\n",
       "column                                       ...                              \n",
       "SEVERITYCODE    0.000000e+00       0.000000  ...   0.000000e+00   0.000000e+00\n",
       "COLLISIONTYPE   0.000000e+00       0.000000  ...   0.000000e+00   0.000000e+00\n",
       "JUNCTIONTYPE    0.000000e+00       0.000000  ...   0.000000e+00   0.000000e+00\n",
       "WEATHER         0.000000e+00       0.000000  ...   0.000000e+00   0.000000e+00\n",
       "ROADCOND        0.000000e+00       0.000000  ...   0.000000e+00   0.000000e+00\n",
       "LIGHTCOND       0.000000e+00       0.000000  ...   0.000000e+00   0.000000e+00\n",
       "UNDERINFL      1.001532e-110       0.000000  ...   0.000000e+00   0.000000e+00\n",
       "STATUS          2.087124e-42       0.523156  ...   0.000000e+00   4.563736e-19\n",
       "PERSONCOUNT     0.000000e+00       0.000000  ...   0.000000e+00   0.000000e+00\n",
       "PEDCOUNT        0.000000e+00       0.000000  ...   0.000000e+00   6.265809e-52\n",
       "PEDCYLCOUNT     0.000000e+00       0.000000  ...   0.000000e+00   1.711594e-39\n",
       "VEHCOUNT        0.000000e+00       0.000000  ...   0.000000e+00  2.276827e-247\n",
       "HITPARKEDCAR    0.000000e+00       0.000000  ...  2.276827e-247   0.000000e+00\n",
       "\n",
       "[13 rows x 13 columns]"
      ]
     },
     "execution_count": 102,
     "metadata": {
      "tags": []
     },
     "output_type": "execute_result"
    }
   ],
   "source": [
    "pval_df"
   ]
  },
  {
   "cell_type": "markdown",
   "metadata": {
    "colab_type": "text",
    "id": "2sc1xRjTvAX1"
   },
   "source": [
    "# **Feature Selection**"
   ]
  },
  {
   "cell_type": "markdown",
   "metadata": {
    "colab_type": "text",
    "id": "1gcIIc4069m4"
   },
   "source": [
    "### XGBoost"
   ]
  },
  {
   "cell_type": "markdown",
   "metadata": {
    "colab_type": "text",
    "id": "YksZrSELB2Bt"
   },
   "source": [
    "Selecting important features for model is very challeging task specially when the number of features are very large and strongly dependent with prediction variable. Feature selection reduces the complexity of a model and makes it easier to interpret. It improves the accuracy of a model if the right subset is chosen. We have used XGBoost to select essential features.\n",
    "\n",
    "We have also considered different feature set to train the model and reported the results."
   ]
  },
  {
   "cell_type": "code",
   "execution_count": 103,
   "metadata": {
    "colab": {},
    "colab_type": "code",
    "id": "cXvZMpbP7Agg"
   },
   "outputs": [],
   "source": [
    "features = ['STATUS', 'ADDRTYPE', 'COLLISIONTYPE', 'JUNCTIONTYPE', 'WEATHER', 'ROADCOND', 'LIGHTCOND', 'UNDERINFL', 'HITPARKEDCAR', 'PERSONCOUNT', 'PEDCOUNT', 'PEDCYLCOUNT', 'VEHCOUNT', 'SEVERITYCODE']\n",
    "feature_df = df[features]"
   ]
  },
  {
   "cell_type": "code",
   "execution_count": 104,
   "metadata": {
    "colab": {
     "base_uri": "https://localhost:8080/",
     "height": 146
    },
    "colab_type": "code",
    "id": "l1N1l8tT8sf3",
    "outputId": "97f8dba7-03b2-4adc-cb94-020807ffb2f6"
   },
   "outputs": [
    {
     "name": "stderr",
     "output_type": "stream",
     "text": [
      "/usr/local/lib/python3.6/dist-packages/pandas/core/generic.py:6666: SettingWithCopyWarning: \n",
      "A value is trying to be set on a copy of a slice from a DataFrame.\n",
      "Try using .loc[row_indexer,col_indexer] = value instead\n",
      "\n",
      "See the caveats in the documentation: https://pandas.pydata.org/pandas-docs/stable/user_guide/indexing.html#returning-a-view-versus-a-copy\n",
      "  regex=regex,\n"
     ]
    }
   ],
   "source": [
    "# replacing values of UNDERINFL\n",
    "feature_df.replace({'UNDERINFL': {'0':'N', '1':'Y'}}, inplace=True)"
   ]
  },
  {
   "cell_type": "code",
   "execution_count": 105,
   "metadata": {
    "colab": {
     "base_uri": "https://localhost:8080/",
     "height": 401
    },
    "colab_type": "code",
    "id": "u1jOFPki88_Q",
    "outputId": "275b18f7-be3d-4bdc-fe5c-d823f78bf12a"
   },
   "outputs": [
    {
     "name": "stderr",
     "output_type": "stream",
     "text": [
      "/usr/local/lib/python3.6/dist-packages/pandas/core/generic.py:6245: SettingWithCopyWarning: \n",
      "A value is trying to be set on a copy of a slice from a DataFrame\n",
      "\n",
      "See the caveats in the documentation: https://pandas.pydata.org/pandas-docs/stable/user_guide/indexing.html#returning-a-view-versus-a-copy\n",
      "  self._update_inplace(new_data)\n"
     ]
    },
    {
     "data": {
      "text/plain": [
       "STATUS           0\n",
       "ADDRTYPE         0\n",
       "COLLISIONTYPE    0\n",
       "JUNCTIONTYPE     0\n",
       "WEATHER          0\n",
       "ROADCOND         0\n",
       "LIGHTCOND        0\n",
       "UNDERINFL        0\n",
       "HITPARKEDCAR     0\n",
       "PERSONCOUNT      0\n",
       "PEDCOUNT         0\n",
       "PEDCYLCOUNT      0\n",
       "VEHCOUNT         0\n",
       "SEVERITYCODE     0\n",
       "dtype: int64"
      ]
     },
     "execution_count": 105,
     "metadata": {
      "tags": []
     },
     "output_type": "execute_result"
    }
   ],
   "source": [
    "# replacing null values with mode\n",
    "for column in feature_df:\n",
    "    if feature_df[column].isnull().sum() > 0 :\n",
    "        feature_df[column].fillna(feature_df[column].mode()[0], inplace=True)\n",
    "feature_df.isnull().sum()"
   ]
  },
  {
   "cell_type": "code",
   "execution_count": 106,
   "metadata": {
    "colab": {},
    "colab_type": "code",
    "id": "d_UMzAIq9Byh"
   },
   "outputs": [],
   "source": [
    "X = feature_df.iloc[:, :-1]\n",
    "Y = feature_df.iloc[:, -1:]"
   ]
  },
  {
   "cell_type": "code",
   "execution_count": 107,
   "metadata": {
    "colab": {
     "base_uri": "https://localhost:8080/",
     "height": 163
    },
    "colab_type": "code",
    "id": "ggsP2iPw9JZz",
    "outputId": "e6c28d31-b084-4adc-b380-b375ec5578ca"
   },
   "outputs": [
    {
     "name": "stdout",
     "output_type": "stream",
     "text": [
      "   STATUS  ADDRTYPE  COLLISIONTYPE  ...  PEDCOUNT  PEDCYLCOUNT  VEHCOUNT\n",
      "0       0         2              0  ...         0            0         2\n",
      "1       0         1              9  ...         0            0         2\n",
      "2       0         1              5  ...         0            0         3\n",
      "3       0         1              4  ...         0            0         3\n",
      "4       0         2              0  ...         0            0         2\n",
      "\n",
      "[5 rows x 13 columns]\n"
     ]
    }
   ],
   "source": [
    "from sklearn import preprocessing\n",
    "\n",
    "count_features = ['PERSONCOUNT',\t'PEDCOUNT',\t'PEDCYLCOUNT',\t'VEHCOUNT']\n",
    "\n",
    "# label encoding the columns with dtype string\n",
    "label_encoder = preprocessing.LabelEncoder()\n",
    "for column in X:\n",
    "    if column in  count_features:\n",
    "        continue\n",
    "    X[column] = label_encoder.fit_transform(X[column])\n",
    "\n",
    "print(X.head())"
   ]
  },
  {
   "cell_type": "code",
   "execution_count": 108,
   "metadata": {
    "colab": {
     "base_uri": "https://localhost:8080/",
     "height": 611
    },
    "colab_type": "code",
    "id": "Qe1ylHBY9P5Z",
    "outputId": "0ddf34fe-c34e-4242-ba28-4106da9fb193"
   },
   "outputs": [
    {
     "name": "stderr",
     "output_type": "stream",
     "text": [
      "/usr/local/lib/python3.6/dist-packages/sklearn/preprocessing/_label.py:235: DataConversionWarning: A column-vector y was passed when a 1d array was expected. Please change the shape of y to (n_samples, ), for example using ravel().\n",
      "  y = column_or_1d(y, warn=True)\n",
      "/usr/local/lib/python3.6/dist-packages/sklearn/preprocessing/_label.py:268: DataConversionWarning: A column-vector y was passed when a 1d array was expected. Please change the shape of y to (n_samples, ), for example using ravel().\n",
      "  y = column_or_1d(y, warn=True)\n"
     ]
    },
    {
     "data": {
      "image/png": "[encoded data removed]",
      "text/plain": [
       "<Figure size 864x576 with 1 Axes>"
      ]
     },
     "metadata": {
      "tags": []
     },
     "output_type": "display_data"
    }
   ],
   "source": [
    "import matplotlib.pyplot as plt\n",
    "import xgboost as xgb\n",
    "\n",
    "feature_model = xgb.XGBClassifier()\n",
    "feature_model.fit(X, Y)\n",
    "\n",
    "xgb.plot_importance(feature_model)\n",
    "plt.rcParams['figure.figsize'] = [5, 5]\n",
    "plt.show()"
   ]
  },
  {
   "cell_type": "markdown",
   "metadata": {
    "colab_type": "text",
    "id": "5Ztkdgvuu56T"
   },
   "source": [
    "# **Modeling For Severity Prediction**"
   ]
  },
  {
   "cell_type": "code",
   "execution_count": 109,
   "metadata": {
    "colab": {
     "base_uri": "https://localhost:8080/",
     "height": 72
    },
    "colab_type": "code",
    "id": "NNKPD2eI5lyV",
    "outputId": "bd1f3e63-48e6-450d-a2fe-0511c6f4c47a"
   },
   "outputs": [
    {
     "data": {
      "text/plain": [
       "1    136485\n",
       "2     58188\n",
       "Name: SEVERITYCODE, dtype: int64"
      ]
     },
     "execution_count": 109,
     "metadata": {
      "tags": []
     },
     "output_type": "execute_result"
    }
   ],
   "source": [
    "df['SEVERITYCODE'].value_counts()"
   ]
  },
  {
   "cell_type": "markdown",
   "metadata": {
    "colab_type": "text",
    "id": "Mq6CfsdeGbUS"
   },
   "source": [
    "Data is highly imbalanced. Our task is to predict the severity caused by accidents in other words we need to find the injury class as good as possible. But the problem is there is very few samples for injury class. There are 136485 samples for property damage and only 58188 samples for injury. To mitigate this problem, we have used resampling like upsampling and downsampling.\n",
    "\n",
    "We have trained different models like Support Vector Machine(Linear and RBF), Logistic Regression, Random Rorest,  k-neares Neighbors and Adaboost to predict the severity of the accidents. We have presented the results of different models in a tabular format.\n",
    "\n",
    "For training the model to predict severity, we have used scikit-learn. We split the dataset into  80:20 train and test samples randomly using train_test_split. For upsampling and downsampling, we have used scikit-learns resample module.\n"
   ]
  },
  {
   "cell_type": "code",
   "execution_count": 110,
   "metadata": {
    "colab": {
     "base_uri": "https://localhost:8080/",
     "height": 168
    },
    "colab_type": "code",
    "id": "jfyqG70tKaLB",
    "outputId": "464a78d5-a53f-4d5a-dc75-eeea6b802f57"
   },
   "outputs": [
    {
     "data": {
      "text/html": [
       "<div>\n",
       "<style scoped>\n",
       "    .dataframe tbody tr th:only-of-type {\n",
       "        vertical-align: middle;\n",
       "    }\n",
       "\n",
       "    .dataframe tbody tr th {\n",
       "        vertical-align: top;\n",
       "    }\n",
       "\n",
       "    .dataframe thead th {\n",
       "        text-align: right;\n",
       "    }\n",
       "</style>\n",
       "<table border=\"1\" class=\"dataframe\">\n",
       "  <thead>\n",
       "    <tr style=\"text-align: right;\">\n",
       "      <th></th>\n",
       "      <th>Set</th>\n",
       "      <th>Feature List</th>\n",
       "      <th>No of Features</th>\n",
       "    </tr>\n",
       "  </thead>\n",
       "  <tbody>\n",
       "    <tr>\n",
       "      <th>0</th>\n",
       "      <td>Set 1</td>\n",
       "      <td>COLLISIONTYPE; PERSONCOUNT; VEHCOUNT</td>\n",
       "      <td>3</td>\n",
       "    </tr>\n",
       "    <tr>\n",
       "      <th>1</th>\n",
       "      <td>Set 2</td>\n",
       "      <td>COLLISIONTYPE; PERSONCOUNT; JUNCTIONTYPE</td>\n",
       "      <td>3</td>\n",
       "    </tr>\n",
       "    <tr>\n",
       "      <th>2</th>\n",
       "      <td>Set 3</td>\n",
       "      <td>PERSONCOUNT; PEDCOUNT; PEDCYLCOUNT; VEHCOUNT; ...</td>\n",
       "      <td>17</td>\n",
       "    </tr>\n",
       "    <tr>\n",
       "      <th>3</th>\n",
       "      <td>Set 4</td>\n",
       "      <td>COLLISIONTYPE</td>\n",
       "      <td>1</td>\n",
       "    </tr>\n",
       "  </tbody>\n",
       "</table>\n",
       "</div>"
      ],
      "text/plain": [
       "     Set                                       Feature List  No of Features\n",
       "0  Set 1               COLLISIONTYPE; PERSONCOUNT; VEHCOUNT               3\n",
       "1  Set 2           COLLISIONTYPE; PERSONCOUNT; JUNCTIONTYPE               3\n",
       "2  Set 3  PERSONCOUNT; PEDCOUNT; PEDCYLCOUNT; VEHCOUNT; ...              17\n",
       "3  Set 4                                      COLLISIONTYPE               1"
      ]
     },
     "execution_count": 110,
     "metadata": {
      "tags": []
     },
     "output_type": "execute_result"
    }
   ],
   "source": [
    "pd.set_option('display.max_columns', None)  \n",
    "df_features_map = pd.read_csv('/content/drive/My Drive/Colab Notebooks/Capstone Feature Map.csv')\n",
    "df_features_map"
   ]
  },
  {
   "cell_type": "code",
   "execution_count": 111,
   "metadata": {
    "colab": {
     "base_uri": "https://localhost:8080/",
     "height": 537
    },
    "colab_type": "code",
    "id": "f4GnLQeNKy5R",
    "outputId": "e72d6157-c0fa-4fdc-dffb-6dd97ccdc2e8"
   },
   "outputs": [
    {
     "data": {
      "text/html": [
       "<div>\n",
       "<style scoped>\n",
       "    .dataframe tbody tr th:only-of-type {\n",
       "        vertical-align: middle;\n",
       "    }\n",
       "\n",
       "    .dataframe tbody tr th {\n",
       "        vertical-align: top;\n",
       "    }\n",
       "\n",
       "    .dataframe thead th {\n",
       "        text-align: right;\n",
       "    }\n",
       "</style>\n",
       "<table border=\"1\" class=\"dataframe\">\n",
       "  <thead>\n",
       "    <tr style=\"text-align: right;\">\n",
       "      <th></th>\n",
       "      <th>Model Type</th>\n",
       "      <th>Sample Type</th>\n",
       "      <th>Feature Set</th>\n",
       "      <th>Encoding</th>\n",
       "      <th>Accuracy</th>\n",
       "      <th>ROC AUC Score</th>\n",
       "      <th>Precision</th>\n",
       "      <th>Recall</th>\n",
       "      <th>F-1 score</th>\n",
       "    </tr>\n",
       "  </thead>\n",
       "  <tbody>\n",
       "    <tr>\n",
       "      <th>0</th>\n",
       "      <td>Logistic Regression</td>\n",
       "      <td>Default</td>\n",
       "      <td>Set 3</td>\n",
       "      <td>One Hot</td>\n",
       "      <td>70.91</td>\n",
       "      <td>0.62</td>\n",
       "      <td>0.75</td>\n",
       "      <td>0.75</td>\n",
       "      <td>0.72</td>\n",
       "    </tr>\n",
       "    <tr>\n",
       "      <th>1</th>\n",
       "      <td>Logistic Regression</td>\n",
       "      <td>Downsample</td>\n",
       "      <td>Set 3</td>\n",
       "      <td>One Hot</td>\n",
       "      <td>70.40</td>\n",
       "      <td>0.70</td>\n",
       "      <td>0.71</td>\n",
       "      <td>0.70</td>\n",
       "      <td>0.70</td>\n",
       "    </tr>\n",
       "    <tr>\n",
       "      <th>2</th>\n",
       "      <td>Logistic Regression</td>\n",
       "      <td>Upsample</td>\n",
       "      <td>Set 2</td>\n",
       "      <td>One Hot</td>\n",
       "      <td>70.00</td>\n",
       "      <td>0.70</td>\n",
       "      <td>0.71</td>\n",
       "      <td>0.70</td>\n",
       "      <td>0.70</td>\n",
       "    </tr>\n",
       "    <tr>\n",
       "      <th>3</th>\n",
       "      <td>Random Forest</td>\n",
       "      <td>Default</td>\n",
       "      <td>Set 3</td>\n",
       "      <td>One Hot</td>\n",
       "      <td>73.09</td>\n",
       "      <td>0.64</td>\n",
       "      <td>0.71</td>\n",
       "      <td>0.73</td>\n",
       "      <td>0.72</td>\n",
       "    </tr>\n",
       "    <tr>\n",
       "      <th>4</th>\n",
       "      <td>Random Forest</td>\n",
       "      <td>Downsample</td>\n",
       "      <td>Set 3</td>\n",
       "      <td>One Hot</td>\n",
       "      <td>67.69</td>\n",
       "      <td>0.68</td>\n",
       "      <td>0.68</td>\n",
       "      <td>0.68</td>\n",
       "      <td>0.68</td>\n",
       "    </tr>\n",
       "    <tr>\n",
       "      <th>5</th>\n",
       "      <td>SVM(Linear)</td>\n",
       "      <td>Upsample</td>\n",
       "      <td>Set 1</td>\n",
       "      <td>One Hot</td>\n",
       "      <td>69.86</td>\n",
       "      <td>0.70</td>\n",
       "      <td>0.71</td>\n",
       "      <td>0.70</td>\n",
       "      <td>0.70</td>\n",
       "    </tr>\n",
       "    <tr>\n",
       "      <th>6</th>\n",
       "      <td>SVM(Linear)</td>\n",
       "      <td>Upsample</td>\n",
       "      <td>Set 4</td>\n",
       "      <td>One Hot</td>\n",
       "      <td>69.86</td>\n",
       "      <td>0.70</td>\n",
       "      <td>0.71</td>\n",
       "      <td>0.70</td>\n",
       "      <td>0.70</td>\n",
       "    </tr>\n",
       "    <tr>\n",
       "      <th>7</th>\n",
       "      <td>SVM(RBF)</td>\n",
       "      <td>Upsample</td>\n",
       "      <td>Set 1</td>\n",
       "      <td>One Hot</td>\n",
       "      <td>70.91</td>\n",
       "      <td>0.71</td>\n",
       "      <td>0.67</td>\n",
       "      <td>0.82</td>\n",
       "      <td>NaN</td>\n",
       "    </tr>\n",
       "    <tr>\n",
       "      <th>8</th>\n",
       "      <td>SVM(RBF)</td>\n",
       "      <td>Upsample</td>\n",
       "      <td>Set 2</td>\n",
       "      <td>One Hot</td>\n",
       "      <td>70.00</td>\n",
       "      <td>0.71</td>\n",
       "      <td>0.71</td>\n",
       "      <td>0.70</td>\n",
       "      <td>0.70</td>\n",
       "    </tr>\n",
       "    <tr>\n",
       "      <th>9</th>\n",
       "      <td>SVM(RBF)</td>\n",
       "      <td>Upsample</td>\n",
       "      <td>Set 4</td>\n",
       "      <td>One Hot</td>\n",
       "      <td>69.86</td>\n",
       "      <td>0.70</td>\n",
       "      <td>0.71</td>\n",
       "      <td>0.70</td>\n",
       "      <td>0.70</td>\n",
       "    </tr>\n",
       "    <tr>\n",
       "      <th>10</th>\n",
       "      <td>KNN(k=49)</td>\n",
       "      <td>Downsample</td>\n",
       "      <td>Set 3</td>\n",
       "      <td>One Hot</td>\n",
       "      <td>69.86</td>\n",
       "      <td>0.70</td>\n",
       "      <td>0.70</td>\n",
       "      <td>0.70</td>\n",
       "      <td>0.70</td>\n",
       "    </tr>\n",
       "    <tr>\n",
       "      <th>11</th>\n",
       "      <td>KNN(k=24)</td>\n",
       "      <td>Upsample</td>\n",
       "      <td>Set 2</td>\n",
       "      <td>One Hot</td>\n",
       "      <td>69.09</td>\n",
       "      <td>0.69</td>\n",
       "      <td>0.69</td>\n",
       "      <td>0.69</td>\n",
       "      <td>0.69</td>\n",
       "    </tr>\n",
       "    <tr>\n",
       "      <th>12</th>\n",
       "      <td>Adaboost</td>\n",
       "      <td>Upsample</td>\n",
       "      <td>Set 1</td>\n",
       "      <td>One Hot</td>\n",
       "      <td>70.66</td>\n",
       "      <td>0.71</td>\n",
       "      <td>0.72</td>\n",
       "      <td>0.71</td>\n",
       "      <td>0.70</td>\n",
       "    </tr>\n",
       "    <tr>\n",
       "      <th>13</th>\n",
       "      <td>Adaboost</td>\n",
       "      <td>Upsample</td>\n",
       "      <td>Set 4</td>\n",
       "      <td>One Hot</td>\n",
       "      <td>69.86</td>\n",
       "      <td>0.70</td>\n",
       "      <td>0.71</td>\n",
       "      <td>0.70</td>\n",
       "      <td>0.70</td>\n",
       "    </tr>\n",
       "  </tbody>\n",
       "</table>\n",
       "</div>"
      ],
      "text/plain": [
       "             Model Type Sample Type Feature Set Encoding  Accuracy  \\\n",
       "0   Logistic Regression     Default       Set 3  One Hot     70.91   \n",
       "1   Logistic Regression  Downsample       Set 3  One Hot     70.40   \n",
       "2   Logistic Regression    Upsample       Set 2  One Hot     70.00   \n",
       "3         Random Forest     Default       Set 3  One Hot     73.09   \n",
       "4         Random Forest  Downsample       Set 3  One Hot     67.69   \n",
       "5           SVM(Linear)    Upsample       Set 1  One Hot     69.86   \n",
       "6           SVM(Linear)    Upsample       Set 4  One Hot     69.86   \n",
       "7              SVM(RBF)    Upsample       Set 1  One Hot     70.91   \n",
       "8              SVM(RBF)    Upsample       Set 2  One Hot     70.00   \n",
       "9              SVM(RBF)    Upsample       Set 4  One Hot     69.86   \n",
       "10            KNN(k=49)  Downsample       Set 3  One Hot     69.86   \n",
       "11            KNN(k=24)    Upsample       Set 2  One Hot     69.09   \n",
       "12             Adaboost    Upsample       Set 1  One Hot     70.66   \n",
       "13             Adaboost    Upsample       Set 4  One Hot     69.86   \n",
       "\n",
       "    ROC AUC Score  Precision  Recall  F-1 score  \n",
       "0            0.62       0.75    0.75       0.72  \n",
       "1            0.70       0.71    0.70       0.70  \n",
       "2            0.70       0.71    0.70       0.70  \n",
       "3            0.64       0.71    0.73       0.72  \n",
       "4            0.68       0.68    0.68       0.68  \n",
       "5            0.70       0.71    0.70       0.70  \n",
       "6            0.70       0.71    0.70       0.70  \n",
       "7            0.71       0.67    0.82        NaN  \n",
       "8            0.71       0.71    0.70       0.70  \n",
       "9            0.70       0.71    0.70       0.70  \n",
       "10           0.70       0.70    0.70       0.70  \n",
       "11           0.69       0.69    0.69       0.69  \n",
       "12           0.71       0.72    0.71       0.70  \n",
       "13           0.70       0.71    0.70       0.70  "
      ]
     },
     "execution_count": 111,
     "metadata": {
      "tags": []
     },
     "output_type": "execute_result"
    }
   ],
   "source": [
    "df_reasults = pd.read_csv('/content/drive/My Drive/Colab Notebooks/Capstone Project Result.csv')\n",
    "df_reasults"
   ]
  },
  {
   "cell_type": "markdown",
   "metadata": {
    "colab_type": "text",
    "id": "4qDY0YymSNO2"
   },
   "source": [
    "We have achieved highest results using Adaboost classification model with upsampling data while using features COLLISIONTYPE, PERSONCOUNT, VEHCOUNT in terms of all evaluation metrics. We have selected these features with the help of XGBoost.\n"
   ]
  },
  {
   "cell_type": "markdown",
   "metadata": {
    "colab_type": "text",
    "id": "GU1rsIW_vE9p"
   },
   "source": [
    "# **Conclusion**"
   ]
  },
  {
   "cell_type": "markdown",
   "metadata": {
    "colab_type": "text",
    "id": "1oSsdjSIJJvB"
   },
   "source": [
    "After the thorough analysis, we see that most accidents occur during the day and during weekdays. Also the type of collision and junctions suggest that most dangerous places in Seattle city traffic is the intersections which are connected to other intersections. The heavy traffic in these locations and drivers being reckless during rush hour seem to be a big contributing factor in case of accidents.\n",
    "\n",
    "If we were to suggest any preventive measures from our analysis, we would suggest the drivers to be more cautious in rush hours and good weather condition, as we also found most accidents occur in clear weather. Therefore, the causes of accidents depend more on the drivers' skill and carefulness. \n",
    "\n",
    "We prepared a predictive system that would predict the severity of accidents occurred if the system is given the type of collision, number of people involved and the number of vehicles involved. The predictive model is prepared with ADABOOST, where we achieved the highest accuracy and roc-auc score - 70.66% and 0.71 respectively. \n",
    "\n",
    "For future analysis and building predictive model, we would suggest verifying the relationship of accident occurrence time with accidents more closely and prepare models based on that. Also we would suggest using a more balanced data set- if unavailable balancing the data set with some sophisticated techniques other than random resampling. \n"
   ]
  }
 ],
 "metadata": {
  "colab": {
   "collapsed_sections": [],
   "name": "Copy of capstone_final_project.ipynb",
   "provenance": [],
   "toc_visible": true
  },
  "kernelspec": {
   "display_name": "Python 3",
   "language": "python",
   "name": "python3"
  },
  "language_info": {
   "codemirror_mode": {
    "name": "ipython",
    "version": 3
   },
   "file_extension": ".py",
   "mimetype": "text/x-python",
   "name": "python",
   "nbconvert_exporter": "python",
   "pygments_lexer": "ipython3",
   "version": "3.7.3"
  }
 },
 "nbformat": 4,
 "nbformat_minor": 1
}
