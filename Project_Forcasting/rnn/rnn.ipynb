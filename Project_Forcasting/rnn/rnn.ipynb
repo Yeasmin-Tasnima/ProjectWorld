{
 "cells": [
  {
   "cell_type": "markdown",
   "metadata": {},
   "source": [
    "## Data Preprocessing Template"
   ]
  },
  {
   "cell_type": "markdown",
   "metadata": {},
   "source": [
    "### Importing the libraries"
   ]
  },
  {
   "cell_type": "code",
   "execution_count": 2,
   "metadata": {},
   "outputs": [],
   "source": [
    "import numpy as np\n",
    "import matplotlib.pyplot as plt\n",
    "import pandas as pd\n",
    "import seaborn as sns"
   ]
  },
  {
   "cell_type": "markdown",
   "metadata": {},
   "source": [
    "### Importing the dataset"
   ]
  },
  {
   "cell_type": "code",
   "execution_count": 3,
   "metadata": {},
   "outputs": [],
   "source": [
    "df_train = pd.read_csv('/home/tasnima/jupyter/Project Forecasting/demand-forecasting-kernels-only/train.csv')\n",
    "df_test = pd.read_csv('/home/tasnima/jupyter/Project Forecasting/demand-forecasting-kernels-only/test.csv')"
   ]
  },
  {
   "cell_type": "code",
   "execution_count": 4,
   "metadata": {},
   "outputs": [
    {
     "data": {
      "text/html": [
       "<div>\n",
       "<style scoped>\n",
       "    .dataframe tbody tr th:only-of-type {\n",
       "        vertical-align: middle;\n",
       "    }\n",
       "\n",
       "    .dataframe tbody tr th {\n",
       "        vertical-align: top;\n",
       "    }\n",
       "\n",
       "    .dataframe thead th {\n",
       "        text-align: right;\n",
       "    }\n",
       "</style>\n",
       "<table border=\"1\" class=\"dataframe\">\n",
       "  <thead>\n",
       "    <tr style=\"text-align: right;\">\n",
       "      <th></th>\n",
       "      <th>date</th>\n",
       "      <th>store</th>\n",
       "      <th>item</th>\n",
       "      <th>sales</th>\n",
       "    </tr>\n",
       "  </thead>\n",
       "  <tbody>\n",
       "    <tr>\n",
       "      <th>0</th>\n",
       "      <td>2013-01-01</td>\n",
       "      <td>1</td>\n",
       "      <td>1</td>\n",
       "      <td>13</td>\n",
       "    </tr>\n",
       "    <tr>\n",
       "      <th>1</th>\n",
       "      <td>2013-01-02</td>\n",
       "      <td>1</td>\n",
       "      <td>1</td>\n",
       "      <td>11</td>\n",
       "    </tr>\n",
       "    <tr>\n",
       "      <th>2</th>\n",
       "      <td>2013-01-03</td>\n",
       "      <td>1</td>\n",
       "      <td>1</td>\n",
       "      <td>14</td>\n",
       "    </tr>\n",
       "    <tr>\n",
       "      <th>3</th>\n",
       "      <td>2013-01-04</td>\n",
       "      <td>1</td>\n",
       "      <td>1</td>\n",
       "      <td>13</td>\n",
       "    </tr>\n",
       "    <tr>\n",
       "      <th>4</th>\n",
       "      <td>2013-01-05</td>\n",
       "      <td>1</td>\n",
       "      <td>1</td>\n",
       "      <td>10</td>\n",
       "    </tr>\n",
       "  </tbody>\n",
       "</table>\n",
       "</div>"
      ],
      "text/plain": [
       "         date  store  item  sales\n",
       "0  2013-01-01      1     1     13\n",
       "1  2013-01-02      1     1     11\n",
       "2  2013-01-03      1     1     14\n",
       "3  2013-01-04      1     1     13\n",
       "4  2013-01-05      1     1     10"
      ]
     },
     "execution_count": 4,
     "metadata": {},
     "output_type": "execute_result"
    }
   ],
   "source": [
    "df_train.head(5)"
   ]
  },
  {
   "cell_type": "code",
   "execution_count": 5,
   "metadata": {},
   "outputs": [
    {
     "data": {
      "text/html": [
       "<div>\n",
       "<style scoped>\n",
       "    .dataframe tbody tr th:only-of-type {\n",
       "        vertical-align: middle;\n",
       "    }\n",
       "\n",
       "    .dataframe tbody tr th {\n",
       "        vertical-align: top;\n",
       "    }\n",
       "\n",
       "    .dataframe thead th {\n",
       "        text-align: right;\n",
       "    }\n",
       "</style>\n",
       "<table border=\"1\" class=\"dataframe\">\n",
       "  <thead>\n",
       "    <tr style=\"text-align: right;\">\n",
       "      <th></th>\n",
       "      <th>id</th>\n",
       "      <th>date</th>\n",
       "      <th>store</th>\n",
       "      <th>item</th>\n",
       "    </tr>\n",
       "  </thead>\n",
       "  <tbody>\n",
       "    <tr>\n",
       "      <th>0</th>\n",
       "      <td>0</td>\n",
       "      <td>2018-01-01</td>\n",
       "      <td>1</td>\n",
       "      <td>1</td>\n",
       "    </tr>\n",
       "    <tr>\n",
       "      <th>1</th>\n",
       "      <td>1</td>\n",
       "      <td>2018-01-02</td>\n",
       "      <td>1</td>\n",
       "      <td>1</td>\n",
       "    </tr>\n",
       "    <tr>\n",
       "      <th>2</th>\n",
       "      <td>2</td>\n",
       "      <td>2018-01-03</td>\n",
       "      <td>1</td>\n",
       "      <td>1</td>\n",
       "    </tr>\n",
       "    <tr>\n",
       "      <th>3</th>\n",
       "      <td>3</td>\n",
       "      <td>2018-01-04</td>\n",
       "      <td>1</td>\n",
       "      <td>1</td>\n",
       "    </tr>\n",
       "    <tr>\n",
       "      <th>4</th>\n",
       "      <td>4</td>\n",
       "      <td>2018-01-05</td>\n",
       "      <td>1</td>\n",
       "      <td>1</td>\n",
       "    </tr>\n",
       "  </tbody>\n",
       "</table>\n",
       "</div>"
      ],
      "text/plain": [
       "   id        date  store  item\n",
       "0   0  2018-01-01      1     1\n",
       "1   1  2018-01-02      1     1\n",
       "2   2  2018-01-03      1     1\n",
       "3   3  2018-01-04      1     1\n",
       "4   4  2018-01-05      1     1"
      ]
     },
     "execution_count": 5,
     "metadata": {},
     "output_type": "execute_result"
    }
   ],
   "source": [
    "df_test.head(5)"
   ]
  },
  {
   "cell_type": "code",
   "execution_count": 6,
   "metadata": {},
   "outputs": [
    {
     "data": {
      "text/plain": [
       "date     0\n",
       "store    0\n",
       "item     0\n",
       "sales    0\n",
       "dtype: int64"
      ]
     },
     "execution_count": 6,
     "metadata": {},
     "output_type": "execute_result"
    }
   ],
   "source": [
    "df_train.isnull().sum()"
   ]
  },
  {
   "cell_type": "code",
   "execution_count": 7,
   "metadata": {},
   "outputs": [
    {
     "data": {
      "text/plain": [
       "id       0\n",
       "date     0\n",
       "store    0\n",
       "item     0\n",
       "dtype: int64"
      ]
     },
     "execution_count": 7,
     "metadata": {},
     "output_type": "execute_result"
    }
   ],
   "source": [
    "df_test.isnull().sum()"
   ]
  },
  {
   "cell_type": "code",
   "execution_count": 8,
   "metadata": {},
   "outputs": [
    {
     "data": {
      "text/plain": [
       "<matplotlib.axes._subplots.AxesSubplot at 0x7f028a4fd208>"
      ]
     },
     "execution_count": 8,
     "metadata": {},
     "output_type": "execute_result"
    },
    {
     "data": {
      "image/png": "[encoded data removed]",
      "text/plain": [
       "<Figure size 432x288 with 1 Axes>"
      ]
     },
     "metadata": {
      "needs_background": "light"
     },
     "output_type": "display_data"
    }
   ],
   "source": [
    "sns.distplot(df_train['sales'])"
   ]
  },
  {
   "cell_type": "markdown",
   "metadata": {},
   "source": [
    "### import datetime class from datetime module"
   ]
  },
  {
   "cell_type": "code",
   "execution_count": 9,
   "metadata": {},
   "outputs": [],
   "source": [
    "from datetime import datetime"
   ]
  },
  {
   "cell_type": "markdown",
   "metadata": {},
   "source": [
    "### Create date object in given time format yyyy-mm-dd"
   ]
  },
  {
   "cell_type": "code",
   "execution_count": 10,
   "metadata": {},
   "outputs": [
    {
     "data": {
      "text/plain": [
       "\"df_train['date'] = df_train.set_index(df_train['date'], append = False)\\ndf_train['date'] = df_train.index.to_julian_date()\\n\\ndf_test['date'] = df_test.set_index(df_test['date'], append = False)\\ndf_test['date'] = df_test.index.to_julian_date()\""
      ]
     },
     "execution_count": 10,
     "metadata": {},
     "output_type": "execute_result"
    }
   ],
   "source": [
    "df_train['date'] = pd.to_datetime(df_train['date'], infer_datetime_format=True)\n",
    "df_test['date'] = pd.to_datetime(df_test['date'], infer_datetime_format=True)\n",
    "\n",
    "df_train.set_index(pd.DatetimeIndex(df_train['date']), inplace=True)\n",
    "df_test.set_index(pd.DatetimeIndex(df_test['date']), inplace=True)\n",
    "\n",
    "\"\"\"df_train['date'] = df_train.set_index(df_train['date'], append = False)\n",
    "df_train['date'] = df_train.index.to_julian_date()\n",
    "\n",
    "df_test['date'] = df_test.set_index(df_test['date'], append = False)\n",
    "df_test['date'] = df_test.index.to_julian_date()\"\"\""
   ]
  },
  {
   "cell_type": "code",
   "execution_count": 11,
   "metadata": {},
   "outputs": [
    {
     "data": {
      "text/html": [
       "<div>\n",
       "<style scoped>\n",
       "    .dataframe tbody tr th:only-of-type {\n",
       "        vertical-align: middle;\n",
       "    }\n",
       "\n",
       "    .dataframe tbody tr th {\n",
       "        vertical-align: top;\n",
       "    }\n",
       "\n",
       "    .dataframe thead th {\n",
       "        text-align: right;\n",
       "    }\n",
       "</style>\n",
       "<table border=\"1\" class=\"dataframe\">\n",
       "  <thead>\n",
       "    <tr style=\"text-align: right;\">\n",
       "      <th></th>\n",
       "      <th>store</th>\n",
       "      <th>item</th>\n",
       "      <th>year</th>\n",
       "      <th>month</th>\n",
       "      <th>day</th>\n",
       "      <th>week</th>\n",
       "      <th>weekofyear</th>\n",
       "      <th>dayofweek</th>\n",
       "      <th>weekday</th>\n",
       "      <th>dayofyear</th>\n",
       "      <th>quarter</th>\n",
       "      <th>is_month_start</th>\n",
       "      <th>is_month_end</th>\n",
       "      <th>is_quarter_start</th>\n",
       "      <th>is_quarter_end</th>\n",
       "      <th>is_year_start</th>\n",
       "      <th>is_year_end</th>\n",
       "    </tr>\n",
       "    <tr>\n",
       "      <th>date</th>\n",
       "      <th></th>\n",
       "      <th></th>\n",
       "      <th></th>\n",
       "      <th></th>\n",
       "      <th></th>\n",
       "      <th></th>\n",
       "      <th></th>\n",
       "      <th></th>\n",
       "      <th></th>\n",
       "      <th></th>\n",
       "      <th></th>\n",
       "      <th></th>\n",
       "      <th></th>\n",
       "      <th></th>\n",
       "      <th></th>\n",
       "      <th></th>\n",
       "      <th></th>\n",
       "    </tr>\n",
       "  </thead>\n",
       "  <tbody>\n",
       "    <tr>\n",
       "      <th>2013-01-01</th>\n",
       "      <td>1</td>\n",
       "      <td>1</td>\n",
       "      <td>2013</td>\n",
       "      <td>1</td>\n",
       "      <td>1</td>\n",
       "      <td>1</td>\n",
       "      <td>1</td>\n",
       "      <td>1</td>\n",
       "      <td>1</td>\n",
       "      <td>1</td>\n",
       "      <td>1</td>\n",
       "      <td>1</td>\n",
       "      <td>0</td>\n",
       "      <td>1</td>\n",
       "      <td>0</td>\n",
       "      <td>1</td>\n",
       "      <td>0</td>\n",
       "    </tr>\n",
       "    <tr>\n",
       "      <th>2013-01-02</th>\n",
       "      <td>1</td>\n",
       "      <td>1</td>\n",
       "      <td>2013</td>\n",
       "      <td>1</td>\n",
       "      <td>2</td>\n",
       "      <td>1</td>\n",
       "      <td>1</td>\n",
       "      <td>2</td>\n",
       "      <td>2</td>\n",
       "      <td>2</td>\n",
       "      <td>1</td>\n",
       "      <td>0</td>\n",
       "      <td>0</td>\n",
       "      <td>0</td>\n",
       "      <td>0</td>\n",
       "      <td>0</td>\n",
       "      <td>0</td>\n",
       "    </tr>\n",
       "    <tr>\n",
       "      <th>2013-01-03</th>\n",
       "      <td>1</td>\n",
       "      <td>1</td>\n",
       "      <td>2013</td>\n",
       "      <td>1</td>\n",
       "      <td>3</td>\n",
       "      <td>1</td>\n",
       "      <td>1</td>\n",
       "      <td>3</td>\n",
       "      <td>3</td>\n",
       "      <td>3</td>\n",
       "      <td>1</td>\n",
       "      <td>0</td>\n",
       "      <td>0</td>\n",
       "      <td>0</td>\n",
       "      <td>0</td>\n",
       "      <td>0</td>\n",
       "      <td>0</td>\n",
       "    </tr>\n",
       "    <tr>\n",
       "      <th>2013-01-04</th>\n",
       "      <td>1</td>\n",
       "      <td>1</td>\n",
       "      <td>2013</td>\n",
       "      <td>1</td>\n",
       "      <td>4</td>\n",
       "      <td>1</td>\n",
       "      <td>1</td>\n",
       "      <td>4</td>\n",
       "      <td>4</td>\n",
       "      <td>4</td>\n",
       "      <td>1</td>\n",
       "      <td>0</td>\n",
       "      <td>0</td>\n",
       "      <td>0</td>\n",
       "      <td>0</td>\n",
       "      <td>0</td>\n",
       "      <td>0</td>\n",
       "    </tr>\n",
       "    <tr>\n",
       "      <th>2013-01-05</th>\n",
       "      <td>1</td>\n",
       "      <td>1</td>\n",
       "      <td>2013</td>\n",
       "      <td>1</td>\n",
       "      <td>5</td>\n",
       "      <td>1</td>\n",
       "      <td>1</td>\n",
       "      <td>5</td>\n",
       "      <td>5</td>\n",
       "      <td>5</td>\n",
       "      <td>1</td>\n",
       "      <td>0</td>\n",
       "      <td>0</td>\n",
       "      <td>0</td>\n",
       "      <td>0</td>\n",
       "      <td>0</td>\n",
       "      <td>0</td>\n",
       "    </tr>\n",
       "  </tbody>\n",
       "</table>\n",
       "</div>"
      ],
      "text/plain": [
       "            store  item  year  month  day  week  weekofyear  dayofweek  \\\n",
       "date                                                                     \n",
       "2013-01-01      1     1  2013      1    1     1           1          1   \n",
       "2013-01-02      1     1  2013      1    2     1           1          2   \n",
       "2013-01-03      1     1  2013      1    3     1           1          3   \n",
       "2013-01-04      1     1  2013      1    4     1           1          4   \n",
       "2013-01-05      1     1  2013      1    5     1           1          5   \n",
       "\n",
       "            weekday  dayofyear  quarter  is_month_start  is_month_end  \\\n",
       "date                                                                    \n",
       "2013-01-01        1          1        1               1             0   \n",
       "2013-01-02        2          2        1               0             0   \n",
       "2013-01-03        3          3        1               0             0   \n",
       "2013-01-04        4          4        1               0             0   \n",
       "2013-01-05        5          5        1               0             0   \n",
       "\n",
       "            is_quarter_start  is_quarter_end  is_year_start  is_year_end  \n",
       "date                                                                      \n",
       "2013-01-01                 1               0              1            0  \n",
       "2013-01-02                 0               0              0            0  \n",
       "2013-01-03                 0               0              0            0  \n",
       "2013-01-04                 0               0              0            0  \n",
       "2013-01-05                 0               0              0            0  "
      ]
     },
     "execution_count": 11,
     "metadata": {},
     "output_type": "execute_result"
    }
   ],
   "source": [
    "df_train['year'] = df_train['date'].dt.year\n",
    "df_train['month'] = df_train['date'].dt.month\n",
    "df_train['day'] = df_train['date'].dt.day\n",
    "df_train['week'] = df_train['date'].dt.week\n",
    "df_train['weekofyear'] = df_train['date'].dt.weekofyear\n",
    "df_train['dayofweek'] = df_train['date'].dt.dayofweek\n",
    "df_train['weekday'] = df_train['date'].dt.weekday\n",
    "df_train['dayofyear'] = df_train['date'].dt.dayofyear\n",
    "df_train['quarter'] = df_train['date'].dt.quarter\n",
    "df_train['is_month_start'] = df_train['date'].dt.is_month_start\n",
    "df_train['is_month_end'] = df_train['date'].dt.is_month_end\n",
    "df_train['is_quarter_start'] = df_train['date'].dt.is_quarter_start\n",
    "df_train['is_quarter_end'] = df_train['date'].dt.is_quarter_end\n",
    "df_train['is_year_start'] = df_train['date'].dt.is_year_start\n",
    "df_train['is_year_end'] = df_train['date'].dt.is_year_end\n",
    "\n",
    "categorical_var = ['is_month_start', 'is_month_end', 'is_quarter_start', 'is_quarter_end', 'is_year_start', \n",
    "                  'is_year_start', 'is_year_end']\n",
    "\n",
    "from sklearn.preprocessing import LabelEncoder\n",
    "le = LabelEncoder()\n",
    "df_train[categorical_var] = df_train[categorical_var].apply(lambda col: le.fit_transform(col))\n",
    "#print(df_train[categorical_var].head(5))\n",
    "\n",
    "sales = df_train['sales']\n",
    "df_train = df_train.drop('sales', axis=1)\n",
    "df_train = df_train.drop('date', axis=1)\n",
    "df_train.head(5)"
   ]
  },
  {
   "cell_type": "code",
   "execution_count": 12,
   "metadata": {},
   "outputs": [],
   "source": [
    "from sklearn.preprocessing import OneHotEncoder\n",
    "from numpy import array\n",
    "# define example\n",
    "data_store = df_train['store']\n",
    "data_item = df_train['item']\n",
    "values_store = array(data_store)\n",
    "values_item = array(data_item)\n",
    "# integer encode\n",
    "label_encoder = LabelEncoder()\n",
    "integer_encoded_store = label_encoder.fit_transform(values_store)\n",
    "integer_encoded_item = label_encoder.fit_transform(values_item)\n",
    "# binary encode\n",
    "onehot_encoder_store = OneHotEncoder(sparse=False, categories = 'auto')\n",
    "onehot_encoder_item = OneHotEncoder(sparse=False, categories = 'auto')\n",
    "integer_encoded_store = integer_encoded_store.reshape(len(integer_encoded_store), 1)\n",
    "integer_encoded_item = integer_encoded_item.reshape(len(integer_encoded_item), 1)\n",
    "onehot_encoded_store = onehot_encoder_store.fit_transform(integer_encoded_store)\n",
    "onehot_encoded_item = onehot_encoder_item.fit_transform(integer_encoded_item)\n",
    "#print(type(onehot_encoded_item))"
   ]
  },
  {
   "cell_type": "code",
   "execution_count": 13,
   "metadata": {},
   "outputs": [],
   "source": [
    "df_train_store = pd.DataFrame(onehot_encoded_store, dtype=int)\n",
    "df_train_item = pd.DataFrame(onehot_encoded_item, dtype=int)\n",
    "df_train.reset_index(inplace=True, drop=True)\n",
    "df_train_store = pd.DataFrame(onehot_encoded_store, columns = list('ASDFGHJKLP'))\n",
    "df_train_item = pd.DataFrame(onehot_encoded_item)\n",
    "df_train = pd.concat([df_train_store, df_train_item, df_train], axis=1)\n",
    "\n",
    "df_train = df_train.drop('store', axis=1)\n",
    "df_train = df_train.drop('item', axis=1)\n",
    "#df_train"
   ]
  },
  {
   "cell_type": "code",
   "execution_count": 14,
   "metadata": {},
   "outputs": [
    {
     "data": {
      "text/html": [
       "<div>\n",
       "<style scoped>\n",
       "    .dataframe tbody tr th:only-of-type {\n",
       "        vertical-align: middle;\n",
       "    }\n",
       "\n",
       "    .dataframe tbody tr th {\n",
       "        vertical-align: top;\n",
       "    }\n",
       "\n",
       "    .dataframe thead th {\n",
       "        text-align: right;\n",
       "    }\n",
       "</style>\n",
       "<table border=\"1\" class=\"dataframe\">\n",
       "  <thead>\n",
       "    <tr style=\"text-align: right;\">\n",
       "      <th></th>\n",
       "      <th>store</th>\n",
       "      <th>item</th>\n",
       "      <th>year</th>\n",
       "      <th>month</th>\n",
       "      <th>day</th>\n",
       "      <th>week</th>\n",
       "      <th>weekofyear</th>\n",
       "      <th>dayofweek</th>\n",
       "      <th>weekday</th>\n",
       "      <th>dayofyear</th>\n",
       "      <th>quarter</th>\n",
       "      <th>is_month_start</th>\n",
       "      <th>is_month_end</th>\n",
       "      <th>is_quarter_start</th>\n",
       "      <th>is_quarter_end</th>\n",
       "      <th>is_year_start</th>\n",
       "      <th>is_year_end</th>\n",
       "    </tr>\n",
       "    <tr>\n",
       "      <th>date</th>\n",
       "      <th></th>\n",
       "      <th></th>\n",
       "      <th></th>\n",
       "      <th></th>\n",
       "      <th></th>\n",
       "      <th></th>\n",
       "      <th></th>\n",
       "      <th></th>\n",
       "      <th></th>\n",
       "      <th></th>\n",
       "      <th></th>\n",
       "      <th></th>\n",
       "      <th></th>\n",
       "      <th></th>\n",
       "      <th></th>\n",
       "      <th></th>\n",
       "      <th></th>\n",
       "    </tr>\n",
       "  </thead>\n",
       "  <tbody>\n",
       "    <tr>\n",
       "      <th>2018-01-01</th>\n",
       "      <td>1</td>\n",
       "      <td>1</td>\n",
       "      <td>2018</td>\n",
       "      <td>1</td>\n",
       "      <td>1</td>\n",
       "      <td>1</td>\n",
       "      <td>1</td>\n",
       "      <td>0</td>\n",
       "      <td>0</td>\n",
       "      <td>1</td>\n",
       "      <td>1</td>\n",
       "      <td>1</td>\n",
       "      <td>0</td>\n",
       "      <td>1</td>\n",
       "      <td>0</td>\n",
       "      <td>1</td>\n",
       "      <td>0</td>\n",
       "    </tr>\n",
       "    <tr>\n",
       "      <th>2018-01-02</th>\n",
       "      <td>1</td>\n",
       "      <td>1</td>\n",
       "      <td>2018</td>\n",
       "      <td>1</td>\n",
       "      <td>2</td>\n",
       "      <td>1</td>\n",
       "      <td>1</td>\n",
       "      <td>1</td>\n",
       "      <td>1</td>\n",
       "      <td>2</td>\n",
       "      <td>1</td>\n",
       "      <td>0</td>\n",
       "      <td>0</td>\n",
       "      <td>0</td>\n",
       "      <td>0</td>\n",
       "      <td>0</td>\n",
       "      <td>0</td>\n",
       "    </tr>\n",
       "    <tr>\n",
       "      <th>2018-01-03</th>\n",
       "      <td>1</td>\n",
       "      <td>1</td>\n",
       "      <td>2018</td>\n",
       "      <td>1</td>\n",
       "      <td>3</td>\n",
       "      <td>1</td>\n",
       "      <td>1</td>\n",
       "      <td>2</td>\n",
       "      <td>2</td>\n",
       "      <td>3</td>\n",
       "      <td>1</td>\n",
       "      <td>0</td>\n",
       "      <td>0</td>\n",
       "      <td>0</td>\n",
       "      <td>0</td>\n",
       "      <td>0</td>\n",
       "      <td>0</td>\n",
       "    </tr>\n",
       "    <tr>\n",
       "      <th>2018-01-04</th>\n",
       "      <td>1</td>\n",
       "      <td>1</td>\n",
       "      <td>2018</td>\n",
       "      <td>1</td>\n",
       "      <td>4</td>\n",
       "      <td>1</td>\n",
       "      <td>1</td>\n",
       "      <td>3</td>\n",
       "      <td>3</td>\n",
       "      <td>4</td>\n",
       "      <td>1</td>\n",
       "      <td>0</td>\n",
       "      <td>0</td>\n",
       "      <td>0</td>\n",
       "      <td>0</td>\n",
       "      <td>0</td>\n",
       "      <td>0</td>\n",
       "    </tr>\n",
       "    <tr>\n",
       "      <th>2018-01-05</th>\n",
       "      <td>1</td>\n",
       "      <td>1</td>\n",
       "      <td>2018</td>\n",
       "      <td>1</td>\n",
       "      <td>5</td>\n",
       "      <td>1</td>\n",
       "      <td>1</td>\n",
       "      <td>4</td>\n",
       "      <td>4</td>\n",
       "      <td>5</td>\n",
       "      <td>1</td>\n",
       "      <td>0</td>\n",
       "      <td>0</td>\n",
       "      <td>0</td>\n",
       "      <td>0</td>\n",
       "      <td>0</td>\n",
       "      <td>0</td>\n",
       "    </tr>\n",
       "  </tbody>\n",
       "</table>\n",
       "</div>"
      ],
      "text/plain": [
       "            store  item  year  month  day  week  weekofyear  dayofweek  \\\n",
       "date                                                                     \n",
       "2018-01-01      1     1  2018      1    1     1           1          0   \n",
       "2018-01-02      1     1  2018      1    2     1           1          1   \n",
       "2018-01-03      1     1  2018      1    3     1           1          2   \n",
       "2018-01-04      1     1  2018      1    4     1           1          3   \n",
       "2018-01-05      1     1  2018      1    5     1           1          4   \n",
       "\n",
       "            weekday  dayofyear  quarter  is_month_start  is_month_end  \\\n",
       "date                                                                    \n",
       "2018-01-01        0          1        1               1             0   \n",
       "2018-01-02        1          2        1               0             0   \n",
       "2018-01-03        2          3        1               0             0   \n",
       "2018-01-04        3          4        1               0             0   \n",
       "2018-01-05        4          5        1               0             0   \n",
       "\n",
       "            is_quarter_start  is_quarter_end  is_year_start  is_year_end  \n",
       "date                                                                      \n",
       "2018-01-01                 1               0              1            0  \n",
       "2018-01-02                 0               0              0            0  \n",
       "2018-01-03                 0               0              0            0  \n",
       "2018-01-04                 0               0              0            0  \n",
       "2018-01-05                 0               0              0            0  "
      ]
     },
     "execution_count": 14,
     "metadata": {},
     "output_type": "execute_result"
    }
   ],
   "source": [
    "df_test['year'] = df_test['date'].dt.year\n",
    "df_test['month'] = df_test['date'].dt.month\n",
    "df_test['day'] = df_test['date'].dt.day\n",
    "df_test['week'] = df_test['date'].dt.week\n",
    "df_test['weekofyear'] = df_test['date'].dt.weekofyear\n",
    "df_test['dayofweek'] = df_test['date'].dt.dayofweek\n",
    "df_test['weekday'] = df_test['date'].dt.weekday\n",
    "df_test['dayofyear'] = df_test['date'].dt.dayofyear\n",
    "df_test['quarter'] = df_test['date'].dt.quarter\n",
    "df_test['is_month_start'] = df_test['date'].dt.is_month_start\n",
    "df_test['is_month_end'] = df_test['date'].dt.is_month_end\n",
    "df_test['is_quarter_start'] = df_test['date'].dt.is_quarter_start\n",
    "df_test['is_quarter_end'] = df_test['date'].dt.is_quarter_end\n",
    "df_test['is_year_start'] = df_test['date'].dt.is_year_start\n",
    "df_test['is_year_end'] = df_test['date'].dt.is_year_end\n",
    "\n",
    "categorical_var = ['is_month_start', 'is_month_end', 'is_quarter_start', 'is_quarter_end', 'is_year_start', \n",
    "                  'is_year_start', 'is_year_end']\n",
    "\n",
    "from sklearn.preprocessing import LabelEncoder\n",
    "le = LabelEncoder()\n",
    "df_test[categorical_var] = df_test[categorical_var].apply(lambda col: le.fit_transform(col))\n",
    "\n",
    "id = df_test['id']\n",
    "df_test = df_test.drop('id', axis=1)\n",
    "df_test = df_test.drop('date', axis=1)\n",
    "df_test.head(5)"
   ]
  },
  {
   "cell_type": "code",
   "execution_count": 15,
   "metadata": {},
   "outputs": [],
   "source": [
    "# define example\n",
    "data_store = df_test['store']\n",
    "data_item = df_test['item']\n",
    "values_store = array(data_store)\n",
    "values_item = array(data_item)\n",
    "# integer encode\n",
    "label_encoder = LabelEncoder()\n",
    "integer_encoded_store = label_encoder.fit_transform(values_store)\n",
    "integer_encoded_item = label_encoder.fit_transform(values_item)\n",
    "# binary encode\n",
    "onehot_encoder_store = OneHotEncoder(sparse=False, categories = 'auto')\n",
    "onehot_encoder_item = OneHotEncoder(sparse=False, categories = 'auto')\n",
    "integer_encoded_store = integer_encoded_store.reshape(len(integer_encoded_store), 1)\n",
    "integer_encoded_item = integer_encoded_item.reshape(len(integer_encoded_item), 1)\n",
    "onehot_encoded_store = onehot_encoder_store.fit_transform(integer_encoded_store)\n",
    "onehot_encoded_item = onehot_encoder_item.fit_transform(integer_encoded_item)\n",
    "#print(type(onehot_encoded_item))"
   ]
  },
  {
   "cell_type": "code",
   "execution_count": 16,
   "metadata": {},
   "outputs": [],
   "source": [
    "df_test_store = pd.DataFrame(onehot_encoded_store, dtype=int)\n",
    "df_test_item = pd.DataFrame(onehot_encoded_item, dtype=int)\n",
    "df_test.reset_index(inplace=True, drop=True)\n",
    "df_test_store = pd.DataFrame(onehot_encoded_store, columns = list('ASDFGHJKLP'))\n",
    "df_test_item = pd.DataFrame(onehot_encoded_item)\n",
    "df_test = pd.concat([df_test_store, df_test_item, df_test], axis=1)\n",
    "\n",
    "df_test = df_test.drop('store', axis=1)\n",
    "df_test = df_test.drop('item', axis=1)\n",
    "#df_test"
   ]
  },
  {
   "cell_type": "code",
   "execution_count": 17,
   "metadata": {},
   "outputs": [],
   "source": [
    "X = df_train.iloc[:, :].values\n",
    "y = sales"
   ]
  },
  {
   "cell_type": "markdown",
   "metadata": {},
   "source": [
    "### Splitting the dataset into the Training set and Test set"
   ]
  },
  {
   "cell_type": "code",
   "execution_count": 18,
   "metadata": {},
   "outputs": [],
   "source": [
    "from sklearn.model_selection import train_test_split\n",
    "X_train, X_test, y_train, y_test = train_test_split(X, y, test_size = 0.2, random_state = 0)"
   ]
  },
  {
   "cell_type": "markdown",
   "metadata": {},
   "source": [
    "## Convolutional Neural Network"
   ]
  },
  {
   "cell_type": "markdown",
   "metadata": {},
   "source": [
    "### Reshape features"
   ]
  },
  {
   "cell_type": "code",
   "execution_count": 19,
   "metadata": {},
   "outputs": [
    {
     "name": "stdout",
     "output_type": "stream",
     "text": [
      "Train set shape (730400, 75, 1)\n",
      "Test set shape (182600, 75, 1)\n"
     ]
    }
   ],
   "source": [
    "X_train_series = X_train.reshape((X_train.shape[0], X_train.shape[1], 1))\n",
    "X_test_series = X_test.reshape((X_test.shape[0], X_test.shape[1], 1))\n",
    "print('Train set shape', X_train_series.shape)\n",
    "print('Test set shape', X_test_series.shape)"
   ]
  },
  {
   "cell_type": "markdown",
   "metadata": {},
   "source": [
    "### Model Creation"
   ]
  },
  {
   "cell_type": "markdown",
   "metadata": {},
   "source": [
    "### import libraries for CNN"
   ]
  },
  {
   "cell_type": "code",
   "execution_count": 20,
   "metadata": {},
   "outputs": [
    {
     "name": "stderr",
     "output_type": "stream",
     "text": [
      "Using TensorFlow backend.\n"
     ]
    }
   ],
   "source": [
    "from keras import optimizers\n",
    "from keras.models import Sequential, Model\n",
    "from keras.layers.convolutional import Conv1D, MaxPooling1D\n",
    "from keras.layers import Dense, LSTM, RepeatVector, TimeDistributed, Flatten\n",
    "from sklearn.metrics import mean_squared_error"
   ]
  },
  {
   "cell_type": "code",
   "execution_count": 21,
   "metadata": {},
   "outputs": [
    {
     "name": "stdout",
     "output_type": "stream",
     "text": [
      "WARNING:tensorflow:From /home/tasnima/anaconda3/lib/python3.7/site-packages/tensorflow/python/ops/resource_variable_ops.py:435: colocate_with (from tensorflow.python.framework.ops) is deprecated and will be removed in a future version.\n",
      "Instructions for updating:\n",
      "Colocations handled automatically by placer.\n"
     ]
    }
   ],
   "source": [
    "epochs = 10\n",
    "batch = 256\n",
    "lr = 0.0003\n",
    "adam = optimizers.Adam(lr)"
   ]
  },
  {
   "cell_type": "code",
   "execution_count": 22,
   "metadata": {},
   "outputs": [
    {
     "name": "stdout",
     "output_type": "stream",
     "text": [
      "Model: \"sequential_1\"\n",
      "_________________________________________________________________\n",
      "Layer (type)                 Output Shape              Param #   \n",
      "=================================================================\n",
      "lstm_1 (LSTM)                (None, 50)                10400     \n",
      "_________________________________________________________________\n",
      "dense_1 (Dense)              (None, 1)                 51        \n",
      "=================================================================\n",
      "Total params: 10,451\n",
      "Trainable params: 10,451\n",
      "Non-trainable params: 0\n",
      "_________________________________________________________________\n"
     ]
    }
   ],
   "source": [
    "model_lstm = Sequential()\n",
    "model_lstm.add(LSTM(50, activation = 'relu', input_shape = (X_train_series.shape[1], X_train_series.shape[2])))\n",
    "model_lstm.add(Dense(1))\n",
    "model_lstm.compile(loss = 'mse', optimizer = adam)\n",
    "model_lstm.summary()"
   ]
  },
  {
   "cell_type": "code",
   "execution_count": 23,
   "metadata": {},
   "outputs": [
    {
     "name": "stdout",
     "output_type": "stream",
     "text": [
      "WARNING:tensorflow:From /home/tasnima/anaconda3/lib/python3.7/site-packages/tensorflow/python/ops/math_ops.py:3066: to_int32 (from tensorflow.python.ops.math_ops) is deprecated and will be removed in a future version.\n",
      "Instructions for updating:\n",
      "Use tf.cast instead.\n",
      "Train on 730400 samples, validate on 182600 samples\n",
      "Epoch 1/10\n",
      " - 631s - loss: 10890986.3853 - val_loss: 691.2117\n",
      "Epoch 2/10\n",
      " - 642s - loss: 46904379.3230 - val_loss: 705.5342\n",
      "Epoch 3/10\n",
      " - 665s - loss: 700.5777 - val_loss: 685.5362\n",
      "Epoch 4/10\n",
      " - 657s - loss: 2067354.8203 - val_loss: 707.2215\n",
      "Epoch 5/10\n",
      " - 631s - loss: 784.3511 - val_loss: 711.2049\n",
      "Epoch 6/10\n",
      " - 648s - loss: 48495.7051 - val_loss: 799.1421\n",
      "Epoch 7/10\n",
      " - 639s - loss: 1072.7356 - val_loss: 817.3466\n",
      "Epoch 8/10\n",
      " - 640s - loss: 123366893066.9700 - val_loss: 801.9539\n",
      "Epoch 9/10\n",
      " - 631s - loss: 777.4708 - val_loss: 756.0393\n",
      "Epoch 10/10\n",
      " - 620s - loss: 799.7846 - val_loss: 759.3470\n"
     ]
    }
   ],
   "source": [
    "lstm_history = model_lstm.fit(X_train_series, y_train, validation_data = (X_test_series, y_test),\n",
    "                            epochs = epochs, verbose = 2)"
   ]
  },
  {
   "cell_type": "code",
   "execution_count": 24,
   "metadata": {},
   "outputs": [],
   "source": [
    "df_test_series = df_test.values.reshape((df_test.shape[0], df_test.shape[1], 1))"
   ]
  },
  {
   "cell_type": "code",
   "execution_count": 26,
   "metadata": {},
   "outputs": [],
   "source": [
    "test_predict = model_lstm.predict(df_test_series, batch_size = batch, verbose = 0)\n",
    "test_predict = test_predict.flatten()"
   ]
  },
  {
   "cell_type": "code",
   "execution_count": 27,
   "metadata": {},
   "outputs": [],
   "source": [
    "submission = pd.DataFrame({'id': id, 'sales': test_predict.astype(np.int32)})\n",
    "submission.to_csv('submission_extra_features_all_categorical_rnn.csv', index=False)"
   ]
  },
  {
   "cell_type": "code",
   "execution_count": 32,
   "metadata": {},
   "outputs": [
    {
     "data": {
      "text/plain": [
       "22.484426679078485"
      ]
     },
     "execution_count": 32,
     "metadata": {},
     "output_type": "execute_result"
    }
   ],
   "source": [
    "from sklearn.metrics import mean_absolute_error\n",
    "\n",
    "X_test_series = X_test.reshape((X_test.shape[0], X_test.shape[1], 1))\n",
    "test_predict_train = model_lstm.predict(X_test_series, batch_size = batch, verbose = 0)\n",
    "test_predict = test_predict.flatten()\n",
    "\n",
    "mae = mean_absolute_error(y_test, test_predict_train)\n",
    "mae"
   ]
  },
  {
   "cell_type": "code",
   "execution_count": null,
   "metadata": {},
   "outputs": [],
   "source": []
  }
 ],
 "metadata": {
  "kernelspec": {
   "display_name": "Python 3",
   "language": "python",
   "name": "python3"
  },
  "language_info": {
   "codemirror_mode": {
    "name": "ipython",
    "version": 3
   },
   "file_extension": ".py",
   "mimetype": "text/x-python",
   "name": "python",
   "nbconvert_exporter": "python",
   "pygments_lexer": "ipython3",
   "version": "3.7.3"
  }
 },
 "nbformat": 4,
 "nbformat_minor": 2
}
