{
 "cells": [
  {
   "cell_type": "markdown",
   "metadata": {},
   "source": [
    "# MLSMOTE\n",
    "\n",
    "A python code that implemented the [MLSMOTE](https://www.sciencedirect.com/science/article/abs/pii/S0950705115002737) algorithm was available here: https://github.com/niteshsukhwani/MLSMOTE. However, the code had a bug and wasn't efficiently using the pandas. I fixed and modified the code, and here it is.\n",
    "\n",
    "**If you find this notebook useful, please don't forget to upvote.**"
   ]
  },
  {
   "cell_type": "code",
   "execution_count": 1,
   "metadata": {
    "_cell_guid": "b1076dfc-b9ad-4769-8c92-a6c4dae69d19",
    "_uuid": "8f2839f25d086af736a60e9eeb907d3b93b6e0e5"
   },
   "outputs": [],
   "source": [
    "import numpy as np\n",
    "import pandas as pd\n",
    "import random\n",
    "from sklearn.datasets import make_classification\n",
    "from sklearn.neighbors import NearestNeighbors"
   ]
  },
  {
   "cell_type": "code",
   "execution_count": 59,
   "metadata": {
    "_cell_guid": "79c7e3d0-c299-4dcb-8224-4455121ee9b0",
    "_uuid": "d629ff2d2480ee46fbb7e2d37f6b5fab8052498a"
   },
   "outputs": [],
   "source": [
    "def create_dataset(n_sample=1000):\n",
    "    ''' \n",
    "    Create a unevenly distributed sample data set multilabel  \n",
    "    classification using make_classification function\n",
    "    \n",
    "    args\n",
    "    nsample: int, Number of sample to be created\n",
    "    \n",
    "    return\n",
    "    X: pandas.DataFrame, feature vector dataframe with 10 features \n",
    "    y: pandas.DataFrame, target vector dataframe with 5 labels\n",
    "    '''\n",
    "    X, y = make_classification(n_classes=5, class_sep=2,\n",
    "                               weights=[0.1,0.025, 0.205, 0.008, 0.9], n_informative=3, n_redundant=1, flip_y=0,\n",
    "                               n_features=10, n_clusters_per_class=1, n_samples=1000, random_state=10)\n",
    "    y = pd.get_dummies(y, prefix='class')\n",
    "    return pd.DataFrame(X), y\n",
    "\n",
    "def get_tail_label(df: pd.DataFrame, ql=[0.05, 1.]) -> list:\n",
    "    \"\"\"\n",
    "    Find the underrepresented targets.\n",
    "    Underrepresented targets are those which are observed less than the median occurance.\n",
    "    Targets beyond a quantile limit are filtered.\n",
    "    \"\"\"\n",
    "    irlbl = df.sum(axis=0)\n",
    "    print(irlbl.shape)\n",
    "    irlbl = irlbl[(irlbl > irlbl.quantile(ql[0])) & ((irlbl < irlbl.quantile(ql[1])))]  # Filtering\n",
    "    print(irlbl.max())\n",
    "    print(irlbl.shape)\n",
    "    irlbl = irlbl.max() / irlbl\n",
    "    threshold_irlbl = irlbl.median()\n",
    "    print(threshold_irlbl)\n",
    "    tail_label = irlbl[irlbl > threshold_irlbl].index.tolist()\n",
    "    print(len(tail_label))\n",
    "    return tail_label\n",
    "\n",
    "def get_minority_samples(X: pd.DataFrame, y: pd.DataFrame, ql=[0.05, 1.]):\n",
    "    \"\"\"\n",
    "    return\n",
    "    X_sub: pandas.DataFrame, the feature vector minority dataframe\n",
    "    y_sub: pandas.DataFrame, the target vector minority dataframe\n",
    "    \"\"\"\n",
    "    tail_labels = get_tail_label(y, ql=ql)\n",
    "    index = y[y[tail_labels].apply(lambda x: (x == 1).any(), axis=1)].index.tolist()\n",
    "    \n",
    "    X_sub = X[X.index.isin(index)].reset_index(drop = True)\n",
    "    y_sub = y[y.index.isin(index)].reset_index(drop = True)\n",
    "    print(X_sub.shape, y_sub.shape)\n",
    "    return X_sub, y_sub\n",
    "\n",
    "def nearest_neighbour(X: pd.DataFrame, neigh) -> list:\n",
    "    \"\"\"\n",
    "    Give index of 10 nearest neighbor of all the instance\n",
    "    \n",
    "    args\n",
    "    X: np.array, array whose nearest neighbor has to find\n",
    "    \n",
    "    return\n",
    "    indices: list of list, index of 5 NN of each element in X\n",
    "    \"\"\"\n",
    "    nbs = NearestNeighbors(n_neighbors=neigh, metric='euclidean', algorithm='kd_tree').fit(X)\n",
    "    euclidean, indices = nbs.kneighbors(X)\n",
    "    return indices\n",
    "\n",
    "def MLSMOTE(X, y, n_sample, neigh=5):\n",
    "    \"\"\"\n",
    "    Give the augmented data using MLSMOTE algorithm\n",
    "    \n",
    "    args\n",
    "    X: pandas.DataFrame, input vector DataFrame\n",
    "    y: pandas.DataFrame, feature vector dataframe\n",
    "    n_sample: int, number of newly generated sample\n",
    "    \n",
    "    return\n",
    "    new_X: pandas.DataFrame, augmented feature vector data\n",
    "    target: pandas.DataFrame, augmented target vector data\n",
    "    \"\"\"\n",
    "    indices2 = nearest_neighbour(X, neigh=neigh)\n",
    "    n = len(indices2)\n",
    "    new_X = np.zeros((n_sample, X.shape[1]))\n",
    "    target = np.zeros((n_sample, y.shape[1]))\n",
    "    for i in range(n_sample):\n",
    "        reference = random.randint(0, n-1)\n",
    "        neighbor = random.choice(indices2[reference, 1:])\n",
    "        all_point = indices2[reference]\n",
    "        nn_df = y[y.index.isin(all_point)]\n",
    "        ser = nn_df.sum(axis = 0, skipna = True)\n",
    "        target[i] = np.array([1 if val > 0 else 0 for val in ser])\n",
    "        ratio = random.random()\n",
    "        gap = X.loc[reference,:] - X.loc[neighbor,:]\n",
    "        new_X[i] = np.array(X.loc[reference,:] + ratio * gap)\n",
    "    new_X = pd.DataFrame(new_X, columns=X.columns)\n",
    "    target = pd.DataFrame(target, columns=y.columns)\n",
    "    return new_X, target\n",
    "\n",
    "def SMOLTE_cat_wrapper(x_df, y_df, cat_col, nsamples):\n",
    "    x_df_up = pd.DataFrame(columns=x_df.columns)\n",
    "    y_df_up = pd.DataFrame(columns=y_df.columns)\n",
    "\n",
    "    unique_cat_combs = x_df.groupby(cat_col).size().reset_index().rename(columns={0:'count'})[cat_col]\n",
    "    num_cols = x_df.columns.drop(cat_col).tolist()\n",
    "    for index, row in unique_cat_combs.iterrows():\n",
    "        condition = (x_df[cat_col] == row).all(axis=1)\n",
    "\n",
    "        subx = x_df[condition][num_cols].reset_index(drop=True)\n",
    "        suby = y_df[condition].reset_index(drop=True)\n",
    "        print(subx.shape, suby.shape)\n",
    "\n",
    "        x_df_sub, y_df_sub = get_minority_samples(subx, suby)\n",
    "        a, b = MLSMOTE(x_df_sub, y_df_sub, nsamples, neigh=10)\n",
    "        cats = pd.concat([row.to_frame().T]*len(a), ignore_index=True)\n",
    "        a = pd.merge(cats, a, how='left', left_index=True, right_index=True)\n",
    "        x_df_up = x_df_up.append(a, ignore_index=True)\n",
    "        y_df_up = y_df_up.append(b, ignore_index=True)\n",
    "    #y_df_up = y_df_up.astype(int)\n",
    "    \n",
    "    print('Number of new samples created: %d' %(len(y_df_up)))\n",
    "    \n",
    "    x_df_up = pd.concat([x_df, x_df_up], ignore_index=True)\n",
    "    y_df_up = pd.concat([y_df, y_df_up], ignore_index=True)\n",
    "    \n",
    "    x_df_up = x_df_up.sample(len(x_df_up), random_state=1881).reset_index(drop=True)\n",
    "    y_df_up = y_df_up.sample(len(y_df_up), random_state=1881).reset_index(drop=True)\n",
    "    \n",
    "    x_df_up[cat_col] = x_df_up[cat_col].astype(int)\n",
    "    return x_df_up, y_df_up"
   ]
  },
  {
   "cell_type": "code",
   "execution_count": 60,
   "metadata": {},
   "outputs": [],
   "source": [
    "def preprocess_df(df):\n",
    "    if 'cp_type' in df.columns:\n",
    "        df = df.drop('cp_type', axis=1)\n",
    "    df['cp_dose'] = (df['cp_dose'] == 'D2').astype(int)\n",
    "    df['cp_time'] = df['cp_time'].map({24:1, 48: 2, 72: 3})\n",
    "    return df"
   ]
  },
  {
   "cell_type": "code",
   "execution_count": 61,
   "metadata": {},
   "outputs": [
    {
     "name": "stdout",
     "output_type": "stream",
     "text": [
      "Original Train sample size: (23814, 876) , Original Train target size: (23814, 207)\n",
      "(3886, 872) (3886, 206)\n",
      "(206,)\n",
      "122\n",
      "(183,)\n",
      "15.25\n",
      "89\n",
      "377\n",
      "(377, 872) (377, 206)\n"
     ]
    },
    {
     "ename": "TypeError",
     "evalue": "cannot unpack non-iterable NoneType object",
     "output_type": "error",
     "traceback": [
      "\u001b[0;31m---------------------------------------------------------------------------\u001b[0m",
      "\u001b[0;31mTypeError\u001b[0m                                 Traceback (most recent call last)",
      "\u001b[0;32m<ipython-input-61-e112e5fdc501>\u001b[0m in \u001b[0;36m<module>\u001b[0;34m\u001b[0m\n\u001b[1;32m      9\u001b[0m \u001b[0;34m\u001b[0m\u001b[0m\n\u001b[1;32m     10\u001b[0m \u001b[0mcat_col\u001b[0m \u001b[0;34m=\u001b[0m \u001b[0;34m[\u001b[0m\u001b[0;34m'cp_time'\u001b[0m\u001b[0;34m,\u001b[0m \u001b[0;34m'cp_dose'\u001b[0m\u001b[0;34m]\u001b[0m\u001b[0;34m\u001b[0m\u001b[0;34m\u001b[0m\u001b[0m\n\u001b[0;32m---> 11\u001b[0;31m \u001b[0mx_train_fold\u001b[0m\u001b[0;34m,\u001b[0m \u001b[0my_train_fold\u001b[0m \u001b[0;34m=\u001b[0m \u001b[0mSMOLTE_cat_wrapper\u001b[0m\u001b[0;34m(\u001b[0m\u001b[0mtrain_features\u001b[0m\u001b[0;34m,\u001b[0m \u001b[0mtrain_target\u001b[0m\u001b[0;34m,\u001b[0m \u001b[0mcat_col\u001b[0m\u001b[0;34m,\u001b[0m \u001b[0mnsamples\u001b[0m\u001b[0;34m=\u001b[0m\u001b[0;36m50\u001b[0m\u001b[0;34m)\u001b[0m\u001b[0;34m\u001b[0m\u001b[0;34m\u001b[0m\u001b[0m\n\u001b[0m\u001b[1;32m     12\u001b[0m \u001b[0mprint\u001b[0m\u001b[0;34m(\u001b[0m\u001b[0;34m\"Upsampled Train sample size: %d\"\u001b[0m \u001b[0;34m%\u001b[0m \u001b[0;34m(\u001b[0m\u001b[0mlen\u001b[0m\u001b[0;34m(\u001b[0m\u001b[0mx_train_fold\u001b[0m\u001b[0;34m)\u001b[0m\u001b[0;34m)\u001b[0m\u001b[0;34m)\u001b[0m\u001b[0;34m\u001b[0m\u001b[0;34m\u001b[0m\u001b[0m\n\u001b[1;32m     13\u001b[0m \u001b[0mprint\u001b[0m\u001b[0;34m(\u001b[0m\u001b[0mx_train_fold\u001b[0m\u001b[0;34m.\u001b[0m\u001b[0mshape\u001b[0m\u001b[0;34m,\u001b[0m \u001b[0my_train_fold\u001b[0m\u001b[0;34m.\u001b[0m\u001b[0mshape\u001b[0m\u001b[0;34m)\u001b[0m\u001b[0;34m\u001b[0m\u001b[0;34m\u001b[0m\u001b[0m\n",
      "\u001b[0;32m<ipython-input-59-7b5484eb0be1>\u001b[0m in \u001b[0;36mSMOLTE_cat_wrapper\u001b[0;34m(x_df, y_df, cat_col, nsamples)\u001b[0m\n\u001b[1;32m    109\u001b[0m         \u001b[0mprint\u001b[0m\u001b[0;34m(\u001b[0m\u001b[0msubx\u001b[0m\u001b[0;34m.\u001b[0m\u001b[0mshape\u001b[0m\u001b[0;34m,\u001b[0m \u001b[0msuby\u001b[0m\u001b[0;34m.\u001b[0m\u001b[0mshape\u001b[0m\u001b[0;34m)\u001b[0m\u001b[0;34m\u001b[0m\u001b[0;34m\u001b[0m\u001b[0m\n\u001b[1;32m    110\u001b[0m \u001b[0;34m\u001b[0m\u001b[0m\n\u001b[0;32m--> 111\u001b[0;31m         \u001b[0mx_df_sub\u001b[0m\u001b[0;34m,\u001b[0m \u001b[0my_df_sub\u001b[0m \u001b[0;34m=\u001b[0m \u001b[0mget_minority_samples\u001b[0m\u001b[0;34m(\u001b[0m\u001b[0msubx\u001b[0m\u001b[0;34m,\u001b[0m \u001b[0msuby\u001b[0m\u001b[0;34m)\u001b[0m\u001b[0;34m\u001b[0m\u001b[0;34m\u001b[0m\u001b[0m\n\u001b[0m\u001b[1;32m    112\u001b[0m         \u001b[0ma\u001b[0m\u001b[0;34m,\u001b[0m \u001b[0mb\u001b[0m \u001b[0;34m=\u001b[0m \u001b[0mMLSMOTE\u001b[0m\u001b[0;34m(\u001b[0m\u001b[0mx_df_sub\u001b[0m\u001b[0;34m,\u001b[0m \u001b[0my_df_sub\u001b[0m\u001b[0;34m,\u001b[0m \u001b[0mnsamples\u001b[0m\u001b[0;34m,\u001b[0m \u001b[0mneigh\u001b[0m\u001b[0;34m=\u001b[0m\u001b[0;36m10\u001b[0m\u001b[0;34m)\u001b[0m\u001b[0;34m\u001b[0m\u001b[0;34m\u001b[0m\u001b[0m\n\u001b[1;32m    113\u001b[0m         \u001b[0mcats\u001b[0m \u001b[0;34m=\u001b[0m \u001b[0mpd\u001b[0m\u001b[0;34m.\u001b[0m\u001b[0mconcat\u001b[0m\u001b[0;34m(\u001b[0m\u001b[0;34m[\u001b[0m\u001b[0mrow\u001b[0m\u001b[0;34m.\u001b[0m\u001b[0mto_frame\u001b[0m\u001b[0;34m(\u001b[0m\u001b[0;34m)\u001b[0m\u001b[0;34m.\u001b[0m\u001b[0mT\u001b[0m\u001b[0;34m]\u001b[0m\u001b[0;34m*\u001b[0m\u001b[0mlen\u001b[0m\u001b[0;34m(\u001b[0m\u001b[0ma\u001b[0m\u001b[0;34m)\u001b[0m\u001b[0;34m,\u001b[0m \u001b[0mignore_index\u001b[0m\u001b[0;34m=\u001b[0m\u001b[0;32mTrue\u001b[0m\u001b[0;34m)\u001b[0m\u001b[0;34m\u001b[0m\u001b[0;34m\u001b[0m\u001b[0m\n",
      "\u001b[0;31mTypeError\u001b[0m: cannot unpack non-iterable NoneType object"
     ]
    }
   ],
   "source": [
    "train_features = pd.read_csv('data/train_features.csv')\n",
    "train_target = pd.read_csv('data/train_targets_scored.csv')\n",
    "print(\"Original Train sample size:\", train_features.shape, \", Original Train target size:\", train_target.shape)\n",
    "\n",
    "train_features = preprocess_df(train_features)\n",
    "\n",
    "train_features = train_features.drop('sig_id', axis=1)\n",
    "train_target = train_target.drop('sig_id', axis=1)\n",
    "\n",
    "cat_col = ['cp_time', 'cp_dose']\n",
    "x_train_fold, y_train_fold = SMOLTE_cat_wrapper(train_features, train_target, cat_col, nsamples=50)\n",
    "print(\"Upsampled Train sample size: %d\" % (len(x_train_fold)))\n",
    "print(x_train_fold.shape, y_train_fold.shape)"
   ]
  },
  {
   "cell_type": "code",
   "execution_count": 34,
   "metadata": {},
   "outputs": [
    {
     "data": {
      "text/html": [
       "<div>\n",
       "<style scoped>\n",
       "    .dataframe tbody tr th:only-of-type {\n",
       "        vertical-align: middle;\n",
       "    }\n",
       "\n",
       "    .dataframe tbody tr th {\n",
       "        vertical-align: top;\n",
       "    }\n",
       "\n",
       "    .dataframe thead th {\n",
       "        text-align: right;\n",
       "    }\n",
       "</style>\n",
       "<table border=\"1\" class=\"dataframe\">\n",
       "  <thead>\n",
       "    <tr style=\"text-align: right;\">\n",
       "      <th></th>\n",
       "      <th>5-alpha_reductase_inhibitor</th>\n",
       "      <th>11-beta-hsd1_inhibitor</th>\n",
       "      <th>acat_inhibitor</th>\n",
       "      <th>acetylcholine_receptor_agonist</th>\n",
       "      <th>acetylcholine_receptor_antagonist</th>\n",
       "      <th>acetylcholinesterase_inhibitor</th>\n",
       "      <th>adenosine_receptor_agonist</th>\n",
       "      <th>adenosine_receptor_antagonist</th>\n",
       "      <th>adenylyl_cyclase_activator</th>\n",
       "      <th>adrenergic_receptor_agonist</th>\n",
       "      <th>...</th>\n",
       "      <th>tropomyosin_receptor_kinase_inhibitor</th>\n",
       "      <th>trpv_agonist</th>\n",
       "      <th>trpv_antagonist</th>\n",
       "      <th>tubulin_inhibitor</th>\n",
       "      <th>tyrosine_kinase_inhibitor</th>\n",
       "      <th>ubiquitin_specific_protease_inhibitor</th>\n",
       "      <th>vegfr_inhibitor</th>\n",
       "      <th>vitamin_b</th>\n",
       "      <th>vitamin_d_receptor_agonist</th>\n",
       "      <th>wnt_inhibitor</th>\n",
       "    </tr>\n",
       "  </thead>\n",
       "  <tbody>\n",
       "    <tr>\n",
       "      <th>24109</th>\n",
       "      <td>0.0</td>\n",
       "      <td>0.0</td>\n",
       "      <td>0.0</td>\n",
       "      <td>0.0</td>\n",
       "      <td>0.0</td>\n",
       "      <td>0.0</td>\n",
       "      <td>0.0</td>\n",
       "      <td>0.0</td>\n",
       "      <td>0.0</td>\n",
       "      <td>0.0</td>\n",
       "      <td>...</td>\n",
       "      <td>0.0</td>\n",
       "      <td>0.0</td>\n",
       "      <td>0.0</td>\n",
       "      <td>0.0</td>\n",
       "      <td>0.0</td>\n",
       "      <td>0.0</td>\n",
       "      <td>0.0</td>\n",
       "      <td>0.0</td>\n",
       "      <td>0.0</td>\n",
       "      <td>0.0</td>\n",
       "    </tr>\n",
       "    <tr>\n",
       "      <th>24110</th>\n",
       "      <td>0.0</td>\n",
       "      <td>0.0</td>\n",
       "      <td>0.0</td>\n",
       "      <td>0.0</td>\n",
       "      <td>0.0</td>\n",
       "      <td>0.0</td>\n",
       "      <td>0.0</td>\n",
       "      <td>0.0</td>\n",
       "      <td>0.0</td>\n",
       "      <td>0.0</td>\n",
       "      <td>...</td>\n",
       "      <td>0.0</td>\n",
       "      <td>0.0</td>\n",
       "      <td>0.0</td>\n",
       "      <td>0.0</td>\n",
       "      <td>0.0</td>\n",
       "      <td>0.0</td>\n",
       "      <td>0.0</td>\n",
       "      <td>0.0</td>\n",
       "      <td>0.0</td>\n",
       "      <td>0.0</td>\n",
       "    </tr>\n",
       "    <tr>\n",
       "      <th>24111</th>\n",
       "      <td>0.0</td>\n",
       "      <td>0.0</td>\n",
       "      <td>0.0</td>\n",
       "      <td>0.0</td>\n",
       "      <td>0.0</td>\n",
       "      <td>0.0</td>\n",
       "      <td>0.0</td>\n",
       "      <td>0.0</td>\n",
       "      <td>0.0</td>\n",
       "      <td>0.0</td>\n",
       "      <td>...</td>\n",
       "      <td>0.0</td>\n",
       "      <td>0.0</td>\n",
       "      <td>0.0</td>\n",
       "      <td>0.0</td>\n",
       "      <td>0.0</td>\n",
       "      <td>0.0</td>\n",
       "      <td>0.0</td>\n",
       "      <td>0.0</td>\n",
       "      <td>0.0</td>\n",
       "      <td>0.0</td>\n",
       "    </tr>\n",
       "    <tr>\n",
       "      <th>24112</th>\n",
       "      <td>0.0</td>\n",
       "      <td>0.0</td>\n",
       "      <td>0.0</td>\n",
       "      <td>0.0</td>\n",
       "      <td>0.0</td>\n",
       "      <td>0.0</td>\n",
       "      <td>0.0</td>\n",
       "      <td>0.0</td>\n",
       "      <td>0.0</td>\n",
       "      <td>0.0</td>\n",
       "      <td>...</td>\n",
       "      <td>0.0</td>\n",
       "      <td>0.0</td>\n",
       "      <td>0.0</td>\n",
       "      <td>0.0</td>\n",
       "      <td>0.0</td>\n",
       "      <td>0.0</td>\n",
       "      <td>0.0</td>\n",
       "      <td>0.0</td>\n",
       "      <td>0.0</td>\n",
       "      <td>0.0</td>\n",
       "    </tr>\n",
       "    <tr>\n",
       "      <th>24113</th>\n",
       "      <td>0.0</td>\n",
       "      <td>0.0</td>\n",
       "      <td>0.0</td>\n",
       "      <td>0.0</td>\n",
       "      <td>0.0</td>\n",
       "      <td>0.0</td>\n",
       "      <td>0.0</td>\n",
       "      <td>0.0</td>\n",
       "      <td>0.0</td>\n",
       "      <td>0.0</td>\n",
       "      <td>...</td>\n",
       "      <td>0.0</td>\n",
       "      <td>0.0</td>\n",
       "      <td>0.0</td>\n",
       "      <td>1.0</td>\n",
       "      <td>0.0</td>\n",
       "      <td>0.0</td>\n",
       "      <td>0.0</td>\n",
       "      <td>0.0</td>\n",
       "      <td>0.0</td>\n",
       "      <td>0.0</td>\n",
       "    </tr>\n",
       "  </tbody>\n",
       "</table>\n",
       "<p>5 rows × 206 columns</p>\n",
       "</div>"
      ],
      "text/plain": [
       "       5-alpha_reductase_inhibitor  11-beta-hsd1_inhibitor  acat_inhibitor  \\\n",
       "24109                          0.0                     0.0             0.0   \n",
       "24110                          0.0                     0.0             0.0   \n",
       "24111                          0.0                     0.0             0.0   \n",
       "24112                          0.0                     0.0             0.0   \n",
       "24113                          0.0                     0.0             0.0   \n",
       "\n",
       "       acetylcholine_receptor_agonist  acetylcholine_receptor_antagonist  \\\n",
       "24109                             0.0                                0.0   \n",
       "24110                             0.0                                0.0   \n",
       "24111                             0.0                                0.0   \n",
       "24112                             0.0                                0.0   \n",
       "24113                             0.0                                0.0   \n",
       "\n",
       "       acetylcholinesterase_inhibitor  adenosine_receptor_agonist  \\\n",
       "24109                             0.0                         0.0   \n",
       "24110                             0.0                         0.0   \n",
       "24111                             0.0                         0.0   \n",
       "24112                             0.0                         0.0   \n",
       "24113                             0.0                         0.0   \n",
       "\n",
       "       adenosine_receptor_antagonist  adenylyl_cyclase_activator  \\\n",
       "24109                            0.0                         0.0   \n",
       "24110                            0.0                         0.0   \n",
       "24111                            0.0                         0.0   \n",
       "24112                            0.0                         0.0   \n",
       "24113                            0.0                         0.0   \n",
       "\n",
       "       adrenergic_receptor_agonist  ...  \\\n",
       "24109                          0.0  ...   \n",
       "24110                          0.0  ...   \n",
       "24111                          0.0  ...   \n",
       "24112                          0.0  ...   \n",
       "24113                          0.0  ...   \n",
       "\n",
       "       tropomyosin_receptor_kinase_inhibitor  trpv_agonist  trpv_antagonist  \\\n",
       "24109                                    0.0           0.0              0.0   \n",
       "24110                                    0.0           0.0              0.0   \n",
       "24111                                    0.0           0.0              0.0   \n",
       "24112                                    0.0           0.0              0.0   \n",
       "24113                                    0.0           0.0              0.0   \n",
       "\n",
       "       tubulin_inhibitor  tyrosine_kinase_inhibitor  \\\n",
       "24109                0.0                        0.0   \n",
       "24110                0.0                        0.0   \n",
       "24111                0.0                        0.0   \n",
       "24112                0.0                        0.0   \n",
       "24113                1.0                        0.0   \n",
       "\n",
       "       ubiquitin_specific_protease_inhibitor  vegfr_inhibitor  vitamin_b  \\\n",
       "24109                                    0.0              0.0        0.0   \n",
       "24110                                    0.0              0.0        0.0   \n",
       "24111                                    0.0              0.0        0.0   \n",
       "24112                                    0.0              0.0        0.0   \n",
       "24113                                    0.0              0.0        0.0   \n",
       "\n",
       "       vitamin_d_receptor_agonist  wnt_inhibitor  \n",
       "24109                         0.0            0.0  \n",
       "24110                         0.0            0.0  \n",
       "24111                         0.0            0.0  \n",
       "24112                         0.0            0.0  \n",
       "24113                         0.0            0.0  \n",
       "\n",
       "[5 rows x 206 columns]"
      ]
     },
     "execution_count": 34,
     "metadata": {},
     "output_type": "execute_result"
    }
   ],
   "source": [
    "y_train_fold.tail(5)"
   ]
  },
  {
   "cell_type": "code",
   "execution_count": 37,
   "metadata": {
    "scrolled": false
   },
   "outputs": [
    {
     "data": {
      "application/vnd.plotly.v1+json": {
       "config": {
        "linkText": "Export to plot.ly",
        "plotlyServerURL": "https://plot.ly",
        "showLink": false
       },
       "data": [
        {
         "alignmentgroup": "True",
         "hoverlabel": {
          "namelength": 0
         },
         "hovertemplate": "nonzero_records=%{x}<br>column=%{y}",
         "legendgroup": "",
         "marker": {
          "color": "#636efa"
         },
         "name": "",
         "offsetgroup": "",
         "orientation": "h",
         "showlegend": false,
         "textposition": "auto",
         "type": "bar",
         "x": [
          1,
          1,
          6,
          6,
          6,
          6,
          6,
          6,
          6,
          6,
          6,
          6,
          6,
          6,
          6,
          6,
          6,
          6,
          7,
          9,
          9,
          14,
          17,
          17,
          19,
          20,
          21,
          22,
          24,
          24,
          24,
          26,
          29,
          30,
          30,
          30,
          34,
          34,
          35,
          35,
          37,
          37,
          38,
          39,
          39,
          39,
          41,
          41,
          42,
          42,
          43,
          43,
          43,
          44,
          45,
          46,
          48,
          48,
          48,
          48,
          48,
          48,
          48,
          49,
          49,
          49,
          50,
          51,
          51,
          52,
          54,
          54,
          54,
          54,
          54,
          55,
          55,
          56,
          56,
          56,
          56,
          56,
          56,
          56,
          57,
          57,
          57,
          58,
          58,
          58,
          58,
          58,
          59,
          59,
          59,
          60,
          60,
          60,
          60,
          61,
          61,
          61,
          62,
          63,
          63,
          64,
          64,
          65,
          66,
          66,
          67,
          67,
          68,
          68,
          69,
          69,
          72,
          72,
          72,
          73,
          73,
          73,
          74,
          74,
          74,
          74,
          75,
          75,
          77,
          77,
          78,
          79,
          80,
          80,
          81,
          82,
          84,
          85,
          85,
          87,
          89,
          89,
          91,
          92,
          93,
          94,
          94,
          94,
          95,
          96,
          96,
          98,
          98,
          99,
          99,
          102,
          103,
          103,
          106,
          106,
          107,
          108,
          109,
          110,
          113,
          113,
          114,
          115,
          121,
          124,
          131,
          133,
          140,
          141,
          149,
          151,
          155,
          165,
          175,
          179,
          190,
          192,
          223,
          236,
          241,
          264,
          267,
          269,
          280,
          281,
          283,
          283,
          288,
          301,
          304,
          316,
          340,
          349,
          373,
          407,
          417,
          437,
          450,
          465,
          726,
          884
         ],
         "xaxis": "x",
         "y": [
          "atp-sensitive_potassium_channel_antagonist",
          "erbb2_inhibitor",
          "diuretic",
          "retinoid_receptor_antagonist",
          "atm_kinase_inhibitor",
          "protein_phosphatase_inhibitor",
          "lxr_agonist",
          "calcineurin_inhibitor",
          "antiarrhythmic",
          "steroid",
          "leukotriene_inhibitor",
          "autotaxin_inhibitor",
          "laxative",
          "nicotinic_receptor_agonist",
          "coagulation_factor_inhibitor",
          "tropomyosin_receptor_kinase_inhibitor",
          "ubiquitin_specific_protease_inhibitor",
          "elastase_inhibitor",
          "tlr_antagonist",
          "bacterial_membrane_integrity_inhibitor",
          "aldehyde_dehydrogenase_inhibitor",
          "nitric_oxide_production_inhibitor",
          "lipase_inhibitor",
          "adenylyl_cyclase_activator",
          "catechol_o_methyltransferase_inhibitor",
          "norepinephrine_reuptake_inhibitor",
          "atp_synthase_inhibitor",
          "ampk_activator",
          "analgesic",
          "focal_adhesion_kinase_inhibitor",
          "monoacylglycerol_lipase_inhibitor",
          "farnesyltransferase_inhibitor",
          "antimalarial",
          "antifungal",
          "syk_inhibitor",
          "gonadotropin_receptor_agonist",
          "chk_inhibitor",
          "glutamate_inhibitor",
          "mineralocorticoid_receptor_antagonist",
          "antihistamine",
          "atr_kinase_inhibitor",
          "rna_polymerase_inhibitor",
          "smoothened_receptor_antagonist",
          "ras_gtpase_inhibitor",
          "mdm_inhibitor",
          "tgf-beta_receptor_inhibitor",
          "monopolar_spindle_1_kinase_inhibitor",
          "anticonvulsant",
          "nrf2_activator",
          "trpv_agonist",
          "corticosteroid_agonist",
          "phospholipase_inhibitor",
          "pdk_inhibitor",
          "caspase_activator",
          "cck_receptor_antagonist",
          "sphingosine_receptor_agonist",
          "cholesterol_inhibitor",
          "estrogen_receptor_antagonist",
          "androgen_receptor_agonist",
          "dna_alkylating_agent",
          "mucolytic_agent",
          "protein_kinase_inhibitor",
          "trpv_antagonist",
          "antiviral",
          "protein_tyrosine_kinase_inhibitor",
          "p-glycoprotein_inhibitor",
          "vitamin_b",
          "insulin_secretagogue",
          "insulin_sensitizer",
          "aromatase_inhibitor",
          "chelating_agent",
          "adenosine_receptor_agonist",
          "transient_receptor_potential_channel_antagonist",
          "cholinergic_receptor_antagonist",
          "wnt_inhibitor",
          "fgfr_inhibitor",
          "cannabinoid_receptor_antagonist",
          "gamma_secretase_inhibitor",
          "histone_lysine_demethylase_inhibitor",
          "radiopaque_medium",
          "bcl_inhibitor",
          "bcr-abl_inhibitor",
          "fatty_acid_receptor_agonist",
          "faah_inhibitor",
          "fungal_squalene_epoxidase_inhibitor",
          "free_radical_scavenger",
          "nitric_oxide_synthase_inhibitor",
          "imidazoline_receptor_agonist",
          "acat_inhibitor",
          "thrombin_inhibitor",
          "vitamin_d_receptor_agonist",
          "dipeptidyl_peptidase_inhibitor",
          "histamine_receptor_agonist",
          "btk_inhibitor",
          "potassium_channel_activator",
          "tachykinin_antagonist",
          "bacterial_30s_ribosomal_subunit_inhibitor",
          "progesterone_receptor_antagonist",
          "gsk_inhibitor",
          "parp_inhibitor",
          "lipoxygenase_inhibitor",
          "opioid_receptor_agonist",
          "leukotriene_receptor_antagonist",
          "igf-1_inhibitor",
          "11-beta-hsd1_inhibitor",
          "alk_inhibitor",
          "ppar_receptor_antagonist",
          "histone_lysine_methyltransferase_inhibitor",
          "ribonucleoside_reductase_inhibitor",
          "p38_mapk_inhibitor",
          "retinoid_receptor_agonist",
          "benzodiazepine_receptor_agonist",
          "neuropeptide_receptor_antagonist",
          "bromodomain_inhibitor",
          "5-alpha_reductase_inhibitor",
          "akt_inhibitor",
          "hcv_inhibitor",
          "casein_kinase_inhibitor",
          "mek_inhibitor",
          "anti-inflammatory",
          "antioxidant",
          "pkc_inhibitor",
          "antibiotic",
          "membrane_integrity_inhibitor",
          "glutamate_receptor_agonist",
          "ikk_inhibitor",
          "immunosuppressant",
          "src_inhibitor",
          "tyrosine_kinase_inhibitor",
          "antiprotozoal",
          "tnf_inhibitor",
          "rho_associated_kinase_inhibitor",
          "bacterial_50s_ribosomal_subunit_inhibitor",
          "anesthetic_-_local",
          "angiogenesis_inhibitor",
          "apoptosis_stimulant",
          "prostanoid_receptor_antagonist",
          "monoamine_oxidase_inhibitor",
          "nitric_oxide_donor",
          "angiotensin_receptor_antagonist",
          "androgen_receptor_antagonist",
          "bacterial_dna_gyrase_inhibitor",
          "thymidylate_synthase_inhibitor",
          "beta_amyloid_inhibitor",
          "hsp_inhibitor",
          "carbonic_anhydrase_inhibitor",
          "integrin_inhibitor",
          "hiv_inhibitor",
          "dihydrofolate_reductase_inhibitor",
          "adenosine_receptor_antagonist",
          "opioid_receptor_antagonist",
          "sigma_receptor_antagonist",
          "potassium_channel_antagonist",
          "prostaglandin_inhibitor",
          "jak_inhibitor",
          "cc_chemokine_receptor_antagonist",
          "protein_synthesis_inhibitor",
          "aurora_kinase_inhibitor",
          "hdac_inhibitor",
          "gaba_receptor_agonist",
          "cytochrome_p450_inhibitor",
          "acetylcholinesterase_inhibitor",
          "bacterial_antifolate",
          "tlr_agonist",
          "serotonin_reuptake_inhibitor",
          "chloride_channel_blocker",
          "cannabinoid_receptor_agonist",
          "bacterial_dna_inhibitor",
          "dopamine_receptor_agonist",
          "sigma_receptor_agonist",
          "ppar_receptor_agonist",
          "mtor_inhibitor",
          "progesterone_receptor_agonist",
          "atpase_inhibitor",
          "topoisomerase_inhibitor",
          "orexin_receptor_antagonist",
          "pi3k_inhibitor",
          "gaba_receptor_antagonist",
          "vegfr_inhibitor",
          "estrogen_receptor_agonist",
          "acetylcholine_receptor_agonist",
          "bacterial_cell_wall_synthesis_inhibitor",
          "raf_inhibitor",
          "serotonin_receptor_agonist",
          "histamine_receptor_antagonist",
          "phosphodiesterase_inhibitor",
          "sodium_channel_inhibitor",
          "glucocorticoid_receptor_agonist",
          "adrenergic_receptor_agonist",
          "calcium_channel_blocker",
          "kit_inhibitor",
          "hmgcr_inhibitor",
          "flt3_inhibitor",
          "acetylcholine_receptor_antagonist",
          "pdgfr_inhibitor",
          "tubulin_inhibitor",
          "cdk_inhibitor",
          "egfr_inhibitor",
          "adrenergic_receptor_antagonist",
          "glutamate_receptor_antagonist",
          "serotonin_receptor_antagonist",
          "cyclooxygenase_inhibitor",
          "dna_inhibitor",
          "dopamine_receptor_antagonist",
          "proteasome_inhibitor",
          "nfkb_inhibitor"
         ],
         "yaxis": "y"
        }
       ],
       "layout": {
        "barmode": "relative",
        "height": 1000,
        "legend": {
         "tracegroupgap": 0
        },
        "margin": {
         "t": 60
        },
        "template": {
         "data": {
          "bar": [
           {
            "error_x": {
             "color": "#2a3f5f"
            },
            "error_y": {
             "color": "#2a3f5f"
            },
            "marker": {
             "line": {
              "color": "#E5ECF6",
              "width": 0.5
             }
            },
            "type": "bar"
           }
          ],
          "barpolar": [
           {
            "marker": {
             "line": {
              "color": "#E5ECF6",
              "width": 0.5
             }
            },
            "type": "barpolar"
           }
          ],
          "carpet": [
           {
            "aaxis": {
             "endlinecolor": "#2a3f5f",
             "gridcolor": "white",
             "linecolor": "white",
             "minorgridcolor": "white",
             "startlinecolor": "#2a3f5f"
            },
            "baxis": {
             "endlinecolor": "#2a3f5f",
             "gridcolor": "white",
             "linecolor": "white",
             "minorgridcolor": "white",
             "startlinecolor": "#2a3f5f"
            },
            "type": "carpet"
           }
          ],
          "choropleth": [
           {
            "colorbar": {
             "outlinewidth": 0,
             "ticks": ""
            },
            "type": "choropleth"
           }
          ],
          "contour": [
           {
            "colorbar": {
             "outlinewidth": 0,
             "ticks": ""
            },
            "colorscale": [
             [
              0,
              "#0d0887"
             ],
             [
              0.1111111111111111,
              "#46039f"
             ],
             [
              0.2222222222222222,
              "#7201a8"
             ],
             [
              0.3333333333333333,
              "#9c179e"
             ],
             [
              0.4444444444444444,
              "#bd3786"
             ],
             [
              0.5555555555555556,
              "#d8576b"
             ],
             [
              0.6666666666666666,
              "#ed7953"
             ],
             [
              0.7777777777777778,
              "#fb9f3a"
             ],
             [
              0.8888888888888888,
              "#fdca26"
             ],
             [
              1,
              "#f0f921"
             ]
            ],
            "type": "contour"
           }
          ],
          "contourcarpet": [
           {
            "colorbar": {
             "outlinewidth": 0,
             "ticks": ""
            },
            "type": "contourcarpet"
           }
          ],
          "heatmap": [
           {
            "colorbar": {
             "outlinewidth": 0,
             "ticks": ""
            },
            "colorscale": [
             [
              0,
              "#0d0887"
             ],
             [
              0.1111111111111111,
              "#46039f"
             ],
             [
              0.2222222222222222,
              "#7201a8"
             ],
             [
              0.3333333333333333,
              "#9c179e"
             ],
             [
              0.4444444444444444,
              "#bd3786"
             ],
             [
              0.5555555555555556,
              "#d8576b"
             ],
             [
              0.6666666666666666,
              "#ed7953"
             ],
             [
              0.7777777777777778,
              "#fb9f3a"
             ],
             [
              0.8888888888888888,
              "#fdca26"
             ],
             [
              1,
              "#f0f921"
             ]
            ],
            "type": "heatmap"
           }
          ],
          "heatmapgl": [
           {
            "colorbar": {
             "outlinewidth": 0,
             "ticks": ""
            },
            "colorscale": [
             [
              0,
              "#0d0887"
             ],
             [
              0.1111111111111111,
              "#46039f"
             ],
             [
              0.2222222222222222,
              "#7201a8"
             ],
             [
              0.3333333333333333,
              "#9c179e"
             ],
             [
              0.4444444444444444,
              "#bd3786"
             ],
             [
              0.5555555555555556,
              "#d8576b"
             ],
             [
              0.6666666666666666,
              "#ed7953"
             ],
             [
              0.7777777777777778,
              "#fb9f3a"
             ],
             [
              0.8888888888888888,
              "#fdca26"
             ],
             [
              1,
              "#f0f921"
             ]
            ],
            "type": "heatmapgl"
           }
          ],
          "histogram": [
           {
            "marker": {
             "colorbar": {
              "outlinewidth": 0,
              "ticks": ""
             }
            },
            "type": "histogram"
           }
          ],
          "histogram2d": [
           {
            "colorbar": {
             "outlinewidth": 0,
             "ticks": ""
            },
            "colorscale": [
             [
              0,
              "#0d0887"
             ],
             [
              0.1111111111111111,
              "#46039f"
             ],
             [
              0.2222222222222222,
              "#7201a8"
             ],
             [
              0.3333333333333333,
              "#9c179e"
             ],
             [
              0.4444444444444444,
              "#bd3786"
             ],
             [
              0.5555555555555556,
              "#d8576b"
             ],
             [
              0.6666666666666666,
              "#ed7953"
             ],
             [
              0.7777777777777778,
              "#fb9f3a"
             ],
             [
              0.8888888888888888,
              "#fdca26"
             ],
             [
              1,
              "#f0f921"
             ]
            ],
            "type": "histogram2d"
           }
          ],
          "histogram2dcontour": [
           {
            "colorbar": {
             "outlinewidth": 0,
             "ticks": ""
            },
            "colorscale": [
             [
              0,
              "#0d0887"
             ],
             [
              0.1111111111111111,
              "#46039f"
             ],
             [
              0.2222222222222222,
              "#7201a8"
             ],
             [
              0.3333333333333333,
              "#9c179e"
             ],
             [
              0.4444444444444444,
              "#bd3786"
             ],
             [
              0.5555555555555556,
              "#d8576b"
             ],
             [
              0.6666666666666666,
              "#ed7953"
             ],
             [
              0.7777777777777778,
              "#fb9f3a"
             ],
             [
              0.8888888888888888,
              "#fdca26"
             ],
             [
              1,
              "#f0f921"
             ]
            ],
            "type": "histogram2dcontour"
           }
          ],
          "mesh3d": [
           {
            "colorbar": {
             "outlinewidth": 0,
             "ticks": ""
            },
            "type": "mesh3d"
           }
          ],
          "parcoords": [
           {
            "line": {
             "colorbar": {
              "outlinewidth": 0,
              "ticks": ""
             }
            },
            "type": "parcoords"
           }
          ],
          "pie": [
           {
            "automargin": true,
            "type": "pie"
           }
          ],
          "scatter": [
           {
            "marker": {
             "colorbar": {
              "outlinewidth": 0,
              "ticks": ""
             }
            },
            "type": "scatter"
           }
          ],
          "scatter3d": [
           {
            "line": {
             "colorbar": {
              "outlinewidth": 0,
              "ticks": ""
             }
            },
            "marker": {
             "colorbar": {
              "outlinewidth": 0,
              "ticks": ""
             }
            },
            "type": "scatter3d"
           }
          ],
          "scattercarpet": [
           {
            "marker": {
             "colorbar": {
              "outlinewidth": 0,
              "ticks": ""
             }
            },
            "type": "scattercarpet"
           }
          ],
          "scattergeo": [
           {
            "marker": {
             "colorbar": {
              "outlinewidth": 0,
              "ticks": ""
             }
            },
            "type": "scattergeo"
           }
          ],
          "scattergl": [
           {
            "marker": {
             "colorbar": {
              "outlinewidth": 0,
              "ticks": ""
             }
            },
            "type": "scattergl"
           }
          ],
          "scattermapbox": [
           {
            "marker": {
             "colorbar": {
              "outlinewidth": 0,
              "ticks": ""
             }
            },
            "type": "scattermapbox"
           }
          ],
          "scatterpolar": [
           {
            "marker": {
             "colorbar": {
              "outlinewidth": 0,
              "ticks": ""
             }
            },
            "type": "scatterpolar"
           }
          ],
          "scatterpolargl": [
           {
            "marker": {
             "colorbar": {
              "outlinewidth": 0,
              "ticks": ""
             }
            },
            "type": "scatterpolargl"
           }
          ],
          "scatterternary": [
           {
            "marker": {
             "colorbar": {
              "outlinewidth": 0,
              "ticks": ""
             }
            },
            "type": "scatterternary"
           }
          ],
          "surface": [
           {
            "colorbar": {
             "outlinewidth": 0,
             "ticks": ""
            },
            "colorscale": [
             [
              0,
              "#0d0887"
             ],
             [
              0.1111111111111111,
              "#46039f"
             ],
             [
              0.2222222222222222,
              "#7201a8"
             ],
             [
              0.3333333333333333,
              "#9c179e"
             ],
             [
              0.4444444444444444,
              "#bd3786"
             ],
             [
              0.5555555555555556,
              "#d8576b"
             ],
             [
              0.6666666666666666,
              "#ed7953"
             ],
             [
              0.7777777777777778,
              "#fb9f3a"
             ],
             [
              0.8888888888888888,
              "#fdca26"
             ],
             [
              1,
              "#f0f921"
             ]
            ],
            "type": "surface"
           }
          ],
          "table": [
           {
            "cells": {
             "fill": {
              "color": "#EBF0F8"
             },
             "line": {
              "color": "white"
             }
            },
            "header": {
             "fill": {
              "color": "#C8D4E3"
             },
             "line": {
              "color": "white"
             }
            },
            "type": "table"
           }
          ]
         },
         "layout": {
          "annotationdefaults": {
           "arrowcolor": "#2a3f5f",
           "arrowhead": 0,
           "arrowwidth": 1
          },
          "coloraxis": {
           "colorbar": {
            "outlinewidth": 0,
            "ticks": ""
           }
          },
          "colorscale": {
           "diverging": [
            [
             0,
             "#8e0152"
            ],
            [
             0.1,
             "#c51b7d"
            ],
            [
             0.2,
             "#de77ae"
            ],
            [
             0.3,
             "#f1b6da"
            ],
            [
             0.4,
             "#fde0ef"
            ],
            [
             0.5,
             "#f7f7f7"
            ],
            [
             0.6,
             "#e6f5d0"
            ],
            [
             0.7,
             "#b8e186"
            ],
            [
             0.8,
             "#7fbc41"
            ],
            [
             0.9,
             "#4d9221"
            ],
            [
             1,
             "#276419"
            ]
           ],
           "sequential": [
            [
             0,
             "#0d0887"
            ],
            [
             0.1111111111111111,
             "#46039f"
            ],
            [
             0.2222222222222222,
             "#7201a8"
            ],
            [
             0.3333333333333333,
             "#9c179e"
            ],
            [
             0.4444444444444444,
             "#bd3786"
            ],
            [
             0.5555555555555556,
             "#d8576b"
            ],
            [
             0.6666666666666666,
             "#ed7953"
            ],
            [
             0.7777777777777778,
             "#fb9f3a"
            ],
            [
             0.8888888888888888,
             "#fdca26"
            ],
            [
             1,
             "#f0f921"
            ]
           ],
           "sequentialminus": [
            [
             0,
             "#0d0887"
            ],
            [
             0.1111111111111111,
             "#46039f"
            ],
            [
             0.2222222222222222,
             "#7201a8"
            ],
            [
             0.3333333333333333,
             "#9c179e"
            ],
            [
             0.4444444444444444,
             "#bd3786"
            ],
            [
             0.5555555555555556,
             "#d8576b"
            ],
            [
             0.6666666666666666,
             "#ed7953"
            ],
            [
             0.7777777777777778,
             "#fb9f3a"
            ],
            [
             0.8888888888888888,
             "#fdca26"
            ],
            [
             1,
             "#f0f921"
            ]
           ]
          },
          "colorway": [
           "#636efa",
           "#EF553B",
           "#00cc96",
           "#ab63fa",
           "#FFA15A",
           "#19d3f3",
           "#FF6692",
           "#B6E880",
           "#FF97FF",
           "#FECB52"
          ],
          "font": {
           "color": "#2a3f5f"
          },
          "geo": {
           "bgcolor": "white",
           "lakecolor": "white",
           "landcolor": "#E5ECF6",
           "showlakes": true,
           "showland": true,
           "subunitcolor": "white"
          },
          "hoverlabel": {
           "align": "left"
          },
          "hovermode": "closest",
          "mapbox": {
           "style": "light"
          },
          "paper_bgcolor": "white",
          "plot_bgcolor": "#E5ECF6",
          "polar": {
           "angularaxis": {
            "gridcolor": "white",
            "linecolor": "white",
            "ticks": ""
           },
           "bgcolor": "#E5ECF6",
           "radialaxis": {
            "gridcolor": "white",
            "linecolor": "white",
            "ticks": ""
           }
          },
          "scene": {
           "xaxis": {
            "backgroundcolor": "#E5ECF6",
            "gridcolor": "white",
            "gridwidth": 2,
            "linecolor": "white",
            "showbackground": true,
            "ticks": "",
            "zerolinecolor": "white"
           },
           "yaxis": {
            "backgroundcolor": "#E5ECF6",
            "gridcolor": "white",
            "gridwidth": 2,
            "linecolor": "white",
            "showbackground": true,
            "ticks": "",
            "zerolinecolor": "white"
           },
           "zaxis": {
            "backgroundcolor": "#E5ECF6",
            "gridcolor": "white",
            "gridwidth": 2,
            "linecolor": "white",
            "showbackground": true,
            "ticks": "",
            "zerolinecolor": "white"
           }
          },
          "shapedefaults": {
           "line": {
            "color": "#2a3f5f"
           }
          },
          "ternary": {
           "aaxis": {
            "gridcolor": "white",
            "linecolor": "white",
            "ticks": ""
           },
           "baxis": {
            "gridcolor": "white",
            "linecolor": "white",
            "ticks": ""
           },
           "bgcolor": "#E5ECF6",
           "caxis": {
            "gridcolor": "white",
            "linecolor": "white",
            "ticks": ""
           }
          },
          "title": {
           "x": 0.05
          },
          "xaxis": {
           "automargin": true,
           "gridcolor": "white",
           "linecolor": "white",
           "ticks": "",
           "title": {
            "standoff": 15
           },
           "zerolinecolor": "white",
           "zerolinewidth": 2
          },
          "yaxis": {
           "automargin": true,
           "gridcolor": "white",
           "linecolor": "white",
           "ticks": "",
           "title": {
            "standoff": 15
           },
           "zerolinecolor": "white",
           "zerolinewidth": 2
          }
         }
        },
        "width": 800,
        "xaxis": {
         "anchor": "y",
         "domain": [
          0,
          1
         ],
         "title": {
          "text": "nonzero_records"
         }
        },
        "yaxis": {
         "anchor": "x",
         "domain": [
          0,
          1
         ],
         "title": {
          "text": "column"
         }
        }
       }
      },
      "text/html": [
       "<div>\n",
       "        \n",
       "        \n",
       "            <div id=\"f774fd71-a523-4d3f-a42b-e3f34a00dc5c\" class=\"plotly-graph-div\" style=\"height:1000px; width:800px;\"></div>\n",
       "            <script type=\"text/javascript\">\n",
       "                require([\"plotly\"], function(Plotly) {\n",
       "                    window.PLOTLYENV=window.PLOTLYENV || {};\n",
       "                    \n",
       "                if (document.getElementById(\"f774fd71-a523-4d3f-a42b-e3f34a00dc5c\")) {\n",
       "                    Plotly.newPlot(\n",
       "                        'f774fd71-a523-4d3f-a42b-e3f34a00dc5c',\n",
       "                        [{\"alignmentgroup\": \"True\", \"hoverlabel\": {\"namelength\": 0}, \"hovertemplate\": \"nonzero_records=%{x}<br>column=%{y}\", \"legendgroup\": \"\", \"marker\": {\"color\": \"#636efa\"}, \"name\": \"\", \"offsetgroup\": \"\", \"orientation\": \"h\", \"showlegend\": false, \"textposition\": \"auto\", \"type\": \"bar\", \"x\": [1.0, 1.0, 6.0, 6.0, 6.0, 6.0, 6.0, 6.0, 6.0, 6.0, 6.0, 6.0, 6.0, 6.0, 6.0, 6.0, 6.0, 6.0, 7.0, 9.0, 9.0, 14.0, 17.0, 17.0, 19.0, 20.0, 21.0, 22.0, 24.0, 24.0, 24.0, 26.0, 29.0, 30.0, 30.0, 30.0, 34.0, 34.0, 35.0, 35.0, 37.0, 37.0, 38.0, 39.0, 39.0, 39.0, 41.0, 41.0, 42.0, 42.0, 43.0, 43.0, 43.0, 44.0, 45.0, 46.0, 48.0, 48.0, 48.0, 48.0, 48.0, 48.0, 48.0, 49.0, 49.0, 49.0, 50.0, 51.0, 51.0, 52.0, 54.0, 54.0, 54.0, 54.0, 54.0, 55.0, 55.0, 56.0, 56.0, 56.0, 56.0, 56.0, 56.0, 56.0, 57.0, 57.0, 57.0, 58.0, 58.0, 58.0, 58.0, 58.0, 59.0, 59.0, 59.0, 60.0, 60.0, 60.0, 60.0, 61.0, 61.0, 61.0, 62.0, 63.0, 63.0, 64.0, 64.0, 65.0, 66.0, 66.0, 67.0, 67.0, 68.0, 68.0, 69.0, 69.0, 72.0, 72.0, 72.0, 73.0, 73.0, 73.0, 74.0, 74.0, 74.0, 74.0, 75.0, 75.0, 77.0, 77.0, 78.0, 79.0, 80.0, 80.0, 81.0, 82.0, 84.0, 85.0, 85.0, 87.0, 89.0, 89.0, 91.0, 92.0, 93.0, 94.0, 94.0, 94.0, 95.0, 96.0, 96.0, 98.0, 98.0, 99.0, 99.0, 102.0, 103.0, 103.0, 106.0, 106.0, 107.0, 108.0, 109.0, 110.0, 113.0, 113.0, 114.0, 115.0, 121.0, 124.0, 131.0, 133.0, 140.0, 141.0, 149.0, 151.0, 155.0, 165.0, 175.0, 179.0, 190.0, 192.0, 223.0, 236.0, 241.0, 264.0, 267.0, 269.0, 280.0, 281.0, 283.0, 283.0, 288.0, 301.0, 304.0, 316.0, 340.0, 349.0, 373.0, 407.0, 417.0, 437.0, 450.0, 465.0, 726.0, 884.0], \"xaxis\": \"x\", \"y\": [\"atp-sensitive_potassium_channel_antagonist\", \"erbb2_inhibitor\", \"diuretic\", \"retinoid_receptor_antagonist\", \"atm_kinase_inhibitor\", \"protein_phosphatase_inhibitor\", \"lxr_agonist\", \"calcineurin_inhibitor\", \"antiarrhythmic\", \"steroid\", \"leukotriene_inhibitor\", \"autotaxin_inhibitor\", \"laxative\", \"nicotinic_receptor_agonist\", \"coagulation_factor_inhibitor\", \"tropomyosin_receptor_kinase_inhibitor\", \"ubiquitin_specific_protease_inhibitor\", \"elastase_inhibitor\", \"tlr_antagonist\", \"bacterial_membrane_integrity_inhibitor\", \"aldehyde_dehydrogenase_inhibitor\", \"nitric_oxide_production_inhibitor\", \"lipase_inhibitor\", \"adenylyl_cyclase_activator\", \"catechol_o_methyltransferase_inhibitor\", \"norepinephrine_reuptake_inhibitor\", \"atp_synthase_inhibitor\", \"ampk_activator\", \"analgesic\", \"focal_adhesion_kinase_inhibitor\", \"monoacylglycerol_lipase_inhibitor\", \"farnesyltransferase_inhibitor\", \"antimalarial\", \"antifungal\", \"syk_inhibitor\", \"gonadotropin_receptor_agonist\", \"chk_inhibitor\", \"glutamate_inhibitor\", \"mineralocorticoid_receptor_antagonist\", \"antihistamine\", \"atr_kinase_inhibitor\", \"rna_polymerase_inhibitor\", \"smoothened_receptor_antagonist\", \"ras_gtpase_inhibitor\", \"mdm_inhibitor\", \"tgf-beta_receptor_inhibitor\", \"monopolar_spindle_1_kinase_inhibitor\", \"anticonvulsant\", \"nrf2_activator\", \"trpv_agonist\", \"corticosteroid_agonist\", \"phospholipase_inhibitor\", \"pdk_inhibitor\", \"caspase_activator\", \"cck_receptor_antagonist\", \"sphingosine_receptor_agonist\", \"cholesterol_inhibitor\", \"estrogen_receptor_antagonist\", \"androgen_receptor_agonist\", \"dna_alkylating_agent\", \"mucolytic_agent\", \"protein_kinase_inhibitor\", \"trpv_antagonist\", \"antiviral\", \"protein_tyrosine_kinase_inhibitor\", \"p-glycoprotein_inhibitor\", \"vitamin_b\", \"insulin_secretagogue\", \"insulin_sensitizer\", \"aromatase_inhibitor\", \"chelating_agent\", \"adenosine_receptor_agonist\", \"transient_receptor_potential_channel_antagonist\", \"cholinergic_receptor_antagonist\", \"wnt_inhibitor\", \"fgfr_inhibitor\", \"cannabinoid_receptor_antagonist\", \"gamma_secretase_inhibitor\", \"histone_lysine_demethylase_inhibitor\", \"radiopaque_medium\", \"bcl_inhibitor\", \"bcr-abl_inhibitor\", \"fatty_acid_receptor_agonist\", \"faah_inhibitor\", \"fungal_squalene_epoxidase_inhibitor\", \"free_radical_scavenger\", \"nitric_oxide_synthase_inhibitor\", \"imidazoline_receptor_agonist\", \"acat_inhibitor\", \"thrombin_inhibitor\", \"vitamin_d_receptor_agonist\", \"dipeptidyl_peptidase_inhibitor\", \"histamine_receptor_agonist\", \"btk_inhibitor\", \"potassium_channel_activator\", \"tachykinin_antagonist\", \"bacterial_30s_ribosomal_subunit_inhibitor\", \"progesterone_receptor_antagonist\", \"gsk_inhibitor\", \"parp_inhibitor\", \"lipoxygenase_inhibitor\", \"opioid_receptor_agonist\", \"leukotriene_receptor_antagonist\", \"igf-1_inhibitor\", \"11-beta-hsd1_inhibitor\", \"alk_inhibitor\", \"ppar_receptor_antagonist\", \"histone_lysine_methyltransferase_inhibitor\", \"ribonucleoside_reductase_inhibitor\", \"p38_mapk_inhibitor\", \"retinoid_receptor_agonist\", \"benzodiazepine_receptor_agonist\", \"neuropeptide_receptor_antagonist\", \"bromodomain_inhibitor\", \"5-alpha_reductase_inhibitor\", \"akt_inhibitor\", \"hcv_inhibitor\", \"casein_kinase_inhibitor\", \"mek_inhibitor\", \"anti-inflammatory\", \"antioxidant\", \"pkc_inhibitor\", \"antibiotic\", \"membrane_integrity_inhibitor\", \"glutamate_receptor_agonist\", \"ikk_inhibitor\", \"immunosuppressant\", \"src_inhibitor\", \"tyrosine_kinase_inhibitor\", \"antiprotozoal\", \"tnf_inhibitor\", \"rho_associated_kinase_inhibitor\", \"bacterial_50s_ribosomal_subunit_inhibitor\", \"anesthetic_-_local\", \"angiogenesis_inhibitor\", \"apoptosis_stimulant\", \"prostanoid_receptor_antagonist\", \"monoamine_oxidase_inhibitor\", \"nitric_oxide_donor\", \"angiotensin_receptor_antagonist\", \"androgen_receptor_antagonist\", \"bacterial_dna_gyrase_inhibitor\", \"thymidylate_synthase_inhibitor\", \"beta_amyloid_inhibitor\", \"hsp_inhibitor\", \"carbonic_anhydrase_inhibitor\", \"integrin_inhibitor\", \"hiv_inhibitor\", \"dihydrofolate_reductase_inhibitor\", \"adenosine_receptor_antagonist\", \"opioid_receptor_antagonist\", \"sigma_receptor_antagonist\", \"potassium_channel_antagonist\", \"prostaglandin_inhibitor\", \"jak_inhibitor\", \"cc_chemokine_receptor_antagonist\", \"protein_synthesis_inhibitor\", \"aurora_kinase_inhibitor\", \"hdac_inhibitor\", \"gaba_receptor_agonist\", \"cytochrome_p450_inhibitor\", \"acetylcholinesterase_inhibitor\", \"bacterial_antifolate\", \"tlr_agonist\", \"serotonin_reuptake_inhibitor\", \"chloride_channel_blocker\", \"cannabinoid_receptor_agonist\", \"bacterial_dna_inhibitor\", \"dopamine_receptor_agonist\", \"sigma_receptor_agonist\", \"ppar_receptor_agonist\", \"mtor_inhibitor\", \"progesterone_receptor_agonist\", \"atpase_inhibitor\", \"topoisomerase_inhibitor\", \"orexin_receptor_antagonist\", \"pi3k_inhibitor\", \"gaba_receptor_antagonist\", \"vegfr_inhibitor\", \"estrogen_receptor_agonist\", \"acetylcholine_receptor_agonist\", \"bacterial_cell_wall_synthesis_inhibitor\", \"raf_inhibitor\", \"serotonin_receptor_agonist\", \"histamine_receptor_antagonist\", \"phosphodiesterase_inhibitor\", \"sodium_channel_inhibitor\", \"glucocorticoid_receptor_agonist\", \"adrenergic_receptor_agonist\", \"calcium_channel_blocker\", \"kit_inhibitor\", \"hmgcr_inhibitor\", \"flt3_inhibitor\", \"acetylcholine_receptor_antagonist\", \"pdgfr_inhibitor\", \"tubulin_inhibitor\", \"cdk_inhibitor\", \"egfr_inhibitor\", \"adrenergic_receptor_antagonist\", \"glutamate_receptor_antagonist\", \"serotonin_receptor_antagonist\", \"cyclooxygenase_inhibitor\", \"dna_inhibitor\", \"dopamine_receptor_antagonist\", \"proteasome_inhibitor\", \"nfkb_inhibitor\"], \"yaxis\": \"y\"}],\n",
       "                        {\"barmode\": \"relative\", \"height\": 1000, \"legend\": {\"tracegroupgap\": 0}, \"margin\": {\"t\": 60}, \"template\": {\"data\": {\"bar\": [{\"error_x\": {\"color\": \"#2a3f5f\"}, \"error_y\": {\"color\": \"#2a3f5f\"}, \"marker\": {\"line\": {\"color\": \"#E5ECF6\", \"width\": 0.5}}, \"type\": \"bar\"}], \"barpolar\": [{\"marker\": {\"line\": {\"color\": \"#E5ECF6\", \"width\": 0.5}}, \"type\": \"barpolar\"}], \"carpet\": [{\"aaxis\": {\"endlinecolor\": \"#2a3f5f\", \"gridcolor\": \"white\", \"linecolor\": \"white\", \"minorgridcolor\": \"white\", \"startlinecolor\": \"#2a3f5f\"}, \"baxis\": {\"endlinecolor\": \"#2a3f5f\", \"gridcolor\": \"white\", \"linecolor\": \"white\", \"minorgridcolor\": \"white\", \"startlinecolor\": \"#2a3f5f\"}, \"type\": \"carpet\"}], \"choropleth\": [{\"colorbar\": {\"outlinewidth\": 0, \"ticks\": \"\"}, \"type\": \"choropleth\"}], \"contour\": [{\"colorbar\": {\"outlinewidth\": 0, \"ticks\": \"\"}, \"colorscale\": [[0.0, \"#0d0887\"], [0.1111111111111111, \"#46039f\"], [0.2222222222222222, \"#7201a8\"], [0.3333333333333333, \"#9c179e\"], [0.4444444444444444, \"#bd3786\"], [0.5555555555555556, \"#d8576b\"], [0.6666666666666666, \"#ed7953\"], [0.7777777777777778, \"#fb9f3a\"], [0.8888888888888888, \"#fdca26\"], [1.0, \"#f0f921\"]], \"type\": \"contour\"}], \"contourcarpet\": [{\"colorbar\": {\"outlinewidth\": 0, \"ticks\": \"\"}, \"type\": \"contourcarpet\"}], \"heatmap\": [{\"colorbar\": {\"outlinewidth\": 0, \"ticks\": \"\"}, \"colorscale\": [[0.0, \"#0d0887\"], [0.1111111111111111, \"#46039f\"], [0.2222222222222222, \"#7201a8\"], [0.3333333333333333, \"#9c179e\"], [0.4444444444444444, \"#bd3786\"], [0.5555555555555556, \"#d8576b\"], [0.6666666666666666, \"#ed7953\"], [0.7777777777777778, \"#fb9f3a\"], [0.8888888888888888, \"#fdca26\"], [1.0, \"#f0f921\"]], \"type\": \"heatmap\"}], \"heatmapgl\": [{\"colorbar\": {\"outlinewidth\": 0, \"ticks\": \"\"}, \"colorscale\": [[0.0, \"#0d0887\"], [0.1111111111111111, \"#46039f\"], [0.2222222222222222, \"#7201a8\"], [0.3333333333333333, \"#9c179e\"], [0.4444444444444444, \"#bd3786\"], [0.5555555555555556, \"#d8576b\"], [0.6666666666666666, \"#ed7953\"], [0.7777777777777778, \"#fb9f3a\"], [0.8888888888888888, \"#fdca26\"], [1.0, \"#f0f921\"]], \"type\": \"heatmapgl\"}], \"histogram\": [{\"marker\": {\"colorbar\": {\"outlinewidth\": 0, \"ticks\": \"\"}}, \"type\": \"histogram\"}], \"histogram2d\": [{\"colorbar\": {\"outlinewidth\": 0, \"ticks\": \"\"}, \"colorscale\": [[0.0, \"#0d0887\"], [0.1111111111111111, \"#46039f\"], [0.2222222222222222, \"#7201a8\"], [0.3333333333333333, \"#9c179e\"], [0.4444444444444444, \"#bd3786\"], [0.5555555555555556, \"#d8576b\"], [0.6666666666666666, \"#ed7953\"], [0.7777777777777778, \"#fb9f3a\"], [0.8888888888888888, \"#fdca26\"], [1.0, \"#f0f921\"]], \"type\": \"histogram2d\"}], \"histogram2dcontour\": [{\"colorbar\": {\"outlinewidth\": 0, \"ticks\": \"\"}, \"colorscale\": [[0.0, \"#0d0887\"], [0.1111111111111111, \"#46039f\"], [0.2222222222222222, \"#7201a8\"], [0.3333333333333333, \"#9c179e\"], [0.4444444444444444, \"#bd3786\"], [0.5555555555555556, \"#d8576b\"], [0.6666666666666666, \"#ed7953\"], [0.7777777777777778, \"#fb9f3a\"], [0.8888888888888888, \"#fdca26\"], [1.0, \"#f0f921\"]], \"type\": \"histogram2dcontour\"}], \"mesh3d\": [{\"colorbar\": {\"outlinewidth\": 0, \"ticks\": \"\"}, \"type\": \"mesh3d\"}], \"parcoords\": [{\"line\": {\"colorbar\": {\"outlinewidth\": 0, \"ticks\": \"\"}}, \"type\": \"parcoords\"}], \"pie\": [{\"automargin\": true, \"type\": \"pie\"}], \"scatter\": [{\"marker\": {\"colorbar\": {\"outlinewidth\": 0, \"ticks\": \"\"}}, \"type\": \"scatter\"}], \"scatter3d\": [{\"line\": {\"colorbar\": {\"outlinewidth\": 0, \"ticks\": \"\"}}, \"marker\": {\"colorbar\": {\"outlinewidth\": 0, \"ticks\": \"\"}}, \"type\": \"scatter3d\"}], \"scattercarpet\": [{\"marker\": {\"colorbar\": {\"outlinewidth\": 0, \"ticks\": \"\"}}, \"type\": \"scattercarpet\"}], \"scattergeo\": [{\"marker\": {\"colorbar\": {\"outlinewidth\": 0, \"ticks\": \"\"}}, \"type\": \"scattergeo\"}], \"scattergl\": [{\"marker\": {\"colorbar\": {\"outlinewidth\": 0, \"ticks\": \"\"}}, \"type\": \"scattergl\"}], \"scattermapbox\": [{\"marker\": {\"colorbar\": {\"outlinewidth\": 0, \"ticks\": \"\"}}, \"type\": \"scattermapbox\"}], \"scatterpolar\": [{\"marker\": {\"colorbar\": {\"outlinewidth\": 0, \"ticks\": \"\"}}, \"type\": \"scatterpolar\"}], \"scatterpolargl\": [{\"marker\": {\"colorbar\": {\"outlinewidth\": 0, \"ticks\": \"\"}}, \"type\": \"scatterpolargl\"}], \"scatterternary\": [{\"marker\": {\"colorbar\": {\"outlinewidth\": 0, \"ticks\": \"\"}}, \"type\": \"scatterternary\"}], \"surface\": [{\"colorbar\": {\"outlinewidth\": 0, \"ticks\": \"\"}, \"colorscale\": [[0.0, \"#0d0887\"], [0.1111111111111111, \"#46039f\"], [0.2222222222222222, \"#7201a8\"], [0.3333333333333333, \"#9c179e\"], [0.4444444444444444, \"#bd3786\"], [0.5555555555555556, \"#d8576b\"], [0.6666666666666666, \"#ed7953\"], [0.7777777777777778, \"#fb9f3a\"], [0.8888888888888888, \"#fdca26\"], [1.0, \"#f0f921\"]], \"type\": \"surface\"}], \"table\": [{\"cells\": {\"fill\": {\"color\": \"#EBF0F8\"}, \"line\": {\"color\": \"white\"}}, \"header\": {\"fill\": {\"color\": \"#C8D4E3\"}, \"line\": {\"color\": \"white\"}}, \"type\": \"table\"}]}, \"layout\": {\"annotationdefaults\": {\"arrowcolor\": \"#2a3f5f\", \"arrowhead\": 0, \"arrowwidth\": 1}, \"coloraxis\": {\"colorbar\": {\"outlinewidth\": 0, \"ticks\": \"\"}}, \"colorscale\": {\"diverging\": [[0, \"#8e0152\"], [0.1, \"#c51b7d\"], [0.2, \"#de77ae\"], [0.3, \"#f1b6da\"], [0.4, \"#fde0ef\"], [0.5, \"#f7f7f7\"], [0.6, \"#e6f5d0\"], [0.7, \"#b8e186\"], [0.8, \"#7fbc41\"], [0.9, \"#4d9221\"], [1, \"#276419\"]], \"sequential\": [[0.0, \"#0d0887\"], [0.1111111111111111, \"#46039f\"], [0.2222222222222222, \"#7201a8\"], [0.3333333333333333, \"#9c179e\"], [0.4444444444444444, \"#bd3786\"], [0.5555555555555556, \"#d8576b\"], [0.6666666666666666, \"#ed7953\"], [0.7777777777777778, \"#fb9f3a\"], [0.8888888888888888, \"#fdca26\"], [1.0, \"#f0f921\"]], \"sequentialminus\": [[0.0, \"#0d0887\"], [0.1111111111111111, \"#46039f\"], [0.2222222222222222, \"#7201a8\"], [0.3333333333333333, \"#9c179e\"], [0.4444444444444444, \"#bd3786\"], [0.5555555555555556, \"#d8576b\"], [0.6666666666666666, \"#ed7953\"], [0.7777777777777778, \"#fb9f3a\"], [0.8888888888888888, \"#fdca26\"], [1.0, \"#f0f921\"]]}, \"colorway\": [\"#636efa\", \"#EF553B\", \"#00cc96\", \"#ab63fa\", \"#FFA15A\", \"#19d3f3\", \"#FF6692\", \"#B6E880\", \"#FF97FF\", \"#FECB52\"], \"font\": {\"color\": \"#2a3f5f\"}, \"geo\": {\"bgcolor\": \"white\", \"lakecolor\": \"white\", \"landcolor\": \"#E5ECF6\", \"showlakes\": true, \"showland\": true, \"subunitcolor\": \"white\"}, \"hoverlabel\": {\"align\": \"left\"}, \"hovermode\": \"closest\", \"mapbox\": {\"style\": \"light\"}, \"paper_bgcolor\": \"white\", \"plot_bgcolor\": \"#E5ECF6\", \"polar\": {\"angularaxis\": {\"gridcolor\": \"white\", \"linecolor\": \"white\", \"ticks\": \"\"}, \"bgcolor\": \"#E5ECF6\", \"radialaxis\": {\"gridcolor\": \"white\", \"linecolor\": \"white\", \"ticks\": \"\"}}, \"scene\": {\"xaxis\": {\"backgroundcolor\": \"#E5ECF6\", \"gridcolor\": \"white\", \"gridwidth\": 2, \"linecolor\": \"white\", \"showbackground\": true, \"ticks\": \"\", \"zerolinecolor\": \"white\"}, \"yaxis\": {\"backgroundcolor\": \"#E5ECF6\", \"gridcolor\": \"white\", \"gridwidth\": 2, \"linecolor\": \"white\", \"showbackground\": true, \"ticks\": \"\", \"zerolinecolor\": \"white\"}, \"zaxis\": {\"backgroundcolor\": \"#E5ECF6\", \"gridcolor\": \"white\", \"gridwidth\": 2, \"linecolor\": \"white\", \"showbackground\": true, \"ticks\": \"\", \"zerolinecolor\": \"white\"}}, \"shapedefaults\": {\"line\": {\"color\": \"#2a3f5f\"}}, \"ternary\": {\"aaxis\": {\"gridcolor\": \"white\", \"linecolor\": \"white\", \"ticks\": \"\"}, \"baxis\": {\"gridcolor\": \"white\", \"linecolor\": \"white\", \"ticks\": \"\"}, \"bgcolor\": \"#E5ECF6\", \"caxis\": {\"gridcolor\": \"white\", \"linecolor\": \"white\", \"ticks\": \"\"}}, \"title\": {\"x\": 0.05}, \"xaxis\": {\"automargin\": true, \"gridcolor\": \"white\", \"linecolor\": \"white\", \"ticks\": \"\", \"title\": {\"standoff\": 15}, \"zerolinecolor\": \"white\", \"zerolinewidth\": 2}, \"yaxis\": {\"automargin\": true, \"gridcolor\": \"white\", \"linecolor\": \"white\", \"ticks\": \"\", \"title\": {\"standoff\": 15}, \"zerolinecolor\": \"white\", \"zerolinewidth\": 2}}}, \"width\": 800, \"xaxis\": {\"anchor\": \"y\", \"domain\": [0.0, 1.0], \"title\": {\"text\": \"nonzero_records\"}}, \"yaxis\": {\"anchor\": \"x\", \"domain\": [0.0, 1.0], \"title\": {\"text\": \"column\"}}},\n",
       "                        {\"responsive\": true}\n",
       "                    ).then(function(){\n",
       "                            \n",
       "var gd = document.getElementById('f774fd71-a523-4d3f-a42b-e3f34a00dc5c');\n",
       "var x = new MutationObserver(function (mutations, observer) {{\n",
       "        var display = window.getComputedStyle(gd).display;\n",
       "        if (!display || display === 'none') {{\n",
       "            console.log([gd, 'removed!']);\n",
       "            Plotly.purge(gd);\n",
       "            observer.disconnect();\n",
       "        }}\n",
       "}});\n",
       "\n",
       "// Listen for the removal of the full notebook cells\n",
       "var notebookContainer = gd.closest('#notebook-container');\n",
       "if (notebookContainer) {{\n",
       "    x.observe(notebookContainer, {childList: true});\n",
       "}}\n",
       "\n",
       "// Listen for the clearing of the current output cell\n",
       "var outputEl = gd.closest('.output');\n",
       "if (outputEl) {{\n",
       "    x.observe(outputEl, {childList: true});\n",
       "}}\n",
       "\n",
       "                        })\n",
       "                };\n",
       "                });\n",
       "            </script>\n",
       "        </div>"
      ]
     },
     "metadata": {},
     "output_type": "display_data"
    }
   ],
   "source": [
    "x = y_train_fold.sum(axis=0).sort_values().reset_index()\n",
    "x.columns = ['column', 'nonzero_records']\n",
    "\n",
    "import plotly.express as px\n",
    "import plotly\n",
    "fig = px.bar(\n",
    "    x[:], \n",
    "    x='nonzero_records', \n",
    "    y='column', \n",
    "    orientation='h', \n",
    "    title='', \n",
    "    height=1000, \n",
    "    width=800\n",
    ")\n",
    "df_scr_target = x\n",
    "# fig.show()\n",
    "plotly.offline.iplot(fig, filename='top_50.png')"
   ]
  },
  {
   "cell_type": "code",
   "execution_count": 30,
   "metadata": {},
   "outputs": [
    {
     "data": {
      "image/png": "[encoded data removed]",
      "text/plain": [
       "<Figure size 720x288 with 2 Axes>"
      ]
     },
     "metadata": {
      "needs_background": "light"
     },
     "output_type": "display_data"
    }
   ],
   "source": [
    "import matplotlib.pyplot as plt\n",
    "\n",
    "def hist(data, bins, title, labels, range = None):\n",
    "    fig = plt.figure(figsize=(10, 4))\n",
    "    ax = plt.axes()\n",
    "    plt.ylabel(\"Proportion\")\n",
    "    values, base, _ = plt.hist(data, bins = bins, alpha = 0.5, color = \"green\", range = range, \n",
    "                               label = \"Histogram\")\n",
    "    ax_bis = ax.twinx()\n",
    "    values = np.append(values,0)\n",
    "    ax_bis.plot( base, np.cumsum(values)/ np.cumsum(values)[-1], color='darkorange', marker='o', linestyle='-',\n",
    "                markersize = 1, label = \"Cumulative Histogram\" )\n",
    "    plt.xlabel(labels)\n",
    "    plt.ylabel(\"Proportion\")\n",
    "    plt.title(title)\n",
    "    ax_bis.legend();\n",
    "    ax.legend();\n",
    "    plt.show()\n",
    "    return\n",
    "\n",
    "features = y_train_fold.columns.values[1:]\n",
    "data = y_train_fold[features].sum(axis=1)\n",
    "hist(data, 30, 'Cumulative plot of Total Target Score Counts', 'label')"
   ]
  },
  {
   "cell_type": "code",
   "execution_count": 4,
   "metadata": {},
   "outputs": [
    {
     "name": "stdout",
     "output_type": "stream",
     "text": [
      "   cp_time     g-0     g-1     g-2     g-3     g-4     g-5     g-6     g-7  \\\n",
      "0       24  1.0620  0.5577 -0.2479 -0.6208 -0.1944 -1.0120 -1.0220 -0.0326   \n",
      "1       72  0.0743  0.4087  0.2991  0.0604  1.0190  0.5207  0.2341  0.3372   \n",
      "2       48  0.6280  0.5817  1.5540 -0.0764 -0.0323  1.2390  0.1715  0.2155   \n",
      "3       48 -0.5138 -0.2491 -0.2656  0.5288  4.0620 -0.8095 -1.9590  0.1792   \n",
      "4       72 -0.3254 -0.4009  0.9700  0.6919  1.4180 -0.8244 -0.2800 -0.1498   \n",
      "\n",
      "      g-8  ...    c-94    c-95    c-96    c-97    c-98    c-99  \\\n",
      "0  0.5548  ... -0.1912  0.6584 -0.3981  0.2139  0.3801  0.4176   \n",
      "1 -0.4047  ...  0.2957  0.4899  0.1522  0.1241  0.6077  0.7371   \n",
      "2  0.0065  ... -1.3240 -0.3174 -0.6417 -0.2187 -1.4080  0.6931   \n",
      "3 -0.1321  ... -0.8632 -1.2880 -1.6210 -0.8784 -0.3876 -0.8154   \n",
      "4 -0.8789  ...  0.5523 -0.3031  0.1094  0.2885 -0.3786  0.7125   \n",
      "\n",
      "   cp_type_ctl_vehicle  cp_type_trt_cp  cp_dose_D1  cp_dose_D2  \n",
      "0                    0               1           1           0  \n",
      "1                    0               1           1           0  \n",
      "2                    0               1           1           0  \n",
      "3                    0               1           1           0  \n",
      "4                    0               1           0           1  \n",
      "\n",
      "[5 rows x 877 columns]\n"
     ]
    }
   ],
   "source": [
    "train_features = pd.read_csv('data/train_features.csv')\n",
    "train_target = pd.read_csv('data/train_targets_scored.csv')\n",
    "train_features = pd.concat((train_features, pd.get_dummies(train_features[['cp_type', 'cp_dose']])), axis=1)\n",
    "train_features = train_features.drop('cp_type', axis=1)\n",
    "train_features = train_features.drop('cp_dose', axis=1)\n",
    "X = train_features.drop('sig_id', axis=1)\n",
    "y = train_target.drop('sig_id', axis=1)\n",
    "#X = X.drop('cp_time', axis=1)\n",
    "print(X.head())\n",
    "#X, y = create_dataset()  # Creating a Dataframe\n",
    "X_sub, y_sub = get_minority_samples(X, y)  # Getting minority samples of that datframe\n",
    "X_res, y_res = MLSMOTE(X_sub, y_sub, 13814, 5)  # Applying MLSMOTE to augment the dataframe"
   ]
  },
  {
   "cell_type": "code",
   "execution_count": 5,
   "metadata": {},
   "outputs": [
    {
     "data": {
      "text/html": [
       "<div>\n",
       "<style scoped>\n",
       "    .dataframe tbody tr th:only-of-type {\n",
       "        vertical-align: middle;\n",
       "    }\n",
       "\n",
       "    .dataframe tbody tr th {\n",
       "        vertical-align: top;\n",
       "    }\n",
       "\n",
       "    .dataframe thead th {\n",
       "        text-align: right;\n",
       "    }\n",
       "</style>\n",
       "<table border=\"1\" class=\"dataframe\">\n",
       "  <thead>\n",
       "    <tr style=\"text-align: right;\">\n",
       "      <th></th>\n",
       "      <th>5-alpha_reductase_inhibitor</th>\n",
       "      <th>11-beta-hsd1_inhibitor</th>\n",
       "      <th>acat_inhibitor</th>\n",
       "      <th>acetylcholine_receptor_agonist</th>\n",
       "      <th>acetylcholine_receptor_antagonist</th>\n",
       "      <th>acetylcholinesterase_inhibitor</th>\n",
       "      <th>adenosine_receptor_agonist</th>\n",
       "      <th>adenosine_receptor_antagonist</th>\n",
       "      <th>adenylyl_cyclase_activator</th>\n",
       "      <th>adrenergic_receptor_agonist</th>\n",
       "      <th>...</th>\n",
       "      <th>tropomyosin_receptor_kinase_inhibitor</th>\n",
       "      <th>trpv_agonist</th>\n",
       "      <th>trpv_antagonist</th>\n",
       "      <th>tubulin_inhibitor</th>\n",
       "      <th>tyrosine_kinase_inhibitor</th>\n",
       "      <th>ubiquitin_specific_protease_inhibitor</th>\n",
       "      <th>vegfr_inhibitor</th>\n",
       "      <th>vitamin_b</th>\n",
       "      <th>vitamin_d_receptor_agonist</th>\n",
       "      <th>wnt_inhibitor</th>\n",
       "    </tr>\n",
       "  </thead>\n",
       "  <tbody>\n",
       "    <tr>\n",
       "      <th>0</th>\n",
       "      <td>0.0</td>\n",
       "      <td>0.0</td>\n",
       "      <td>0.0</td>\n",
       "      <td>0.0</td>\n",
       "      <td>0.0</td>\n",
       "      <td>0.0</td>\n",
       "      <td>0.0</td>\n",
       "      <td>0.0</td>\n",
       "      <td>0.0</td>\n",
       "      <td>0.0</td>\n",
       "      <td>...</td>\n",
       "      <td>0.0</td>\n",
       "      <td>0.0</td>\n",
       "      <td>0.0</td>\n",
       "      <td>0.0</td>\n",
       "      <td>0.0</td>\n",
       "      <td>0.0</td>\n",
       "      <td>0.0</td>\n",
       "      <td>0.0</td>\n",
       "      <td>0.0</td>\n",
       "      <td>0.0</td>\n",
       "    </tr>\n",
       "    <tr>\n",
       "      <th>1</th>\n",
       "      <td>0.0</td>\n",
       "      <td>1.0</td>\n",
       "      <td>0.0</td>\n",
       "      <td>0.0</td>\n",
       "      <td>0.0</td>\n",
       "      <td>1.0</td>\n",
       "      <td>0.0</td>\n",
       "      <td>0.0</td>\n",
       "      <td>0.0</td>\n",
       "      <td>0.0</td>\n",
       "      <td>...</td>\n",
       "      <td>0.0</td>\n",
       "      <td>0.0</td>\n",
       "      <td>0.0</td>\n",
       "      <td>0.0</td>\n",
       "      <td>0.0</td>\n",
       "      <td>0.0</td>\n",
       "      <td>0.0</td>\n",
       "      <td>0.0</td>\n",
       "      <td>0.0</td>\n",
       "      <td>0.0</td>\n",
       "    </tr>\n",
       "    <tr>\n",
       "      <th>2</th>\n",
       "      <td>0.0</td>\n",
       "      <td>0.0</td>\n",
       "      <td>0.0</td>\n",
       "      <td>0.0</td>\n",
       "      <td>0.0</td>\n",
       "      <td>0.0</td>\n",
       "      <td>0.0</td>\n",
       "      <td>0.0</td>\n",
       "      <td>0.0</td>\n",
       "      <td>0.0</td>\n",
       "      <td>...</td>\n",
       "      <td>0.0</td>\n",
       "      <td>0.0</td>\n",
       "      <td>0.0</td>\n",
       "      <td>0.0</td>\n",
       "      <td>0.0</td>\n",
       "      <td>0.0</td>\n",
       "      <td>0.0</td>\n",
       "      <td>0.0</td>\n",
       "      <td>1.0</td>\n",
       "      <td>0.0</td>\n",
       "    </tr>\n",
       "    <tr>\n",
       "      <th>3</th>\n",
       "      <td>0.0</td>\n",
       "      <td>0.0</td>\n",
       "      <td>0.0</td>\n",
       "      <td>0.0</td>\n",
       "      <td>0.0</td>\n",
       "      <td>0.0</td>\n",
       "      <td>0.0</td>\n",
       "      <td>0.0</td>\n",
       "      <td>0.0</td>\n",
       "      <td>0.0</td>\n",
       "      <td>...</td>\n",
       "      <td>0.0</td>\n",
       "      <td>0.0</td>\n",
       "      <td>0.0</td>\n",
       "      <td>0.0</td>\n",
       "      <td>0.0</td>\n",
       "      <td>0.0</td>\n",
       "      <td>0.0</td>\n",
       "      <td>0.0</td>\n",
       "      <td>0.0</td>\n",
       "      <td>1.0</td>\n",
       "    </tr>\n",
       "    <tr>\n",
       "      <th>4</th>\n",
       "      <td>0.0</td>\n",
       "      <td>0.0</td>\n",
       "      <td>0.0</td>\n",
       "      <td>0.0</td>\n",
       "      <td>0.0</td>\n",
       "      <td>0.0</td>\n",
       "      <td>0.0</td>\n",
       "      <td>0.0</td>\n",
       "      <td>1.0</td>\n",
       "      <td>0.0</td>\n",
       "      <td>...</td>\n",
       "      <td>0.0</td>\n",
       "      <td>0.0</td>\n",
       "      <td>0.0</td>\n",
       "      <td>0.0</td>\n",
       "      <td>0.0</td>\n",
       "      <td>0.0</td>\n",
       "      <td>0.0</td>\n",
       "      <td>1.0</td>\n",
       "      <td>0.0</td>\n",
       "      <td>0.0</td>\n",
       "    </tr>\n",
       "  </tbody>\n",
       "</table>\n",
       "<p>5 rows × 206 columns</p>\n",
       "</div>"
      ],
      "text/plain": [
       "   5-alpha_reductase_inhibitor  11-beta-hsd1_inhibitor  acat_inhibitor  \\\n",
       "0                          0.0                     0.0             0.0   \n",
       "1                          0.0                     1.0             0.0   \n",
       "2                          0.0                     0.0             0.0   \n",
       "3                          0.0                     0.0             0.0   \n",
       "4                          0.0                     0.0             0.0   \n",
       "\n",
       "   acetylcholine_receptor_agonist  acetylcholine_receptor_antagonist  \\\n",
       "0                             0.0                                0.0   \n",
       "1                             0.0                                0.0   \n",
       "2                             0.0                                0.0   \n",
       "3                             0.0                                0.0   \n",
       "4                             0.0                                0.0   \n",
       "\n",
       "   acetylcholinesterase_inhibitor  adenosine_receptor_agonist  \\\n",
       "0                             0.0                         0.0   \n",
       "1                             1.0                         0.0   \n",
       "2                             0.0                         0.0   \n",
       "3                             0.0                         0.0   \n",
       "4                             0.0                         0.0   \n",
       "\n",
       "   adenosine_receptor_antagonist  adenylyl_cyclase_activator  \\\n",
       "0                            0.0                         0.0   \n",
       "1                            0.0                         0.0   \n",
       "2                            0.0                         0.0   \n",
       "3                            0.0                         0.0   \n",
       "4                            0.0                         1.0   \n",
       "\n",
       "   adrenergic_receptor_agonist  ...  tropomyosin_receptor_kinase_inhibitor  \\\n",
       "0                          0.0  ...                                    0.0   \n",
       "1                          0.0  ...                                    0.0   \n",
       "2                          0.0  ...                                    0.0   \n",
       "3                          0.0  ...                                    0.0   \n",
       "4                          0.0  ...                                    0.0   \n",
       "\n",
       "   trpv_agonist  trpv_antagonist  tubulin_inhibitor  \\\n",
       "0           0.0              0.0                0.0   \n",
       "1           0.0              0.0                0.0   \n",
       "2           0.0              0.0                0.0   \n",
       "3           0.0              0.0                0.0   \n",
       "4           0.0              0.0                0.0   \n",
       "\n",
       "   tyrosine_kinase_inhibitor  ubiquitin_specific_protease_inhibitor  \\\n",
       "0                        0.0                                    0.0   \n",
       "1                        0.0                                    0.0   \n",
       "2                        0.0                                    0.0   \n",
       "3                        0.0                                    0.0   \n",
       "4                        0.0                                    0.0   \n",
       "\n",
       "   vegfr_inhibitor  vitamin_b  vitamin_d_receptor_agonist  wnt_inhibitor  \n",
       "0              0.0        0.0                         0.0            0.0  \n",
       "1              0.0        0.0                         0.0            0.0  \n",
       "2              0.0        0.0                         1.0            0.0  \n",
       "3              0.0        0.0                         0.0            1.0  \n",
       "4              0.0        1.0                         0.0            0.0  \n",
       "\n",
       "[5 rows x 206 columns]"
      ]
     },
     "execution_count": 5,
     "metadata": {},
     "output_type": "execute_result"
    }
   ],
   "source": [
    "y_res.head()"
   ]
  },
  {
   "cell_type": "code",
   "execution_count": 6,
   "metadata": {},
   "outputs": [
    {
     "data": {
      "text/html": [
       "<div>\n",
       "<style scoped>\n",
       "    .dataframe tbody tr th:only-of-type {\n",
       "        vertical-align: middle;\n",
       "    }\n",
       "\n",
       "    .dataframe tbody tr th {\n",
       "        vertical-align: top;\n",
       "    }\n",
       "\n",
       "    .dataframe thead th {\n",
       "        text-align: right;\n",
       "    }\n",
       "</style>\n",
       "<table border=\"1\" class=\"dataframe\">\n",
       "  <thead>\n",
       "    <tr style=\"text-align: right;\">\n",
       "      <th></th>\n",
       "      <th>cp_time</th>\n",
       "      <th>g-0</th>\n",
       "      <th>g-1</th>\n",
       "      <th>g-2</th>\n",
       "      <th>g-3</th>\n",
       "      <th>g-4</th>\n",
       "      <th>g-5</th>\n",
       "      <th>g-6</th>\n",
       "      <th>g-7</th>\n",
       "      <th>g-8</th>\n",
       "      <th>...</th>\n",
       "      <th>c-94</th>\n",
       "      <th>c-95</th>\n",
       "      <th>c-96</th>\n",
       "      <th>c-97</th>\n",
       "      <th>c-98</th>\n",
       "      <th>c-99</th>\n",
       "      <th>cp_type_ctl_vehicle</th>\n",
       "      <th>cp_type_trt_cp</th>\n",
       "      <th>cp_dose_D1</th>\n",
       "      <th>cp_dose_D2</th>\n",
       "    </tr>\n",
       "  </thead>\n",
       "  <tbody>\n",
       "    <tr>\n",
       "      <th>0</th>\n",
       "      <td>48.0</td>\n",
       "      <td>-0.427355</td>\n",
       "      <td>-1.740022</td>\n",
       "      <td>-0.909689</td>\n",
       "      <td>0.844154</td>\n",
       "      <td>-1.057840</td>\n",
       "      <td>-1.660298</td>\n",
       "      <td>-2.039536</td>\n",
       "      <td>-1.044221</td>\n",
       "      <td>0.976831</td>\n",
       "      <td>...</td>\n",
       "      <td>-0.332407</td>\n",
       "      <td>-0.357842</td>\n",
       "      <td>0.554371</td>\n",
       "      <td>0.678160</td>\n",
       "      <td>0.931498</td>\n",
       "      <td>-1.258546</td>\n",
       "      <td>0.0</td>\n",
       "      <td>1.0</td>\n",
       "      <td>1.0</td>\n",
       "      <td>0.0</td>\n",
       "    </tr>\n",
       "    <tr>\n",
       "      <th>1</th>\n",
       "      <td>24.0</td>\n",
       "      <td>-0.480671</td>\n",
       "      <td>-1.379930</td>\n",
       "      <td>1.966963</td>\n",
       "      <td>0.294511</td>\n",
       "      <td>-0.911900</td>\n",
       "      <td>-1.426821</td>\n",
       "      <td>-0.039877</td>\n",
       "      <td>-0.388419</td>\n",
       "      <td>-1.234398</td>\n",
       "      <td>...</td>\n",
       "      <td>1.310362</td>\n",
       "      <td>1.026126</td>\n",
       "      <td>-0.007254</td>\n",
       "      <td>0.679646</td>\n",
       "      <td>1.152246</td>\n",
       "      <td>-0.675738</td>\n",
       "      <td>0.0</td>\n",
       "      <td>1.0</td>\n",
       "      <td>0.0</td>\n",
       "      <td>1.0</td>\n",
       "    </tr>\n",
       "    <tr>\n",
       "      <th>2</th>\n",
       "      <td>48.0</td>\n",
       "      <td>0.649178</td>\n",
       "      <td>-0.004089</td>\n",
       "      <td>1.077053</td>\n",
       "      <td>-1.407253</td>\n",
       "      <td>0.896342</td>\n",
       "      <td>-2.166080</td>\n",
       "      <td>2.620874</td>\n",
       "      <td>-0.380833</td>\n",
       "      <td>3.228314</td>\n",
       "      <td>...</td>\n",
       "      <td>-0.107723</td>\n",
       "      <td>-0.892554</td>\n",
       "      <td>0.436533</td>\n",
       "      <td>0.892713</td>\n",
       "      <td>0.110578</td>\n",
       "      <td>-0.690416</td>\n",
       "      <td>0.0</td>\n",
       "      <td>1.0</td>\n",
       "      <td>0.0</td>\n",
       "      <td>1.0</td>\n",
       "    </tr>\n",
       "    <tr>\n",
       "      <th>3</th>\n",
       "      <td>24.0</td>\n",
       "      <td>1.460298</td>\n",
       "      <td>-0.272887</td>\n",
       "      <td>1.095552</td>\n",
       "      <td>-5.056620</td>\n",
       "      <td>-0.515946</td>\n",
       "      <td>-1.587886</td>\n",
       "      <td>4.124922</td>\n",
       "      <td>0.054473</td>\n",
       "      <td>2.395300</td>\n",
       "      <td>...</td>\n",
       "      <td>-1.333891</td>\n",
       "      <td>-2.782389</td>\n",
       "      <td>-1.203081</td>\n",
       "      <td>-0.140034</td>\n",
       "      <td>-1.556177</td>\n",
       "      <td>-0.532991</td>\n",
       "      <td>0.0</td>\n",
       "      <td>1.0</td>\n",
       "      <td>0.0</td>\n",
       "      <td>1.0</td>\n",
       "    </tr>\n",
       "    <tr>\n",
       "      <th>4</th>\n",
       "      <td>24.0</td>\n",
       "      <td>-1.173705</td>\n",
       "      <td>1.058488</td>\n",
       "      <td>2.874453</td>\n",
       "      <td>2.244023</td>\n",
       "      <td>2.221511</td>\n",
       "      <td>-0.314731</td>\n",
       "      <td>0.436182</td>\n",
       "      <td>0.476150</td>\n",
       "      <td>-3.920565</td>\n",
       "      <td>...</td>\n",
       "      <td>1.301848</td>\n",
       "      <td>-0.674510</td>\n",
       "      <td>0.566476</td>\n",
       "      <td>-1.848730</td>\n",
       "      <td>-0.990500</td>\n",
       "      <td>0.846660</td>\n",
       "      <td>0.0</td>\n",
       "      <td>1.0</td>\n",
       "      <td>1.0</td>\n",
       "      <td>0.0</td>\n",
       "    </tr>\n",
       "  </tbody>\n",
       "</table>\n",
       "<p>5 rows × 877 columns</p>\n",
       "</div>"
      ],
      "text/plain": [
       "   cp_time       g-0       g-1       g-2       g-3       g-4       g-5  \\\n",
       "0     48.0 -0.427355 -1.740022 -0.909689  0.844154 -1.057840 -1.660298   \n",
       "1     24.0 -0.480671 -1.379930  1.966963  0.294511 -0.911900 -1.426821   \n",
       "2     48.0  0.649178 -0.004089  1.077053 -1.407253  0.896342 -2.166080   \n",
       "3     24.0  1.460298 -0.272887  1.095552 -5.056620 -0.515946 -1.587886   \n",
       "4     24.0 -1.173705  1.058488  2.874453  2.244023  2.221511 -0.314731   \n",
       "\n",
       "        g-6       g-7       g-8  ...      c-94      c-95      c-96      c-97  \\\n",
       "0 -2.039536 -1.044221  0.976831  ... -0.332407 -0.357842  0.554371  0.678160   \n",
       "1 -0.039877 -0.388419 -1.234398  ...  1.310362  1.026126 -0.007254  0.679646   \n",
       "2  2.620874 -0.380833  3.228314  ... -0.107723 -0.892554  0.436533  0.892713   \n",
       "3  4.124922  0.054473  2.395300  ... -1.333891 -2.782389 -1.203081 -0.140034   \n",
       "4  0.436182  0.476150 -3.920565  ...  1.301848 -0.674510  0.566476 -1.848730   \n",
       "\n",
       "       c-98      c-99  cp_type_ctl_vehicle  cp_type_trt_cp  cp_dose_D1  \\\n",
       "0  0.931498 -1.258546                  0.0             1.0         1.0   \n",
       "1  1.152246 -0.675738                  0.0             1.0         0.0   \n",
       "2  0.110578 -0.690416                  0.0             1.0         0.0   \n",
       "3 -1.556177 -0.532991                  0.0             1.0         0.0   \n",
       "4 -0.990500  0.846660                  0.0             1.0         1.0   \n",
       "\n",
       "   cp_dose_D2  \n",
       "0         0.0  \n",
       "1         1.0  \n",
       "2         1.0  \n",
       "3         1.0  \n",
       "4         0.0  \n",
       "\n",
       "[5 rows x 877 columns]"
      ]
     },
     "execution_count": 6,
     "metadata": {},
     "output_type": "execute_result"
    }
   ],
   "source": [
    "X_res.head()"
   ]
  },
  {
   "cell_type": "code",
   "execution_count": 7,
   "metadata": {},
   "outputs": [
    {
     "data": {
      "text/plain": [
       "((13814, 877), (13814, 206))"
      ]
     },
     "execution_count": 7,
     "metadata": {},
     "output_type": "execute_result"
    }
   ],
   "source": [
    "X_res.shape, y_res.shape"
   ]
  },
  {
   "cell_type": "code",
   "execution_count": 8,
   "metadata": {},
   "outputs": [
    {
     "data": {
      "text/plain": [
       "((23814, 878), (23814, 207))"
      ]
     },
     "execution_count": 8,
     "metadata": {},
     "output_type": "execute_result"
    }
   ],
   "source": [
    "x = train_features['sig_id']\n",
    "x = pd.concat((x, X_res), axis=1)\n",
    "df_train_label_scr = pd.concat((train_target['sig_id'], y_res), axis=1)\n",
    "x.shape, df_train_label_scr.shape"
   ]
  },
  {
   "cell_type": "code",
   "execution_count": 11,
   "metadata": {
    "scrolled": false
   },
   "outputs": [
    {
     "data": {
      "application/vnd.plotly.v1+json": {
       "config": {
        "linkText": "Export to plot.ly",
        "plotlyServerURL": "https://plot.ly",
        "showLink": false
       },
       "data": [
        {
         "alignmentgroup": "True",
         "hoverlabel": {
          "namelength": 0
         },
         "hovertemplate": "nonzero_records=%{x}<br>column=%{y}",
         "legendgroup": "",
         "marker": {
          "color": "#636efa"
         },
         "name": "",
         "offsetgroup": "",
         "orientation": "h",
         "showlegend": false,
         "textposition": "auto",
         "type": "bar",
         "x": [
          0,
          0,
          0,
          0,
          0,
          0,
          0,
          0,
          0,
          0,
          0,
          0,
          0,
          0,
          0,
          0,
          0,
          0,
          0,
          0,
          0,
          0,
          0,
          0,
          0,
          0,
          0,
          0,
          0,
          0,
          0,
          0,
          0,
          0,
          0,
          0,
          0,
          0,
          0,
          0,
          0,
          0,
          0,
          0,
          0,
          0,
          0,
          0,
          0,
          0,
          0,
          0,
          0,
          0,
          0,
          0,
          0,
          0,
          0,
          0,
          0,
          0,
          0,
          0,
          0,
          0,
          0,
          0,
          0,
          0,
          0,
          0,
          0,
          0,
          0,
          0,
          0,
          0,
          0,
          0,
          0,
          0,
          37,
          46,
          58,
          63,
          72,
          87,
          97,
          99,
          106,
          106,
          124,
          130,
          140,
          143,
          153,
          158,
          158,
          163,
          169,
          173,
          178,
          191,
          206,
          213,
          214,
          221,
          244,
          247,
          269,
          272,
          281,
          289,
          290,
          297,
          297,
          297,
          302,
          306,
          314,
          322,
          346,
          351,
          355,
          359,
          360,
          364,
          367,
          367,
          371,
          371,
          375,
          383,
          388,
          392,
          408,
          412,
          420,
          432,
          432,
          432,
          432,
          437,
          456,
          466,
          469,
          472,
          473,
          477,
          489,
          513,
          513,
          520,
          526,
          532,
          543,
          556,
          568,
          570,
          575,
          582,
          584,
          617,
          620,
          652,
          654,
          670,
          714,
          714,
          717,
          730,
          757,
          759,
          775,
          793,
          818,
          854,
          857,
          865,
          897,
          907,
          918,
          930,
          941,
          951,
          1024,
          1090,
          1095,
          1098,
          1110,
          1192,
          1223,
          1263,
          1328,
          1334,
          1370,
          1486,
          1543,
          1591,
          2079,
          2094,
          2164,
          2308,
          3033,
          3832
         ],
         "xaxis": "x",
         "y": [
          "hcv_inhibitor",
          "gaba_receptor_antagonist",
          "gaba_receptor_agonist",
          "protein_kinase_inhibitor",
          "protein_phosphatase_inhibitor",
          "fgfr_inhibitor",
          "protein_synthesis_inhibitor",
          "estrogen_receptor_antagonist",
          "erbb2_inhibitor",
          "elastase_inhibitor",
          "radiopaque_medium",
          "dopamine_receptor_agonist",
          "raf_inhibitor",
          "dna_alkylating_agent",
          "diuretic",
          "coagulation_factor_inhibitor",
          "cholinergic_receptor_antagonist",
          "cholesterol_inhibitor",
          "retinoid_receptor_antagonist",
          "chelating_agent",
          "cdk_inhibitor",
          "cc_chemokine_receptor_antagonist",
          "serotonin_receptor_agonist",
          "cannabinoid_receptor_antagonist",
          "gamma_secretase_inhibitor",
          "calcium_channel_blocker",
          "glutamate_receptor_agonist",
          "proteasome_inhibitor",
          "opioid_receptor_antagonist",
          "opioid_receptor_agonist",
          "parp_inhibitor",
          "nicotinic_receptor_agonist",
          "phosphodiesterase_inhibitor",
          "mucolytic_agent",
          "mtor_inhibitor",
          "monoamine_oxidase_inhibitor",
          "membrane_integrity_inhibitor",
          "mek_inhibitor",
          "lxr_agonist",
          "lipoxygenase_inhibitor",
          "leukotriene_receptor_antagonist",
          "leukotriene_inhibitor",
          "laxative",
          "insulin_sensitizer",
          "potassium_channel_antagonist",
          "hsp_inhibitor",
          "hmgcr_inhibitor",
          "prostanoid_receptor_antagonist",
          "histamine_receptor_antagonist",
          "histamine_receptor_agonist",
          "hdac_inhibitor",
          "gsk_inhibitor",
          "calcineurin_inhibitor",
          "retinoid_receptor_agonist",
          "bromodomain_inhibitor",
          "tropomyosin_receptor_kinase_inhibitor",
          "antiarrhythmic",
          "tachykinin_antagonist",
          "anti-inflammatory",
          "atm_kinase_inhibitor",
          "atp-sensitive_potassium_channel_antagonist",
          "anesthetic_-_local",
          "androgen_receptor_antagonist",
          "androgen_receptor_agonist",
          "autotaxin_inhibitor",
          "bacterial_30s_ribosomal_subunit_inhibitor",
          "bacterial_50s_ribosomal_subunit_inhibitor",
          "sodium_channel_inhibitor",
          "tubulin_inhibitor",
          "antioxidant",
          "adenosine_receptor_antagonist",
          "vegfr_inhibitor",
          "bacterial_cell_wall_synthesis_inhibitor",
          "ubiquitin_specific_protease_inhibitor",
          "bacterial_dna_gyrase_inhibitor",
          "bacterial_dna_inhibitor",
          "akt_inhibitor",
          "acetylcholine_receptor_agonist",
          "benzodiazepine_receptor_agonist",
          "acetylcholine_receptor_antagonist",
          "adenosine_receptor_agonist",
          "steroid",
          "trpv_antagonist",
          "pi3k_inhibitor",
          "cyclooxygenase_inhibitor",
          "aldehyde_dehydrogenase_inhibitor",
          "potassium_channel_activator",
          "tyrosine_kinase_inhibitor",
          "bacterial_membrane_integrity_inhibitor",
          "immunosuppressant",
          "aurora_kinase_inhibitor",
          "jak_inhibitor",
          "focal_adhesion_kinase_inhibitor",
          "adenylyl_cyclase_activator",
          "flt3_inhibitor",
          "p38_mapk_inhibitor",
          "nitric_oxide_production_inhibitor",
          "lipase_inhibitor",
          "pdgfr_inhibitor",
          "cytochrome_p450_inhibitor",
          "glucocorticoid_receptor_agonist",
          "monoacylglycerol_lipase_inhibitor",
          "syk_inhibitor",
          "kit_inhibitor",
          "adrenergic_receptor_agonist",
          "farnesyltransferase_inhibitor",
          "analgesic",
          "src_inhibitor",
          "atp_synthase_inhibitor",
          "catechol_o_methyltransferase_inhibitor",
          "corticosteroid_agonist",
          "mdm_inhibitor",
          "smoothened_receptor_antagonist",
          "egfr_inhibitor",
          "antihistamine",
          "estrogen_receptor_agonist",
          "progesterone_receptor_agonist",
          "mineralocorticoid_receptor_antagonist",
          "chk_inhibitor",
          "antifungal",
          "tgf-beta_receptor_inhibitor",
          "ras_gtpase_inhibitor",
          "antimalarial",
          "gonadotropin_receptor_agonist",
          "glutamate_receptor_antagonist",
          "anticonvulsant",
          "ampk_activator",
          "sphingosine_receptor_agonist",
          "trpv_agonist",
          "rna_polymerase_inhibitor",
          "tlr_antagonist",
          "atr_kinase_inhibitor",
          "pdk_inhibitor",
          "antiviral",
          "phospholipase_inhibitor",
          "ppar_receptor_agonist",
          "fatty_acid_receptor_agonist",
          "histone_lysine_demethylase_inhibitor",
          "p-glycoprotein_inhibitor",
          "adrenergic_receptor_antagonist",
          "norepinephrine_reuptake_inhibitor",
          "serotonin_receptor_antagonist",
          "glutamate_inhibitor",
          "cck_receptor_antagonist",
          "bcr-abl_inhibitor",
          "monopolar_spindle_1_kinase_inhibitor",
          "imidazoline_receptor_agonist",
          "wnt_inhibitor",
          "fungal_squalene_epoxidase_inhibitor",
          "vitamin_b",
          "protein_tyrosine_kinase_inhibitor",
          "topoisomerase_inhibitor",
          "hiv_inhibitor",
          "histone_lysine_methyltransferase_inhibitor",
          "faah_inhibitor",
          "acat_inhibitor",
          "bcl_inhibitor",
          "insulin_secretagogue",
          "igf-1_inhibitor",
          "acetylcholinesterase_inhibitor",
          "ribonucleoside_reductase_inhibitor",
          "nitric_oxide_synthase_inhibitor",
          "vitamin_d_receptor_agonist",
          "free_radical_scavenger",
          "caspase_activator",
          "progesterone_receptor_antagonist",
          "btk_inhibitor",
          "rho_associated_kinase_inhibitor",
          "11-beta-hsd1_inhibitor",
          "alk_inhibitor",
          "ikk_inhibitor",
          "casein_kinase_inhibitor",
          "apoptosis_stimulant",
          "transient_receptor_potential_channel_antagonist",
          "pkc_inhibitor",
          "thrombin_inhibitor",
          "atpase_inhibitor",
          "ppar_receptor_antagonist",
          "angiotensin_receptor_antagonist",
          "nrf2_activator",
          "neuropeptide_receptor_antagonist",
          "dipeptidyl_peptidase_inhibitor",
          "aromatase_inhibitor",
          "tnf_inhibitor",
          "carbonic_anhydrase_inhibitor",
          "dna_inhibitor",
          "integrin_inhibitor",
          "angiogenesis_inhibitor",
          "thymidylate_synthase_inhibitor",
          "dopamine_receptor_antagonist",
          "cannabinoid_receptor_agonist",
          "chloride_channel_blocker",
          "5-alpha_reductase_inhibitor",
          "sigma_receptor_antagonist",
          "antiprotozoal",
          "sigma_receptor_agonist",
          "nfkb_inhibitor",
          "prostaglandin_inhibitor",
          "antibiotic",
          "dihydrofolate_reductase_inhibitor",
          "tlr_agonist",
          "beta_amyloid_inhibitor",
          "serotonin_reuptake_inhibitor",
          "nitric_oxide_donor",
          "bacterial_antifolate",
          "orexin_receptor_antagonist"
         ],
         "yaxis": "y"
        }
       ],
       "layout": {
        "barmode": "relative",
        "height": 2000,
        "legend": {
         "tracegroupgap": 0
        },
        "template": {
         "data": {
          "bar": [
           {
            "error_x": {
             "color": "#2a3f5f"
            },
            "error_y": {
             "color": "#2a3f5f"
            },
            "marker": {
             "line": {
              "color": "#E5ECF6",
              "width": 0.5
             }
            },
            "type": "bar"
           }
          ],
          "barpolar": [
           {
            "marker": {
             "line": {
              "color": "#E5ECF6",
              "width": 0.5
             }
            },
            "type": "barpolar"
           }
          ],
          "carpet": [
           {
            "aaxis": {
             "endlinecolor": "#2a3f5f",
             "gridcolor": "white",
             "linecolor": "white",
             "minorgridcolor": "white",
             "startlinecolor": "#2a3f5f"
            },
            "baxis": {
             "endlinecolor": "#2a3f5f",
             "gridcolor": "white",
             "linecolor": "white",
             "minorgridcolor": "white",
             "startlinecolor": "#2a3f5f"
            },
            "type": "carpet"
           }
          ],
          "choropleth": [
           {
            "colorbar": {
             "outlinewidth": 0,
             "ticks": ""
            },
            "type": "choropleth"
           }
          ],
          "contour": [
           {
            "colorbar": {
             "outlinewidth": 0,
             "ticks": ""
            },
            "colorscale": [
             [
              0,
              "#0d0887"
             ],
             [
              0.1111111111111111,
              "#46039f"
             ],
             [
              0.2222222222222222,
              "#7201a8"
             ],
             [
              0.3333333333333333,
              "#9c179e"
             ],
             [
              0.4444444444444444,
              "#bd3786"
             ],
             [
              0.5555555555555556,
              "#d8576b"
             ],
             [
              0.6666666666666666,
              "#ed7953"
             ],
             [
              0.7777777777777778,
              "#fb9f3a"
             ],
             [
              0.8888888888888888,
              "#fdca26"
             ],
             [
              1,
              "#f0f921"
             ]
            ],
            "type": "contour"
           }
          ],
          "contourcarpet": [
           {
            "colorbar": {
             "outlinewidth": 0,
             "ticks": ""
            },
            "type": "contourcarpet"
           }
          ],
          "heatmap": [
           {
            "colorbar": {
             "outlinewidth": 0,
             "ticks": ""
            },
            "colorscale": [
             [
              0,
              "#0d0887"
             ],
             [
              0.1111111111111111,
              "#46039f"
             ],
             [
              0.2222222222222222,
              "#7201a8"
             ],
             [
              0.3333333333333333,
              "#9c179e"
             ],
             [
              0.4444444444444444,
              "#bd3786"
             ],
             [
              0.5555555555555556,
              "#d8576b"
             ],
             [
              0.6666666666666666,
              "#ed7953"
             ],
             [
              0.7777777777777778,
              "#fb9f3a"
             ],
             [
              0.8888888888888888,
              "#fdca26"
             ],
             [
              1,
              "#f0f921"
             ]
            ],
            "type": "heatmap"
           }
          ],
          "heatmapgl": [
           {
            "colorbar": {
             "outlinewidth": 0,
             "ticks": ""
            },
            "colorscale": [
             [
              0,
              "#0d0887"
             ],
             [
              0.1111111111111111,
              "#46039f"
             ],
             [
              0.2222222222222222,
              "#7201a8"
             ],
             [
              0.3333333333333333,
              "#9c179e"
             ],
             [
              0.4444444444444444,
              "#bd3786"
             ],
             [
              0.5555555555555556,
              "#d8576b"
             ],
             [
              0.6666666666666666,
              "#ed7953"
             ],
             [
              0.7777777777777778,
              "#fb9f3a"
             ],
             [
              0.8888888888888888,
              "#fdca26"
             ],
             [
              1,
              "#f0f921"
             ]
            ],
            "type": "heatmapgl"
           }
          ],
          "histogram": [
           {
            "marker": {
             "colorbar": {
              "outlinewidth": 0,
              "ticks": ""
             }
            },
            "type": "histogram"
           }
          ],
          "histogram2d": [
           {
            "colorbar": {
             "outlinewidth": 0,
             "ticks": ""
            },
            "colorscale": [
             [
              0,
              "#0d0887"
             ],
             [
              0.1111111111111111,
              "#46039f"
             ],
             [
              0.2222222222222222,
              "#7201a8"
             ],
             [
              0.3333333333333333,
              "#9c179e"
             ],
             [
              0.4444444444444444,
              "#bd3786"
             ],
             [
              0.5555555555555556,
              "#d8576b"
             ],
             [
              0.6666666666666666,
              "#ed7953"
             ],
             [
              0.7777777777777778,
              "#fb9f3a"
             ],
             [
              0.8888888888888888,
              "#fdca26"
             ],
             [
              1,
              "#f0f921"
             ]
            ],
            "type": "histogram2d"
           }
          ],
          "histogram2dcontour": [
           {
            "colorbar": {
             "outlinewidth": 0,
             "ticks": ""
            },
            "colorscale": [
             [
              0,
              "#0d0887"
             ],
             [
              0.1111111111111111,
              "#46039f"
             ],
             [
              0.2222222222222222,
              "#7201a8"
             ],
             [
              0.3333333333333333,
              "#9c179e"
             ],
             [
              0.4444444444444444,
              "#bd3786"
             ],
             [
              0.5555555555555556,
              "#d8576b"
             ],
             [
              0.6666666666666666,
              "#ed7953"
             ],
             [
              0.7777777777777778,
              "#fb9f3a"
             ],
             [
              0.8888888888888888,
              "#fdca26"
             ],
             [
              1,
              "#f0f921"
             ]
            ],
            "type": "histogram2dcontour"
           }
          ],
          "mesh3d": [
           {
            "colorbar": {
             "outlinewidth": 0,
             "ticks": ""
            },
            "type": "mesh3d"
           }
          ],
          "parcoords": [
           {
            "line": {
             "colorbar": {
              "outlinewidth": 0,
              "ticks": ""
             }
            },
            "type": "parcoords"
           }
          ],
          "pie": [
           {
            "automargin": true,
            "type": "pie"
           }
          ],
          "scatter": [
           {
            "marker": {
             "colorbar": {
              "outlinewidth": 0,
              "ticks": ""
             }
            },
            "type": "scatter"
           }
          ],
          "scatter3d": [
           {
            "line": {
             "colorbar": {
              "outlinewidth": 0,
              "ticks": ""
             }
            },
            "marker": {
             "colorbar": {
              "outlinewidth": 0,
              "ticks": ""
             }
            },
            "type": "scatter3d"
           }
          ],
          "scattercarpet": [
           {
            "marker": {
             "colorbar": {
              "outlinewidth": 0,
              "ticks": ""
             }
            },
            "type": "scattercarpet"
           }
          ],
          "scattergeo": [
           {
            "marker": {
             "colorbar": {
              "outlinewidth": 0,
              "ticks": ""
             }
            },
            "type": "scattergeo"
           }
          ],
          "scattergl": [
           {
            "marker": {
             "colorbar": {
              "outlinewidth": 0,
              "ticks": ""
             }
            },
            "type": "scattergl"
           }
          ],
          "scattermapbox": [
           {
            "marker": {
             "colorbar": {
              "outlinewidth": 0,
              "ticks": ""
             }
            },
            "type": "scattermapbox"
           }
          ],
          "scatterpolar": [
           {
            "marker": {
             "colorbar": {
              "outlinewidth": 0,
              "ticks": ""
             }
            },
            "type": "scatterpolar"
           }
          ],
          "scatterpolargl": [
           {
            "marker": {
             "colorbar": {
              "outlinewidth": 0,
              "ticks": ""
             }
            },
            "type": "scatterpolargl"
           }
          ],
          "scatterternary": [
           {
            "marker": {
             "colorbar": {
              "outlinewidth": 0,
              "ticks": ""
             }
            },
            "type": "scatterternary"
           }
          ],
          "surface": [
           {
            "colorbar": {
             "outlinewidth": 0,
             "ticks": ""
            },
            "colorscale": [
             [
              0,
              "#0d0887"
             ],
             [
              0.1111111111111111,
              "#46039f"
             ],
             [
              0.2222222222222222,
              "#7201a8"
             ],
             [
              0.3333333333333333,
              "#9c179e"
             ],
             [
              0.4444444444444444,
              "#bd3786"
             ],
             [
              0.5555555555555556,
              "#d8576b"
             ],
             [
              0.6666666666666666,
              "#ed7953"
             ],
             [
              0.7777777777777778,
              "#fb9f3a"
             ],
             [
              0.8888888888888888,
              "#fdca26"
             ],
             [
              1,
              "#f0f921"
             ]
            ],
            "type": "surface"
           }
          ],
          "table": [
           {
            "cells": {
             "fill": {
              "color": "#EBF0F8"
             },
             "line": {
              "color": "white"
             }
            },
            "header": {
             "fill": {
              "color": "#C8D4E3"
             },
             "line": {
              "color": "white"
             }
            },
            "type": "table"
           }
          ]
         },
         "layout": {
          "annotationdefaults": {
           "arrowcolor": "#2a3f5f",
           "arrowhead": 0,
           "arrowwidth": 1
          },
          "coloraxis": {
           "colorbar": {
            "outlinewidth": 0,
            "ticks": ""
           }
          },
          "colorscale": {
           "diverging": [
            [
             0,
             "#8e0152"
            ],
            [
             0.1,
             "#c51b7d"
            ],
            [
             0.2,
             "#de77ae"
            ],
            [
             0.3,
             "#f1b6da"
            ],
            [
             0.4,
             "#fde0ef"
            ],
            [
             0.5,
             "#f7f7f7"
            ],
            [
             0.6,
             "#e6f5d0"
            ],
            [
             0.7,
             "#b8e186"
            ],
            [
             0.8,
             "#7fbc41"
            ],
            [
             0.9,
             "#4d9221"
            ],
            [
             1,
             "#276419"
            ]
           ],
           "sequential": [
            [
             0,
             "#0d0887"
            ],
            [
             0.1111111111111111,
             "#46039f"
            ],
            [
             0.2222222222222222,
             "#7201a8"
            ],
            [
             0.3333333333333333,
             "#9c179e"
            ],
            [
             0.4444444444444444,
             "#bd3786"
            ],
            [
             0.5555555555555556,
             "#d8576b"
            ],
            [
             0.6666666666666666,
             "#ed7953"
            ],
            [
             0.7777777777777778,
             "#fb9f3a"
            ],
            [
             0.8888888888888888,
             "#fdca26"
            ],
            [
             1,
             "#f0f921"
            ]
           ],
           "sequentialminus": [
            [
             0,
             "#0d0887"
            ],
            [
             0.1111111111111111,
             "#46039f"
            ],
            [
             0.2222222222222222,
             "#7201a8"
            ],
            [
             0.3333333333333333,
             "#9c179e"
            ],
            [
             0.4444444444444444,
             "#bd3786"
            ],
            [
             0.5555555555555556,
             "#d8576b"
            ],
            [
             0.6666666666666666,
             "#ed7953"
            ],
            [
             0.7777777777777778,
             "#fb9f3a"
            ],
            [
             0.8888888888888888,
             "#fdca26"
            ],
            [
             1,
             "#f0f921"
            ]
           ]
          },
          "colorway": [
           "#636efa",
           "#EF553B",
           "#00cc96",
           "#ab63fa",
           "#FFA15A",
           "#19d3f3",
           "#FF6692",
           "#B6E880",
           "#FF97FF",
           "#FECB52"
          ],
          "font": {
           "color": "#2a3f5f"
          },
          "geo": {
           "bgcolor": "white",
           "lakecolor": "white",
           "landcolor": "#E5ECF6",
           "showlakes": true,
           "showland": true,
           "subunitcolor": "white"
          },
          "hoverlabel": {
           "align": "left"
          },
          "hovermode": "closest",
          "mapbox": {
           "style": "light"
          },
          "paper_bgcolor": "white",
          "plot_bgcolor": "#E5ECF6",
          "polar": {
           "angularaxis": {
            "gridcolor": "white",
            "linecolor": "white",
            "ticks": ""
           },
           "bgcolor": "#E5ECF6",
           "radialaxis": {
            "gridcolor": "white",
            "linecolor": "white",
            "ticks": ""
           }
          },
          "scene": {
           "xaxis": {
            "backgroundcolor": "#E5ECF6",
            "gridcolor": "white",
            "gridwidth": 2,
            "linecolor": "white",
            "showbackground": true,
            "ticks": "",
            "zerolinecolor": "white"
           },
           "yaxis": {
            "backgroundcolor": "#E5ECF6",
            "gridcolor": "white",
            "gridwidth": 2,
            "linecolor": "white",
            "showbackground": true,
            "ticks": "",
            "zerolinecolor": "white"
           },
           "zaxis": {
            "backgroundcolor": "#E5ECF6",
            "gridcolor": "white",
            "gridwidth": 2,
            "linecolor": "white",
            "showbackground": true,
            "ticks": "",
            "zerolinecolor": "white"
           }
          },
          "shapedefaults": {
           "line": {
            "color": "#2a3f5f"
           }
          },
          "ternary": {
           "aaxis": {
            "gridcolor": "white",
            "linecolor": "white",
            "ticks": ""
           },
           "baxis": {
            "gridcolor": "white",
            "linecolor": "white",
            "ticks": ""
           },
           "bgcolor": "#E5ECF6",
           "caxis": {
            "gridcolor": "white",
            "linecolor": "white",
            "ticks": ""
           }
          },
          "title": {
           "x": 0.05
          },
          "xaxis": {
           "automargin": true,
           "gridcolor": "white",
           "linecolor": "white",
           "ticks": "",
           "title": {
            "standoff": 15
           },
           "zerolinecolor": "white",
           "zerolinewidth": 2
          },
          "yaxis": {
           "automargin": true,
           "gridcolor": "white",
           "linecolor": "white",
           "ticks": "",
           "title": {
            "standoff": 15
           },
           "zerolinecolor": "white",
           "zerolinewidth": 2
          }
         }
        },
        "title": {
         "text": "Columns with the higher number of positive samples (top 50) in scored dataset"
        },
        "width": 800,
        "xaxis": {
         "anchor": "y",
         "domain": [
          0,
          1
         ],
         "title": {
          "text": "nonzero_records"
         }
        },
        "yaxis": {
         "anchor": "x",
         "domain": [
          0,
          1
         ],
         "title": {
          "text": "column"
         }
        }
       }
      },
      "text/html": [
       "<div>\n",
       "        \n",
       "        \n",
       "            <div id=\"399c6019-411a-443b-967d-19c17c91748b\" class=\"plotly-graph-div\" style=\"height:2000px; width:800px;\"></div>\n",
       "            <script type=\"text/javascript\">\n",
       "                require([\"plotly\"], function(Plotly) {\n",
       "                    window.PLOTLYENV=window.PLOTLYENV || {};\n",
       "                    \n",
       "                if (document.getElementById(\"399c6019-411a-443b-967d-19c17c91748b\")) {\n",
       "                    Plotly.newPlot(\n",
       "                        '399c6019-411a-443b-967d-19c17c91748b',\n",
       "                        [{\"alignmentgroup\": \"True\", \"hoverlabel\": {\"namelength\": 0}, \"hovertemplate\": \"nonzero_records=%{x}<br>column=%{y}\", \"legendgroup\": \"\", \"marker\": {\"color\": \"#636efa\"}, \"name\": \"\", \"offsetgroup\": \"\", \"orientation\": \"h\", \"showlegend\": false, \"textposition\": \"auto\", \"type\": \"bar\", \"x\": [0.0, 0.0, 0.0, 0.0, 0.0, 0.0, 0.0, 0.0, 0.0, 0.0, 0.0, 0.0, 0.0, 0.0, 0.0, 0.0, 0.0, 0.0, 0.0, 0.0, 0.0, 0.0, 0.0, 0.0, 0.0, 0.0, 0.0, 0.0, 0.0, 0.0, 0.0, 0.0, 0.0, 0.0, 0.0, 0.0, 0.0, 0.0, 0.0, 0.0, 0.0, 0.0, 0.0, 0.0, 0.0, 0.0, 0.0, 0.0, 0.0, 0.0, 0.0, 0.0, 0.0, 0.0, 0.0, 0.0, 0.0, 0.0, 0.0, 0.0, 0.0, 0.0, 0.0, 0.0, 0.0, 0.0, 0.0, 0.0, 0.0, 0.0, 0.0, 0.0, 0.0, 0.0, 0.0, 0.0, 0.0, 0.0, 0.0, 0.0, 0.0, 0.0, 37.0, 46.0, 58.0, 63.0, 72.0, 87.0, 97.0, 99.0, 106.0, 106.0, 124.0, 130.0, 140.0, 143.0, 153.0, 158.0, 158.0, 163.0, 169.0, 173.0, 178.0, 191.0, 206.0, 213.0, 214.0, 221.0, 244.0, 247.0, 269.0, 272.0, 281.0, 289.0, 290.0, 297.0, 297.0, 297.0, 302.0, 306.0, 314.0, 322.0, 346.0, 351.0, 355.0, 359.0, 360.0, 364.0, 367.0, 367.0, 371.0, 371.0, 375.0, 383.0, 388.0, 392.0, 408.0, 412.0, 420.0, 432.0, 432.0, 432.0, 432.0, 437.0, 456.0, 466.0, 469.0, 472.0, 473.0, 477.0, 489.0, 513.0, 513.0, 520.0, 526.0, 532.0, 543.0, 556.0, 568.0, 570.0, 575.0, 582.0, 584.0, 617.0, 620.0, 652.0, 654.0, 670.0, 714.0, 714.0, 717.0, 730.0, 757.0, 759.0, 775.0, 793.0, 818.0, 854.0, 857.0, 865.0, 897.0, 907.0, 918.0, 930.0, 941.0, 951.0, 1024.0, 1090.0, 1095.0, 1098.0, 1110.0, 1192.0, 1223.0, 1263.0, 1328.0, 1334.0, 1370.0, 1486.0, 1543.0, 1591.0, 2079.0, 2094.0, 2164.0, 2308.0, 3033.0, 3832.0], \"xaxis\": \"x\", \"y\": [\"hcv_inhibitor\", \"gaba_receptor_antagonist\", \"gaba_receptor_agonist\", \"protein_kinase_inhibitor\", \"protein_phosphatase_inhibitor\", \"fgfr_inhibitor\", \"protein_synthesis_inhibitor\", \"estrogen_receptor_antagonist\", \"erbb2_inhibitor\", \"elastase_inhibitor\", \"radiopaque_medium\", \"dopamine_receptor_agonist\", \"raf_inhibitor\", \"dna_alkylating_agent\", \"diuretic\", \"coagulation_factor_inhibitor\", \"cholinergic_receptor_antagonist\", \"cholesterol_inhibitor\", \"retinoid_receptor_antagonist\", \"chelating_agent\", \"cdk_inhibitor\", \"cc_chemokine_receptor_antagonist\", \"serotonin_receptor_agonist\", \"cannabinoid_receptor_antagonist\", \"gamma_secretase_inhibitor\", \"calcium_channel_blocker\", \"glutamate_receptor_agonist\", \"proteasome_inhibitor\", \"opioid_receptor_antagonist\", \"opioid_receptor_agonist\", \"parp_inhibitor\", \"nicotinic_receptor_agonist\", \"phosphodiesterase_inhibitor\", \"mucolytic_agent\", \"mtor_inhibitor\", \"monoamine_oxidase_inhibitor\", \"membrane_integrity_inhibitor\", \"mek_inhibitor\", \"lxr_agonist\", \"lipoxygenase_inhibitor\", \"leukotriene_receptor_antagonist\", \"leukotriene_inhibitor\", \"laxative\", \"insulin_sensitizer\", \"potassium_channel_antagonist\", \"hsp_inhibitor\", \"hmgcr_inhibitor\", \"prostanoid_receptor_antagonist\", \"histamine_receptor_antagonist\", \"histamine_receptor_agonist\", \"hdac_inhibitor\", \"gsk_inhibitor\", \"calcineurin_inhibitor\", \"retinoid_receptor_agonist\", \"bromodomain_inhibitor\", \"tropomyosin_receptor_kinase_inhibitor\", \"antiarrhythmic\", \"tachykinin_antagonist\", \"anti-inflammatory\", \"atm_kinase_inhibitor\", \"atp-sensitive_potassium_channel_antagonist\", \"anesthetic_-_local\", \"androgen_receptor_antagonist\", \"androgen_receptor_agonist\", \"autotaxin_inhibitor\", \"bacterial_30s_ribosomal_subunit_inhibitor\", \"bacterial_50s_ribosomal_subunit_inhibitor\", \"sodium_channel_inhibitor\", \"tubulin_inhibitor\", \"antioxidant\", \"adenosine_receptor_antagonist\", \"vegfr_inhibitor\", \"bacterial_cell_wall_synthesis_inhibitor\", \"ubiquitin_specific_protease_inhibitor\", \"bacterial_dna_gyrase_inhibitor\", \"bacterial_dna_inhibitor\", \"akt_inhibitor\", \"acetylcholine_receptor_agonist\", \"benzodiazepine_receptor_agonist\", \"acetylcholine_receptor_antagonist\", \"adenosine_receptor_agonist\", \"steroid\", \"trpv_antagonist\", \"pi3k_inhibitor\", \"cyclooxygenase_inhibitor\", \"aldehyde_dehydrogenase_inhibitor\", \"potassium_channel_activator\", \"tyrosine_kinase_inhibitor\", \"bacterial_membrane_integrity_inhibitor\", \"immunosuppressant\", \"aurora_kinase_inhibitor\", \"jak_inhibitor\", \"focal_adhesion_kinase_inhibitor\", \"adenylyl_cyclase_activator\", \"flt3_inhibitor\", \"p38_mapk_inhibitor\", \"nitric_oxide_production_inhibitor\", \"lipase_inhibitor\", \"pdgfr_inhibitor\", \"cytochrome_p450_inhibitor\", \"glucocorticoid_receptor_agonist\", \"monoacylglycerol_lipase_inhibitor\", \"syk_inhibitor\", \"kit_inhibitor\", \"adrenergic_receptor_agonist\", \"farnesyltransferase_inhibitor\", \"analgesic\", \"src_inhibitor\", \"atp_synthase_inhibitor\", \"catechol_o_methyltransferase_inhibitor\", \"corticosteroid_agonist\", \"mdm_inhibitor\", \"smoothened_receptor_antagonist\", \"egfr_inhibitor\", \"antihistamine\", \"estrogen_receptor_agonist\", \"progesterone_receptor_agonist\", \"mineralocorticoid_receptor_antagonist\", \"chk_inhibitor\", \"antifungal\", \"tgf-beta_receptor_inhibitor\", \"ras_gtpase_inhibitor\", \"antimalarial\", \"gonadotropin_receptor_agonist\", \"glutamate_receptor_antagonist\", \"anticonvulsant\", \"ampk_activator\", \"sphingosine_receptor_agonist\", \"trpv_agonist\", \"rna_polymerase_inhibitor\", \"tlr_antagonist\", \"atr_kinase_inhibitor\", \"pdk_inhibitor\", \"antiviral\", \"phospholipase_inhibitor\", \"ppar_receptor_agonist\", \"fatty_acid_receptor_agonist\", \"histone_lysine_demethylase_inhibitor\", \"p-glycoprotein_inhibitor\", \"adrenergic_receptor_antagonist\", \"norepinephrine_reuptake_inhibitor\", \"serotonin_receptor_antagonist\", \"glutamate_inhibitor\", \"cck_receptor_antagonist\", \"bcr-abl_inhibitor\", \"monopolar_spindle_1_kinase_inhibitor\", \"imidazoline_receptor_agonist\", \"wnt_inhibitor\", \"fungal_squalene_epoxidase_inhibitor\", \"vitamin_b\", \"protein_tyrosine_kinase_inhibitor\", \"topoisomerase_inhibitor\", \"hiv_inhibitor\", \"histone_lysine_methyltransferase_inhibitor\", \"faah_inhibitor\", \"acat_inhibitor\", \"bcl_inhibitor\", \"insulin_secretagogue\", \"igf-1_inhibitor\", \"acetylcholinesterase_inhibitor\", \"ribonucleoside_reductase_inhibitor\", \"nitric_oxide_synthase_inhibitor\", \"vitamin_d_receptor_agonist\", \"free_radical_scavenger\", \"caspase_activator\", \"progesterone_receptor_antagonist\", \"btk_inhibitor\", \"rho_associated_kinase_inhibitor\", \"11-beta-hsd1_inhibitor\", \"alk_inhibitor\", \"ikk_inhibitor\", \"casein_kinase_inhibitor\", \"apoptosis_stimulant\", \"transient_receptor_potential_channel_antagonist\", \"pkc_inhibitor\", \"thrombin_inhibitor\", \"atpase_inhibitor\", \"ppar_receptor_antagonist\", \"angiotensin_receptor_antagonist\", \"nrf2_activator\", \"neuropeptide_receptor_antagonist\", \"dipeptidyl_peptidase_inhibitor\", \"aromatase_inhibitor\", \"tnf_inhibitor\", \"carbonic_anhydrase_inhibitor\", \"dna_inhibitor\", \"integrin_inhibitor\", \"angiogenesis_inhibitor\", \"thymidylate_synthase_inhibitor\", \"dopamine_receptor_antagonist\", \"cannabinoid_receptor_agonist\", \"chloride_channel_blocker\", \"5-alpha_reductase_inhibitor\", \"sigma_receptor_antagonist\", \"antiprotozoal\", \"sigma_receptor_agonist\", \"nfkb_inhibitor\", \"prostaglandin_inhibitor\", \"antibiotic\", \"dihydrofolate_reductase_inhibitor\", \"tlr_agonist\", \"beta_amyloid_inhibitor\", \"serotonin_reuptake_inhibitor\", \"nitric_oxide_donor\", \"bacterial_antifolate\", \"orexin_receptor_antagonist\"], \"yaxis\": \"y\"}],\n",
       "                        {\"barmode\": \"relative\", \"height\": 2000, \"legend\": {\"tracegroupgap\": 0}, \"template\": {\"data\": {\"bar\": [{\"error_x\": {\"color\": \"#2a3f5f\"}, \"error_y\": {\"color\": \"#2a3f5f\"}, \"marker\": {\"line\": {\"color\": \"#E5ECF6\", \"width\": 0.5}}, \"type\": \"bar\"}], \"barpolar\": [{\"marker\": {\"line\": {\"color\": \"#E5ECF6\", \"width\": 0.5}}, \"type\": \"barpolar\"}], \"carpet\": [{\"aaxis\": {\"endlinecolor\": \"#2a3f5f\", \"gridcolor\": \"white\", \"linecolor\": \"white\", \"minorgridcolor\": \"white\", \"startlinecolor\": \"#2a3f5f\"}, \"baxis\": {\"endlinecolor\": \"#2a3f5f\", \"gridcolor\": \"white\", \"linecolor\": \"white\", \"minorgridcolor\": \"white\", \"startlinecolor\": \"#2a3f5f\"}, \"type\": \"carpet\"}], \"choropleth\": [{\"colorbar\": {\"outlinewidth\": 0, \"ticks\": \"\"}, \"type\": \"choropleth\"}], \"contour\": [{\"colorbar\": {\"outlinewidth\": 0, \"ticks\": \"\"}, \"colorscale\": [[0.0, \"#0d0887\"], [0.1111111111111111, \"#46039f\"], [0.2222222222222222, \"#7201a8\"], [0.3333333333333333, \"#9c179e\"], [0.4444444444444444, \"#bd3786\"], [0.5555555555555556, \"#d8576b\"], [0.6666666666666666, \"#ed7953\"], [0.7777777777777778, \"#fb9f3a\"], [0.8888888888888888, \"#fdca26\"], [1.0, \"#f0f921\"]], \"type\": \"contour\"}], \"contourcarpet\": [{\"colorbar\": {\"outlinewidth\": 0, \"ticks\": \"\"}, \"type\": \"contourcarpet\"}], \"heatmap\": [{\"colorbar\": {\"outlinewidth\": 0, \"ticks\": \"\"}, \"colorscale\": [[0.0, \"#0d0887\"], [0.1111111111111111, \"#46039f\"], [0.2222222222222222, \"#7201a8\"], [0.3333333333333333, \"#9c179e\"], [0.4444444444444444, \"#bd3786\"], [0.5555555555555556, \"#d8576b\"], [0.6666666666666666, \"#ed7953\"], [0.7777777777777778, \"#fb9f3a\"], [0.8888888888888888, \"#fdca26\"], [1.0, \"#f0f921\"]], \"type\": \"heatmap\"}], \"heatmapgl\": [{\"colorbar\": {\"outlinewidth\": 0, \"ticks\": \"\"}, \"colorscale\": [[0.0, \"#0d0887\"], [0.1111111111111111, \"#46039f\"], [0.2222222222222222, \"#7201a8\"], [0.3333333333333333, \"#9c179e\"], [0.4444444444444444, \"#bd3786\"], [0.5555555555555556, \"#d8576b\"], [0.6666666666666666, \"#ed7953\"], [0.7777777777777778, \"#fb9f3a\"], [0.8888888888888888, \"#fdca26\"], [1.0, \"#f0f921\"]], \"type\": \"heatmapgl\"}], \"histogram\": [{\"marker\": {\"colorbar\": {\"outlinewidth\": 0, \"ticks\": \"\"}}, \"type\": \"histogram\"}], \"histogram2d\": [{\"colorbar\": {\"outlinewidth\": 0, \"ticks\": \"\"}, \"colorscale\": [[0.0, \"#0d0887\"], [0.1111111111111111, \"#46039f\"], [0.2222222222222222, \"#7201a8\"], [0.3333333333333333, \"#9c179e\"], [0.4444444444444444, \"#bd3786\"], [0.5555555555555556, \"#d8576b\"], [0.6666666666666666, \"#ed7953\"], [0.7777777777777778, \"#fb9f3a\"], [0.8888888888888888, \"#fdca26\"], [1.0, \"#f0f921\"]], \"type\": \"histogram2d\"}], \"histogram2dcontour\": [{\"colorbar\": {\"outlinewidth\": 0, \"ticks\": \"\"}, \"colorscale\": [[0.0, \"#0d0887\"], [0.1111111111111111, \"#46039f\"], [0.2222222222222222, \"#7201a8\"], [0.3333333333333333, \"#9c179e\"], [0.4444444444444444, \"#bd3786\"], [0.5555555555555556, \"#d8576b\"], [0.6666666666666666, \"#ed7953\"], [0.7777777777777778, \"#fb9f3a\"], [0.8888888888888888, \"#fdca26\"], [1.0, \"#f0f921\"]], \"type\": \"histogram2dcontour\"}], \"mesh3d\": [{\"colorbar\": {\"outlinewidth\": 0, \"ticks\": \"\"}, \"type\": \"mesh3d\"}], \"parcoords\": [{\"line\": {\"colorbar\": {\"outlinewidth\": 0, \"ticks\": \"\"}}, \"type\": \"parcoords\"}], \"pie\": [{\"automargin\": true, \"type\": \"pie\"}], \"scatter\": [{\"marker\": {\"colorbar\": {\"outlinewidth\": 0, \"ticks\": \"\"}}, \"type\": \"scatter\"}], \"scatter3d\": [{\"line\": {\"colorbar\": {\"outlinewidth\": 0, \"ticks\": \"\"}}, \"marker\": {\"colorbar\": {\"outlinewidth\": 0, \"ticks\": \"\"}}, \"type\": \"scatter3d\"}], \"scattercarpet\": [{\"marker\": {\"colorbar\": {\"outlinewidth\": 0, \"ticks\": \"\"}}, \"type\": \"scattercarpet\"}], \"scattergeo\": [{\"marker\": {\"colorbar\": {\"outlinewidth\": 0, \"ticks\": \"\"}}, \"type\": \"scattergeo\"}], \"scattergl\": [{\"marker\": {\"colorbar\": {\"outlinewidth\": 0, \"ticks\": \"\"}}, \"type\": \"scattergl\"}], \"scattermapbox\": [{\"marker\": {\"colorbar\": {\"outlinewidth\": 0, \"ticks\": \"\"}}, \"type\": \"scattermapbox\"}], \"scatterpolar\": [{\"marker\": {\"colorbar\": {\"outlinewidth\": 0, \"ticks\": \"\"}}, \"type\": \"scatterpolar\"}], \"scatterpolargl\": [{\"marker\": {\"colorbar\": {\"outlinewidth\": 0, \"ticks\": \"\"}}, \"type\": \"scatterpolargl\"}], \"scatterternary\": [{\"marker\": {\"colorbar\": {\"outlinewidth\": 0, \"ticks\": \"\"}}, \"type\": \"scatterternary\"}], \"surface\": [{\"colorbar\": {\"outlinewidth\": 0, \"ticks\": \"\"}, \"colorscale\": [[0.0, \"#0d0887\"], [0.1111111111111111, \"#46039f\"], [0.2222222222222222, \"#7201a8\"], [0.3333333333333333, \"#9c179e\"], [0.4444444444444444, \"#bd3786\"], [0.5555555555555556, \"#d8576b\"], [0.6666666666666666, \"#ed7953\"], [0.7777777777777778, \"#fb9f3a\"], [0.8888888888888888, \"#fdca26\"], [1.0, \"#f0f921\"]], \"type\": \"surface\"}], \"table\": [{\"cells\": {\"fill\": {\"color\": \"#EBF0F8\"}, \"line\": {\"color\": \"white\"}}, \"header\": {\"fill\": {\"color\": \"#C8D4E3\"}, \"line\": {\"color\": \"white\"}}, \"type\": \"table\"}]}, \"layout\": {\"annotationdefaults\": {\"arrowcolor\": \"#2a3f5f\", \"arrowhead\": 0, \"arrowwidth\": 1}, \"coloraxis\": {\"colorbar\": {\"outlinewidth\": 0, \"ticks\": \"\"}}, \"colorscale\": {\"diverging\": [[0, \"#8e0152\"], [0.1, \"#c51b7d\"], [0.2, \"#de77ae\"], [0.3, \"#f1b6da\"], [0.4, \"#fde0ef\"], [0.5, \"#f7f7f7\"], [0.6, \"#e6f5d0\"], [0.7, \"#b8e186\"], [0.8, \"#7fbc41\"], [0.9, \"#4d9221\"], [1, \"#276419\"]], \"sequential\": [[0.0, \"#0d0887\"], [0.1111111111111111, \"#46039f\"], [0.2222222222222222, \"#7201a8\"], [0.3333333333333333, \"#9c179e\"], [0.4444444444444444, \"#bd3786\"], [0.5555555555555556, \"#d8576b\"], [0.6666666666666666, \"#ed7953\"], [0.7777777777777778, \"#fb9f3a\"], [0.8888888888888888, \"#fdca26\"], [1.0, \"#f0f921\"]], \"sequentialminus\": [[0.0, \"#0d0887\"], [0.1111111111111111, \"#46039f\"], [0.2222222222222222, \"#7201a8\"], [0.3333333333333333, \"#9c179e\"], [0.4444444444444444, \"#bd3786\"], [0.5555555555555556, \"#d8576b\"], [0.6666666666666666, \"#ed7953\"], [0.7777777777777778, \"#fb9f3a\"], [0.8888888888888888, \"#fdca26\"], [1.0, \"#f0f921\"]]}, \"colorway\": [\"#636efa\", \"#EF553B\", \"#00cc96\", \"#ab63fa\", \"#FFA15A\", \"#19d3f3\", \"#FF6692\", \"#B6E880\", \"#FF97FF\", \"#FECB52\"], \"font\": {\"color\": \"#2a3f5f\"}, \"geo\": {\"bgcolor\": \"white\", \"lakecolor\": \"white\", \"landcolor\": \"#E5ECF6\", \"showlakes\": true, \"showland\": true, \"subunitcolor\": \"white\"}, \"hoverlabel\": {\"align\": \"left\"}, \"hovermode\": \"closest\", \"mapbox\": {\"style\": \"light\"}, \"paper_bgcolor\": \"white\", \"plot_bgcolor\": \"#E5ECF6\", \"polar\": {\"angularaxis\": {\"gridcolor\": \"white\", \"linecolor\": \"white\", \"ticks\": \"\"}, \"bgcolor\": \"#E5ECF6\", \"radialaxis\": {\"gridcolor\": \"white\", \"linecolor\": \"white\", \"ticks\": \"\"}}, \"scene\": {\"xaxis\": {\"backgroundcolor\": \"#E5ECF6\", \"gridcolor\": \"white\", \"gridwidth\": 2, \"linecolor\": \"white\", \"showbackground\": true, \"ticks\": \"\", \"zerolinecolor\": \"white\"}, \"yaxis\": {\"backgroundcolor\": \"#E5ECF6\", \"gridcolor\": \"white\", \"gridwidth\": 2, \"linecolor\": \"white\", \"showbackground\": true, \"ticks\": \"\", \"zerolinecolor\": \"white\"}, \"zaxis\": {\"backgroundcolor\": \"#E5ECF6\", \"gridcolor\": \"white\", \"gridwidth\": 2, \"linecolor\": \"white\", \"showbackground\": true, \"ticks\": \"\", \"zerolinecolor\": \"white\"}}, \"shapedefaults\": {\"line\": {\"color\": \"#2a3f5f\"}}, \"ternary\": {\"aaxis\": {\"gridcolor\": \"white\", \"linecolor\": \"white\", \"ticks\": \"\"}, \"baxis\": {\"gridcolor\": \"white\", \"linecolor\": \"white\", \"ticks\": \"\"}, \"bgcolor\": \"#E5ECF6\", \"caxis\": {\"gridcolor\": \"white\", \"linecolor\": \"white\", \"ticks\": \"\"}}, \"title\": {\"x\": 0.05}, \"xaxis\": {\"automargin\": true, \"gridcolor\": \"white\", \"linecolor\": \"white\", \"ticks\": \"\", \"title\": {\"standoff\": 15}, \"zerolinecolor\": \"white\", \"zerolinewidth\": 2}, \"yaxis\": {\"automargin\": true, \"gridcolor\": \"white\", \"linecolor\": \"white\", \"ticks\": \"\", \"title\": {\"standoff\": 15}, \"zerolinecolor\": \"white\", \"zerolinewidth\": 2}}}, \"title\": {\"text\": \"Columns with the higher number of positive samples (top 50) in scored dataset\"}, \"width\": 800, \"xaxis\": {\"anchor\": \"y\", \"domain\": [0.0, 1.0], \"title\": {\"text\": \"nonzero_records\"}}, \"yaxis\": {\"anchor\": \"x\", \"domain\": [0.0, 1.0], \"title\": {\"text\": \"column\"}}},\n",
       "                        {\"responsive\": true}\n",
       "                    ).then(function(){\n",
       "                            \n",
       "var gd = document.getElementById('399c6019-411a-443b-967d-19c17c91748b');\n",
       "var x = new MutationObserver(function (mutations, observer) {{\n",
       "        var display = window.getComputedStyle(gd).display;\n",
       "        if (!display || display === 'none') {{\n",
       "            console.log([gd, 'removed!']);\n",
       "            Plotly.purge(gd);\n",
       "            observer.disconnect();\n",
       "        }}\n",
       "}});\n",
       "\n",
       "// Listen for the removal of the full notebook cells\n",
       "var notebookContainer = gd.closest('#notebook-container');\n",
       "if (notebookContainer) {{\n",
       "    x.observe(notebookContainer, {childList: true});\n",
       "}}\n",
       "\n",
       "// Listen for the clearing of the current output cell\n",
       "var outputEl = gd.closest('.output');\n",
       "if (outputEl) {{\n",
       "    x.observe(outputEl, {childList: true});\n",
       "}}\n",
       "\n",
       "                        })\n",
       "                };\n",
       "                });\n",
       "            </script>\n",
       "        </div>"
      ]
     },
     "metadata": {},
     "output_type": "display_data"
    }
   ],
   "source": [
    "x = df_train_label_scr.drop(['sig_id'], axis=1).sum(axis=0).sort_values().reset_index()\n",
    "x.columns = ['column', 'nonzero_records']\n",
    "\n",
    "import plotly.express as px\n",
    "import plotly\n",
    "fig = px.bar(\n",
    "    x, \n",
    "    x='nonzero_records', \n",
    "    y='column', \n",
    "    orientation='h', \n",
    "    title='Columns with the higher number of positive samples (top 50) in scored dataset', \n",
    "    height=2000, \n",
    "    width=800\n",
    ")\n",
    "df_scr_target = x\n",
    "# fig.show()\n",
    "plotly.offline.iplot(fig, filename='top_50.png')\n",
    "\n",
    "# fig.write_image(\"top_50.png\")"
   ]
  },
  {
   "cell_type": "code",
   "execution_count": 11,
   "metadata": {},
   "outputs": [
    {
     "data": {
      "text/html": [
       "<div>\n",
       "<style scoped>\n",
       "    .dataframe tbody tr th:only-of-type {\n",
       "        vertical-align: middle;\n",
       "    }\n",
       "\n",
       "    .dataframe tbody tr th {\n",
       "        vertical-align: top;\n",
       "    }\n",
       "\n",
       "    .dataframe thead th {\n",
       "        text-align: right;\n",
       "    }\n",
       "</style>\n",
       "<table border=\"1\" class=\"dataframe\">\n",
       "  <thead>\n",
       "    <tr style=\"text-align: right;\">\n",
       "      <th></th>\n",
       "      <th>a</th>\n",
       "      <th>b</th>\n",
       "    </tr>\n",
       "  </thead>\n",
       "  <tbody>\n",
       "    <tr>\n",
       "      <th>0</th>\n",
       "      <td>1</td>\n",
       "      <td>1</td>\n",
       "    </tr>\n",
       "    <tr>\n",
       "      <th>1</th>\n",
       "      <td>2</td>\n",
       "      <td>10</td>\n",
       "    </tr>\n",
       "    <tr>\n",
       "      <th>2</th>\n",
       "      <td>3</td>\n",
       "      <td>100</td>\n",
       "    </tr>\n",
       "    <tr>\n",
       "      <th>3</th>\n",
       "      <td>4</td>\n",
       "      <td>100</td>\n",
       "    </tr>\n",
       "  </tbody>\n",
       "</table>\n",
       "</div>"
      ],
      "text/plain": [
       "   a    b\n",
       "0  1    1\n",
       "1  2   10\n",
       "2  3  100\n",
       "3  4  100"
      ]
     },
     "execution_count": 11,
     "metadata": {},
     "output_type": "execute_result"
    }
   ],
   "source": [
    "df = pd.DataFrame(np.array([[1, 1], [2, 10], [3, 100], [4, 100]]),\n",
    "                  columns=['a', 'b'])\n",
    "df.head()"
   ]
  },
  {
   "cell_type": "code",
   "execution_count": 12,
   "metadata": {},
   "outputs": [
    {
     "data": {
      "text/html": [
       "<div>\n",
       "<style scoped>\n",
       "    .dataframe tbody tr th:only-of-type {\n",
       "        vertical-align: middle;\n",
       "    }\n",
       "\n",
       "    .dataframe tbody tr th {\n",
       "        vertical-align: top;\n",
       "    }\n",
       "\n",
       "    .dataframe thead th {\n",
       "        text-align: right;\n",
       "    }\n",
       "</style>\n",
       "<table border=\"1\" class=\"dataframe\">\n",
       "  <thead>\n",
       "    <tr style=\"text-align: right;\">\n",
       "      <th></th>\n",
       "      <th>a</th>\n",
       "      <th>b</th>\n",
       "    </tr>\n",
       "  </thead>\n",
       "  <tbody>\n",
       "    <tr>\n",
       "      <th>0.1</th>\n",
       "      <td>1.3</td>\n",
       "      <td>3.7</td>\n",
       "    </tr>\n",
       "    <tr>\n",
       "      <th>0.5</th>\n",
       "      <td>2.5</td>\n",
       "      <td>55.0</td>\n",
       "    </tr>\n",
       "  </tbody>\n",
       "</table>\n",
       "</div>"
      ],
      "text/plain": [
       "       a     b\n",
       "0.1  1.3   3.7\n",
       "0.5  2.5  55.0"
      ]
     },
     "execution_count": 12,
     "metadata": {},
     "output_type": "execute_result"
    }
   ],
   "source": [
    "df.quantile([.1, .5])"
   ]
  },
  {
   "cell_type": "code",
   "execution_count": null,
   "metadata": {},
   "outputs": [],
   "source": []
  }
 ],
 "metadata": {
  "kernelspec": {
   "display_name": "Python 3",
   "language": "python",
   "name": "python3"
  },
  "language_info": {
   "codemirror_mode": {
    "name": "ipython",
    "version": 3
   },
   "file_extension": ".py",
   "mimetype": "text/x-python",
   "name": "python",
   "nbconvert_exporter": "python",
   "pygments_lexer": "ipython3",
   "version": "3.7.3"
  }
 },
 "nbformat": 4,
 "nbformat_minor": 4
}
